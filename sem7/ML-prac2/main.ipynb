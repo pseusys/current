{
 "cells": [
  {
   "cell_type": "markdown",
   "source": [
    "# Практическая работа №1"
   ],
   "metadata": {
    "collapsed": false
   }
  },
  {
   "cell_type": "markdown",
   "source": [
    "### Используемые библиотеки"
   ],
   "metadata": {
    "collapsed": false
   }
  },
  {
   "cell_type": "code",
   "execution_count": 28,
   "outputs": [],
   "source": [
    "import pandas as pd\n",
    "from sklearn.decomposition import PCA\n",
    "from numpy.linalg import eigvals"
   ],
   "metadata": {
    "collapsed": false,
    "pycharm": {
     "name": "#%% code\n"
    }
   }
  },
  {
   "cell_type": "markdown",
   "source": [
    "### Глобальные переменные"
   ],
   "metadata": {
    "collapsed": false
   }
  },
  {
   "cell_type": "markdown",
   "source": [
    "### Исходные данные\n",
    "`data1.csv`:\n",
    "```csv\n",
    "a1,a2\n",
    "4,2.9\n",
    "2.5,1\n",
    "3.5,4\n",
    "2,2.1\n",
    "```\n",
    "`data2.csv`:\n",
    "```csv\n",
    "a1,a2\n",
    "8,-20\n",
    "0,-1\n",
    "10,-19\n",
    "10,-20\n",
    "2,0\n",
    "```"
   ],
   "metadata": {
    "collapsed": false
   }
  },
  {
   "cell_type": "markdown",
   "source": [
    "## Задание 1"
   ],
   "metadata": {
    "collapsed": false
   }
  },
  {
   "cell_type": "code",
   "execution_count": 29,
   "outputs": [
    {
     "name": "stdout",
     "output_type": "stream",
     "text": [
      "Исходный набор данных:\n"
     ]
    },
    {
     "data": {
      "text/plain": "    a1   a2\n0  4.0  2.9\n1  2.5  1.0\n2  3.5  4.0\n3  2.0  2.1",
      "text/html": "<div>\n<style scoped>\n    .dataframe tbody tr th:only-of-type {\n        vertical-align: middle;\n    }\n\n    .dataframe tbody tr th {\n        vertical-align: top;\n    }\n\n    .dataframe thead th {\n        text-align: right;\n    }\n</style>\n<table border=\"1\" class=\"dataframe\">\n  <thead>\n    <tr style=\"text-align: right;\">\n      <th></th>\n      <th>a1</th>\n      <th>a2</th>\n    </tr>\n  </thead>\n  <tbody>\n    <tr>\n      <th>0</th>\n      <td>4.0</td>\n      <td>2.9</td>\n    </tr>\n    <tr>\n      <th>1</th>\n      <td>2.5</td>\n      <td>1.0</td>\n    </tr>\n    <tr>\n      <th>2</th>\n      <td>3.5</td>\n      <td>4.0</td>\n    </tr>\n    <tr>\n      <th>3</th>\n      <td>2.0</td>\n      <td>2.1</td>\n    </tr>\n  </tbody>\n</table>\n</div>"
     },
     "execution_count": 29,
     "metadata": {},
     "output_type": "execute_result"
    }
   ],
   "source": [
    "frame = pd.read_csv('data1.csv')\n",
    "print(f\"Исходный набор данных:\")\n",
    "frame"
   ],
   "metadata": {
    "collapsed": false,
    "pycharm": {
     "name": "#%% code\n"
    }
   }
  },
  {
   "cell_type": "markdown",
   "source": [],
   "metadata": {
    "collapsed": false
   }
  },
  {
   "cell_type": "code",
   "execution_count": 30,
   "outputs": [
    {
     "data": {
      "text/plain": "      0      1      2     3\n0  0.00   5.86   1.46  4.64\n1  5.86   0.00  10.00  1.46\n2  1.46  10.00   0.00  5.86\n3  4.64   1.46   5.86  0.00",
      "text/html": "<div>\n<style scoped>\n    .dataframe tbody tr th:only-of-type {\n        vertical-align: middle;\n    }\n\n    .dataframe tbody tr th {\n        vertical-align: top;\n    }\n\n    .dataframe thead th {\n        text-align: right;\n    }\n</style>\n<table border=\"1\" class=\"dataframe\">\n  <thead>\n    <tr style=\"text-align: right;\">\n      <th></th>\n      <th>0</th>\n      <th>1</th>\n      <th>2</th>\n      <th>3</th>\n    </tr>\n  </thead>\n  <tbody>\n    <tr>\n      <th>0</th>\n      <td>0.00</td>\n      <td>5.86</td>\n      <td>1.46</td>\n      <td>4.64</td>\n    </tr>\n    <tr>\n      <th>1</th>\n      <td>5.86</td>\n      <td>0.00</td>\n      <td>10.00</td>\n      <td>1.46</td>\n    </tr>\n    <tr>\n      <th>2</th>\n      <td>1.46</td>\n      <td>10.00</td>\n      <td>0.00</td>\n      <td>5.86</td>\n    </tr>\n    <tr>\n      <th>3</th>\n      <td>4.64</td>\n      <td>1.46</td>\n      <td>5.86</td>\n      <td>0.00</td>\n    </tr>\n  </tbody>\n</table>\n</div>"
     },
     "execution_count": 30,
     "metadata": {},
     "output_type": "execute_result"
    }
   ],
   "source": [
    "def k(x1, x2):\n",
    "    return (x1[\"a1\"] - x2[\"a1\"])**2 + (x1[\"a2\"] - x2[\"a2\"])**2\n",
    "\n",
    "pd.DataFrame([[k(frame.loc[i], frame.loc[j]) for j in range(0, 4)] for i in range(0, 4)])"
   ],
   "metadata": {
    "collapsed": false,
    "pycharm": {
     "name": "#%% code\n"
    }
   }
  },
  {
   "cell_type": "markdown",
   "source": [
    "## Задание 2"
   ],
   "metadata": {
    "collapsed": false
   }
  },
  {
   "cell_type": "code",
   "execution_count": 31,
   "outputs": [
    {
     "name": "stdout",
     "output_type": "stream",
     "text": [
      "Исходный набор данных:\n"
     ]
    },
    {
     "data": {
      "text/plain": "   a1  a2\n0   8 -20\n1   0  -1\n2  10 -19\n3  10 -20\n4   2   0",
      "text/html": "<div>\n<style scoped>\n    .dataframe tbody tr th:only-of-type {\n        vertical-align: middle;\n    }\n\n    .dataframe tbody tr th {\n        vertical-align: top;\n    }\n\n    .dataframe thead th {\n        text-align: right;\n    }\n</style>\n<table border=\"1\" class=\"dataframe\">\n  <thead>\n    <tr style=\"text-align: right;\">\n      <th></th>\n      <th>a1</th>\n      <th>a2</th>\n    </tr>\n  </thead>\n  <tbody>\n    <tr>\n      <th>0</th>\n      <td>8</td>\n      <td>-20</td>\n    </tr>\n    <tr>\n      <th>1</th>\n      <td>0</td>\n      <td>-1</td>\n    </tr>\n    <tr>\n      <th>2</th>\n      <td>10</td>\n      <td>-19</td>\n    </tr>\n    <tr>\n      <th>3</th>\n      <td>10</td>\n      <td>-20</td>\n    </tr>\n    <tr>\n      <th>4</th>\n      <td>2</td>\n      <td>0</td>\n    </tr>\n  </tbody>\n</table>\n</div>"
     },
     "execution_count": 31,
     "metadata": {},
     "output_type": "execute_result"
    }
   ],
   "source": [
    "frame = pd.read_csv('data2.csv')\n",
    "print(f\"Исходный набор данных:\")\n",
    "frame"
   ],
   "metadata": {
    "collapsed": false,
    "pycharm": {
     "name": "#%% code\n"
    }
   }
  },
  {
   "cell_type": "markdown",
   "source": [],
   "metadata": {
    "collapsed": false
   }
  },
  {
   "cell_type": "code",
   "execution_count": 32,
   "outputs": [
    {
     "data": {
      "text/plain": "     0\n0 -6.0\n1 -0.5\n2 -4.5\n3 -5.0\n4  1.0",
      "text/html": "<div>\n<style scoped>\n    .dataframe tbody tr th:only-of-type {\n        vertical-align: middle;\n    }\n\n    .dataframe tbody tr th {\n        vertical-align: top;\n    }\n\n    .dataframe thead th {\n        text-align: right;\n    }\n</style>\n<table border=\"1\" class=\"dataframe\">\n  <thead>\n    <tr style=\"text-align: right;\">\n      <th></th>\n      <th>0</th>\n    </tr>\n  </thead>\n  <tbody>\n    <tr>\n      <th>0</th>\n      <td>-6.0</td>\n    </tr>\n    <tr>\n      <th>1</th>\n      <td>-0.5</td>\n    </tr>\n    <tr>\n      <th>2</th>\n      <td>-4.5</td>\n    </tr>\n    <tr>\n      <th>3</th>\n      <td>-5.0</td>\n    </tr>\n    <tr>\n      <th>4</th>\n      <td>1.0</td>\n    </tr>\n  </tbody>\n</table>\n</div>"
     },
     "execution_count": 32,
     "metadata": {},
     "output_type": "execute_result"
    }
   ],
   "source": [
    "trans = frame.T\n",
    "pd.DataFrame(trans.mean())"
   ],
   "metadata": {
    "collapsed": false,
    "pycharm": {
     "name": "#%% code\n"
    }
   }
  },
  {
   "cell_type": "code",
   "execution_count": 33,
   "outputs": [
    {
     "data": {
      "text/plain": "       0     1      2      3     4\n0  392.0  14.0  406.0  420.0  28.0\n1   14.0   0.5   14.5   15.0   1.0\n2  406.0  14.5  420.5  435.0  29.0\n3  420.0  15.0  435.0  450.0  30.0\n4   28.0   1.0   29.0   30.0   2.0",
      "text/html": "<div>\n<style scoped>\n    .dataframe tbody tr th:only-of-type {\n        vertical-align: middle;\n    }\n\n    .dataframe tbody tr th {\n        vertical-align: top;\n    }\n\n    .dataframe thead th {\n        text-align: right;\n    }\n</style>\n<table border=\"1\" class=\"dataframe\">\n  <thead>\n    <tr style=\"text-align: right;\">\n      <th></th>\n      <th>0</th>\n      <th>1</th>\n      <th>2</th>\n      <th>3</th>\n      <th>4</th>\n    </tr>\n  </thead>\n  <tbody>\n    <tr>\n      <th>0</th>\n      <td>392.0</td>\n      <td>14.0</td>\n      <td>406.0</td>\n      <td>420.0</td>\n      <td>28.0</td>\n    </tr>\n    <tr>\n      <th>1</th>\n      <td>14.0</td>\n      <td>0.5</td>\n      <td>14.5</td>\n      <td>15.0</td>\n      <td>1.0</td>\n    </tr>\n    <tr>\n      <th>2</th>\n      <td>406.0</td>\n      <td>14.5</td>\n      <td>420.5</td>\n      <td>435.0</td>\n      <td>29.0</td>\n    </tr>\n    <tr>\n      <th>3</th>\n      <td>420.0</td>\n      <td>15.0</td>\n      <td>435.0</td>\n      <td>450.0</td>\n      <td>30.0</td>\n    </tr>\n    <tr>\n      <th>4</th>\n      <td>28.0</td>\n      <td>1.0</td>\n      <td>29.0</td>\n      <td>30.0</td>\n      <td>2.0</td>\n    </tr>\n  </tbody>\n</table>\n</div>"
     },
     "execution_count": 33,
     "metadata": {},
     "output_type": "execute_result"
    }
   ],
   "source": [
    "covariant = trans.cov()\n",
    "covariant"
   ],
   "metadata": {
    "collapsed": false,
    "pycharm": {
     "name": "#%% code\n"
    }
   }
  },
  {
   "cell_type": "code",
   "execution_count": 34,
   "outputs": [
    {
     "data": {
      "text/plain": "              0\n0 -1.136868e-13\n1  1.265000e+03\n2  3.500324e-28\n3 -2.706161e-16\n4  1.643584e-15",
      "text/html": "<div>\n<style scoped>\n    .dataframe tbody tr th:only-of-type {\n        vertical-align: middle;\n    }\n\n    .dataframe tbody tr th {\n        vertical-align: top;\n    }\n\n    .dataframe thead th {\n        text-align: right;\n    }\n</style>\n<table border=\"1\" class=\"dataframe\">\n  <thead>\n    <tr style=\"text-align: right;\">\n      <th></th>\n      <th>0</th>\n    </tr>\n  </thead>\n  <tbody>\n    <tr>\n      <th>0</th>\n      <td>-1.136868e-13</td>\n    </tr>\n    <tr>\n      <th>1</th>\n      <td>1.265000e+03</td>\n    </tr>\n    <tr>\n      <th>2</th>\n      <td>3.500324e-28</td>\n    </tr>\n    <tr>\n      <th>3</th>\n      <td>-2.706161e-16</td>\n    </tr>\n    <tr>\n      <th>4</th>\n      <td>1.643584e-15</td>\n    </tr>\n  </tbody>\n</table>\n</div>"
     },
     "execution_count": 34,
     "metadata": {},
     "output_type": "execute_result"
    }
   ],
   "source": [
    "pd.DataFrame(eigvals(covariant.values))"
   ],
   "metadata": {
    "collapsed": false,
    "pycharm": {
     "name": "#%% code\n"
    }
   }
  },
  {
   "cell_type": "code",
   "execution_count": 40,
   "outputs": [
    {
     "data": {
      "text/plain": "     0    1    2    3    4\n0  1.0  1.0  1.0  1.0  1.0\n1  1.0  1.0  1.0  1.0  1.0\n2  1.0  1.0  1.0  1.0  1.0\n3  1.0  1.0  1.0  1.0  1.0\n4  1.0  1.0  1.0  1.0  1.0",
      "text/html": "<div>\n<style scoped>\n    .dataframe tbody tr th:only-of-type {\n        vertical-align: middle;\n    }\n\n    .dataframe tbody tr th {\n        vertical-align: top;\n    }\n\n    .dataframe thead th {\n        text-align: right;\n    }\n</style>\n<table border=\"1\" class=\"dataframe\">\n  <thead>\n    <tr style=\"text-align: right;\">\n      <th></th>\n      <th>0</th>\n      <th>1</th>\n      <th>2</th>\n      <th>3</th>\n      <th>4</th>\n    </tr>\n  </thead>\n  <tbody>\n    <tr>\n      <th>0</th>\n      <td>1.0</td>\n      <td>1.0</td>\n      <td>1.0</td>\n      <td>1.0</td>\n      <td>1.0</td>\n    </tr>\n    <tr>\n      <th>1</th>\n      <td>1.0</td>\n      <td>1.0</td>\n      <td>1.0</td>\n      <td>1.0</td>\n      <td>1.0</td>\n    </tr>\n    <tr>\n      <th>2</th>\n      <td>1.0</td>\n      <td>1.0</td>\n      <td>1.0</td>\n      <td>1.0</td>\n      <td>1.0</td>\n    </tr>\n    <tr>\n      <th>3</th>\n      <td>1.0</td>\n      <td>1.0</td>\n      <td>1.0</td>\n      <td>1.0</td>\n      <td>1.0</td>\n    </tr>\n    <tr>\n      <th>4</th>\n      <td>1.0</td>\n      <td>1.0</td>\n      <td>1.0</td>\n      <td>1.0</td>\n      <td>1.0</td>\n    </tr>\n  </tbody>\n</table>\n</div>"
     },
     "execution_count": 40,
     "metadata": {},
     "output_type": "execute_result"
    }
   ],
   "source": [
    "frame.corr()"
   ],
   "metadata": {
    "collapsed": false,
    "pycharm": {
     "name": "#%% code\n"
    }
   }
  },
  {
   "cell_type": "markdown",
   "source": [
    "## Задание 3"
   ],
   "metadata": {
    "collapsed": false
   }
  },
  {
   "cell_type": "code",
   "execution_count": 36,
   "outputs": [
    {
     "data": {
      "text/plain": "          0         1         2         3         4\n0  0.556670  0.019881  0.576551  0.596432  0.039762\n1  0.044455 -0.446646  0.016465  0.017033 -0.893292",
      "text/html": "<div>\n<style scoped>\n    .dataframe tbody tr th:only-of-type {\n        vertical-align: middle;\n    }\n\n    .dataframe tbody tr th {\n        vertical-align: top;\n    }\n\n    .dataframe thead th {\n        text-align: right;\n    }\n</style>\n<table border=\"1\" class=\"dataframe\">\n  <thead>\n    <tr style=\"text-align: right;\">\n      <th></th>\n      <th>0</th>\n      <th>1</th>\n      <th>2</th>\n      <th>3</th>\n      <th>4</th>\n    </tr>\n  </thead>\n  <tbody>\n    <tr>\n      <th>0</th>\n      <td>0.556670</td>\n      <td>0.019881</td>\n      <td>0.576551</td>\n      <td>0.596432</td>\n      <td>0.039762</td>\n    </tr>\n    <tr>\n      <th>1</th>\n      <td>0.044455</td>\n      <td>-0.446646</td>\n      <td>0.016465</td>\n      <td>0.017033</td>\n      <td>-0.893292</td>\n    </tr>\n  </tbody>\n</table>\n</div>"
     },
     "execution_count": 36,
     "metadata": {},
     "output_type": "execute_result"
    }
   ],
   "source": [
    "pca = PCA(n_components=2)\n",
    "pca.fit(frame.T)\n",
    "pd.DataFrame(pca.components_)"
   ],
   "metadata": {
    "collapsed": false,
    "pycharm": {
     "name": "#%% code\n"
    }
   }
  },
  {
   "cell_type": "markdown",
   "source": [
    "#### Медиана\n",
    "##### Медиана - это число, которое находится в середине набора, если его упорядочить по возрастанию.\n",
    "##### Формула:\n",
    "\\begin{equation}\n",
    "    med(x) =\n",
    "    \\begin{cases}\n",
    "        X_{\\frac{n}{2}} & \\text{если $n$ чётное} \\\\\n",
    "        \\frac{X_{\\frac{n-1}{2}} - X_{\\frac{n+1}{2}}}{2} & \\text{если $n$ нечётное}\n",
    "    \\end{cases}\n",
    "\\end{equation}\n",
    ",где $X$ - отсортированный набор значений, $n$ - количество значений в наборе.\n"
   ],
   "metadata": {
    "collapsed": false
   }
  }
 ],
 "metadata": {
  "kernelspec": {
   "name": "python3",
   "language": "python",
   "display_name": "Python 3 (ipykernel)"
  },
  "language_info": {
   "codemirror_mode": {
    "name": "ipython",
    "version": 3
   },
   "file_extension": ".py",
   "mimetype": "text/x-python",
   "name": "python",
   "nbconvert_exporter": "python",
   "pygments_lexer": "ipython3",
   "version": "3.8.10"
  }
 },
 "nbformat": 4,
 "nbformat_minor": 1
}