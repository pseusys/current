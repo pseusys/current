{
 "cells": [
  {
   "cell_type": "markdown",
   "source": [
    "# Практическая работа №2"
   ],
   "metadata": {
    "collapsed": false
   }
  },
  {
   "cell_type": "markdown",
   "source": [
    "### Используемые библиотеки"
   ],
   "metadata": {
    "collapsed": false
   }
  },
  {
   "cell_type": "code",
   "execution_count": 215,
   "outputs": [],
   "source": [
    "from math import sqrt\n",
    "\n",
    "import pandas as pd\n",
    "from sklearn.decomposition import PCA\n",
    "from numpy.linalg import eigvals"
   ],
   "metadata": {
    "collapsed": false,
    "pycharm": {
     "name": "#%% code\n"
    }
   }
  },
  {
   "cell_type": "markdown",
   "source": [
    "### Глобальные переменные"
   ],
   "metadata": {
    "collapsed": false
   }
  },
  {
   "cell_type": "markdown",
   "source": [
    "### Исходные данные\n",
    "`data1.csv`:\n",
    "```csv\n",
    "a1,a2\n",
    "4,2.9\n",
    "2.5,1\n",
    "3.5,4\n",
    "2,2.1\n",
    "```\n",
    "`data2.csv`:\n",
    "```csv\n",
    "a1,a2\n",
    "8,-20\n",
    "0,-1\n",
    "10,-19\n",
    "10,-20\n",
    "2,0\n",
    "```"
   ],
   "metadata": {
    "collapsed": false
   }
  },
  {
   "cell_type": "markdown",
   "source": [
    "## Задание 1"
   ],
   "metadata": {
    "collapsed": false
   }
  },
  {
   "cell_type": "code",
   "execution_count": 216,
   "outputs": [
    {
     "name": "stdout",
     "output_type": "stream",
     "text": [
      "Исходный набор данных:\n"
     ]
    },
    {
     "data": {
      "text/plain": "    a1   a2\n0  4.0  2.9\n1  2.5  1.0\n2  3.5  4.0\n3  2.0  2.1",
      "text/html": "<div>\n<style scoped>\n    .dataframe tbody tr th:only-of-type {\n        vertical-align: middle;\n    }\n\n    .dataframe tbody tr th {\n        vertical-align: top;\n    }\n\n    .dataframe thead th {\n        text-align: right;\n    }\n</style>\n<table border=\"1\" class=\"dataframe\">\n  <thead>\n    <tr style=\"text-align: right;\">\n      <th></th>\n      <th>a1</th>\n      <th>a2</th>\n    </tr>\n  </thead>\n  <tbody>\n    <tr>\n      <th>0</th>\n      <td>4.0</td>\n      <td>2.9</td>\n    </tr>\n    <tr>\n      <th>1</th>\n      <td>2.5</td>\n      <td>1.0</td>\n    </tr>\n    <tr>\n      <th>2</th>\n      <td>3.5</td>\n      <td>4.0</td>\n    </tr>\n    <tr>\n      <th>3</th>\n      <td>2.0</td>\n      <td>2.1</td>\n    </tr>\n  </tbody>\n</table>\n</div>"
     },
     "execution_count": 216,
     "metadata": {},
     "output_type": "execute_result"
    }
   ],
   "source": [
    "frame = pd.read_csv('data1.csv')\n",
    "print(f\"Исходный набор данных:\")\n",
    "frame"
   ],
   "metadata": {
    "collapsed": false,
    "pycharm": {
     "name": "#%% code\n"
    }
   }
  },
  {
   "cell_type": "markdown",
   "source": [],
   "metadata": {
    "collapsed": false
   }
  },
  {
   "cell_type": "code",
   "execution_count": 217,
   "outputs": [
    {
     "name": "stdout",
     "output_type": "stream",
     "text": [
      "Ядерная матрица:\n"
     ]
    },
    {
     "data": {
      "text/plain": "      0      1      2     3\n0  0.00   5.86   1.46  4.64\n1  5.86   0.00  10.00  1.46\n2  1.46  10.00   0.00  5.86\n3  4.64   1.46   5.86  0.00",
      "text/html": "<div>\n<style scoped>\n    .dataframe tbody tr th:only-of-type {\n        vertical-align: middle;\n    }\n\n    .dataframe tbody tr th {\n        vertical-align: top;\n    }\n\n    .dataframe thead th {\n        text-align: right;\n    }\n</style>\n<table border=\"1\" class=\"dataframe\">\n  <thead>\n    <tr style=\"text-align: right;\">\n      <th></th>\n      <th>0</th>\n      <th>1</th>\n      <th>2</th>\n      <th>3</th>\n    </tr>\n  </thead>\n  <tbody>\n    <tr>\n      <th>0</th>\n      <td>0.00</td>\n      <td>5.86</td>\n      <td>1.46</td>\n      <td>4.64</td>\n    </tr>\n    <tr>\n      <th>1</th>\n      <td>5.86</td>\n      <td>0.00</td>\n      <td>10.00</td>\n      <td>1.46</td>\n    </tr>\n    <tr>\n      <th>2</th>\n      <td>1.46</td>\n      <td>10.00</td>\n      <td>0.00</td>\n      <td>5.86</td>\n    </tr>\n    <tr>\n      <th>3</th>\n      <td>4.64</td>\n      <td>1.46</td>\n      <td>5.86</td>\n      <td>0.00</td>\n    </tr>\n  </tbody>\n</table>\n</div>"
     },
     "execution_count": 217,
     "metadata": {},
     "output_type": "execute_result"
    }
   ],
   "source": [
    "def k(x1, x2):\n",
    "    return (x1[\"a1\"] - x2[\"a1\"])**2 + (x1[\"a2\"] - x2[\"a2\"])**2\n",
    "\n",
    "print(\"Ядерная матрица:\")\n",
    "pd.DataFrame([[k(frame.loc[i], frame.loc[j]) for j in range(0, 4)] for i in range(0, 4)])"
   ],
   "metadata": {
    "collapsed": false,
    "pycharm": {
     "name": "#%% code\n"
    }
   }
  },
  {
   "cell_type": "markdown",
   "source": [
    "## Задание 2"
   ],
   "metadata": {
    "collapsed": false
   }
  },
  {
   "cell_type": "code",
   "execution_count": 218,
   "outputs": [
    {
     "name": "stdout",
     "output_type": "stream",
     "text": [
      "Исходный набор данных:\n"
     ]
    },
    {
     "data": {
      "text/plain": "   a1  a2\n0   8 -20\n1   0  -1\n2  10 -19\n3  10 -20\n4   2   0",
      "text/html": "<div>\n<style scoped>\n    .dataframe tbody tr th:only-of-type {\n        vertical-align: middle;\n    }\n\n    .dataframe tbody tr th {\n        vertical-align: top;\n    }\n\n    .dataframe thead th {\n        text-align: right;\n    }\n</style>\n<table border=\"1\" class=\"dataframe\">\n  <thead>\n    <tr style=\"text-align: right;\">\n      <th></th>\n      <th>a1</th>\n      <th>a2</th>\n    </tr>\n  </thead>\n  <tbody>\n    <tr>\n      <th>0</th>\n      <td>8</td>\n      <td>-20</td>\n    </tr>\n    <tr>\n      <th>1</th>\n      <td>0</td>\n      <td>-1</td>\n    </tr>\n    <tr>\n      <th>2</th>\n      <td>10</td>\n      <td>-19</td>\n    </tr>\n    <tr>\n      <th>3</th>\n      <td>10</td>\n      <td>-20</td>\n    </tr>\n    <tr>\n      <th>4</th>\n      <td>2</td>\n      <td>0</td>\n    </tr>\n  </tbody>\n</table>\n</div>"
     },
     "execution_count": 218,
     "metadata": {},
     "output_type": "execute_result"
    }
   ],
   "source": [
    "frame = pd.read_csv('data2.csv')\n",
    "print(f\"Исходный набор данных:\")\n",
    "frame"
   ],
   "metadata": {
    "collapsed": false,
    "pycharm": {
     "name": "#%% code\n"
    }
   }
  },
  {
   "cell_type": "markdown",
   "source": [],
   "metadata": {
    "collapsed": false
   }
  },
  {
   "cell_type": "code",
   "execution_count": 219,
   "outputs": [
    {
     "name": "stdout",
     "output_type": "stream",
     "text": [
      "Среднее:\n"
     ]
    },
    {
     "data": {
      "text/plain": "       0\na1   6.0\na2 -12.0",
      "text/html": "<div>\n<style scoped>\n    .dataframe tbody tr th:only-of-type {\n        vertical-align: middle;\n    }\n\n    .dataframe tbody tr th {\n        vertical-align: top;\n    }\n\n    .dataframe thead th {\n        text-align: right;\n    }\n</style>\n<table border=\"1\" class=\"dataframe\">\n  <thead>\n    <tr style=\"text-align: right;\">\n      <th></th>\n      <th>0</th>\n    </tr>\n  </thead>\n  <tbody>\n    <tr>\n      <th>a1</th>\n      <td>6.0</td>\n    </tr>\n    <tr>\n      <th>a2</th>\n      <td>-12.0</td>\n    </tr>\n  </tbody>\n</table>\n</div>"
     },
     "execution_count": 219,
     "metadata": {},
     "output_type": "execute_result"
    }
   ],
   "source": [
    "mean = frame.mean()\n",
    "print(\"Среднее:\")\n",
    "pd.DataFrame(mean)"
   ],
   "metadata": {
    "collapsed": false,
    "pycharm": {
     "name": "#%% code\n"
    }
   }
  },
  {
   "cell_type": "code",
   "execution_count": 220,
   "outputs": [
    {
     "name": "stdout",
     "output_type": "stream",
     "text": [
      "Ковариационная матрица:\n"
     ]
    },
    {
     "data": {
      "text/plain": "      a1     a2\na1  22.0  -47.5\na2 -47.5  110.5",
      "text/html": "<div>\n<style scoped>\n    .dataframe tbody tr th:only-of-type {\n        vertical-align: middle;\n    }\n\n    .dataframe tbody tr th {\n        vertical-align: top;\n    }\n\n    .dataframe thead th {\n        text-align: right;\n    }\n</style>\n<table border=\"1\" class=\"dataframe\">\n  <thead>\n    <tr style=\"text-align: right;\">\n      <th></th>\n      <th>a1</th>\n      <th>a2</th>\n    </tr>\n  </thead>\n  <tbody>\n    <tr>\n      <th>a1</th>\n      <td>22.0</td>\n      <td>-47.5</td>\n    </tr>\n    <tr>\n      <th>a2</th>\n      <td>-47.5</td>\n      <td>110.5</td>\n    </tr>\n  </tbody>\n</table>\n</div>"
     },
     "execution_count": 220,
     "metadata": {},
     "output_type": "execute_result"
    }
   ],
   "source": [
    "covariant = frame.cov()\n",
    "print(\"Ковариационная матрица:\")\n",
    "covariant"
   ],
   "metadata": {
    "collapsed": false,
    "pycharm": {
     "name": "#%% code\n"
    }
   }
  },
  {
   "cell_type": "code",
   "execution_count": 221,
   "outputs": [
    {
     "name": "stdout",
     "output_type": "stream",
     "text": [
      "Собственные числа для ковариационной матрицы:\n"
     ]
    },
    {
     "data": {
      "text/plain": "             0\na1    1.332264\na2  131.167736",
      "text/html": "<div>\n<style scoped>\n    .dataframe tbody tr th:only-of-type {\n        vertical-align: middle;\n    }\n\n    .dataframe tbody tr th {\n        vertical-align: top;\n    }\n\n    .dataframe thead th {\n        text-align: right;\n    }\n</style>\n<table border=\"1\" class=\"dataframe\">\n  <thead>\n    <tr style=\"text-align: right;\">\n      <th></th>\n      <th>0</th>\n    </tr>\n  </thead>\n  <tbody>\n    <tr>\n      <th>a1</th>\n      <td>1.332264</td>\n    </tr>\n    <tr>\n      <th>a2</th>\n      <td>131.167736</td>\n    </tr>\n  </tbody>\n</table>\n</div>"
     },
     "execution_count": 221,
     "metadata": {},
     "output_type": "execute_result"
    }
   ],
   "source": [
    "eig = eigvals(covariant.values)\n",
    "print(\"Собственные числа для ковариационной матрицы:\")\n",
    "pd.DataFrame(eig, index=frame.columns)"
   ],
   "metadata": {
    "collapsed": false,
    "pycharm": {
     "name": "#%% code\n"
    }
   }
  },
  {
   "cell_type": "code",
   "execution_count": 222,
   "outputs": [
    {
     "name": "stdout",
     "output_type": "stream",
     "text": [
      "Матрица корреляций:\n"
     ]
    },
    {
     "data": {
      "text/plain": "          a1        a2\na1  1.000000 -0.963388\na2 -0.963388  1.000000",
      "text/html": "<div>\n<style scoped>\n    .dataframe tbody tr th:only-of-type {\n        vertical-align: middle;\n    }\n\n    .dataframe tbody tr th {\n        vertical-align: top;\n    }\n\n    .dataframe thead th {\n        text-align: right;\n    }\n</style>\n<table border=\"1\" class=\"dataframe\">\n  <thead>\n    <tr style=\"text-align: right;\">\n      <th></th>\n      <th>a1</th>\n      <th>a2</th>\n    </tr>\n  </thead>\n  <tbody>\n    <tr>\n      <th>a1</th>\n      <td>1.000000</td>\n      <td>-0.963388</td>\n    </tr>\n    <tr>\n      <th>a2</th>\n      <td>-0.963388</td>\n      <td>1.000000</td>\n    </tr>\n  </tbody>\n</table>\n</div>"
     },
     "execution_count": 222,
     "metadata": {},
     "output_type": "execute_result"
    }
   ],
   "source": [
    "print(\"Матрица корреляций:\")\n",
    "frame.corr()"
   ],
   "metadata": {
    "collapsed": false,
    "pycharm": {
     "name": "#%% code\n"
    }
   }
  },
  {
   "cell_type": "markdown",
   "source": [
    "## Задание 3"
   ],
   "metadata": {
    "collapsed": false
   }
  },
  {
   "cell_type": "code",
   "execution_count": 223,
   "outputs": [
    {
     "name": "stdout",
     "output_type": "stream",
     "text": [
      "Первые две главные компоненты:\n"
     ]
    },
    {
     "data": {
      "text/plain": "           0         1\na1 -0.398979  0.916960\na2 -0.916960 -0.398979",
      "text/html": "<div>\n<style scoped>\n    .dataframe tbody tr th:only-of-type {\n        vertical-align: middle;\n    }\n\n    .dataframe tbody tr th {\n        vertical-align: top;\n    }\n\n    .dataframe thead th {\n        text-align: right;\n    }\n</style>\n<table border=\"1\" class=\"dataframe\">\n  <thead>\n    <tr style=\"text-align: right;\">\n      <th></th>\n      <th>0</th>\n      <th>1</th>\n    </tr>\n  </thead>\n  <tbody>\n    <tr>\n      <th>a1</th>\n      <td>-0.398979</td>\n      <td>0.916960</td>\n    </tr>\n    <tr>\n      <th>a2</th>\n      <td>-0.916960</td>\n      <td>-0.398979</td>\n    </tr>\n  </tbody>\n</table>\n</div>"
     },
     "execution_count": 223,
     "metadata": {},
     "output_type": "execute_result"
    }
   ],
   "source": [
    "pca = PCA(n_components=2)\n",
    "pca.fit_transform(frame)\n",
    "\n",
    "print(\"Первые две главные компоненты:\")\n",
    "pd.DataFrame(pca.components_, columns=frame.columns)"
   ],
   "metadata": {
    "collapsed": false,
    "pycharm": {
     "name": "#%% code\n"
    }
   }
  },
  {
   "cell_type": "code",
   "execution_count": 224,
   "outputs": [
    {
     "name": "stdout",
     "output_type": "stream",
     "text": [
      "Остаточная дисперсия компонент:\n"
     ]
    },
    {
     "data": {
      "text/plain": "          0\n0  0.010055\n1  0.989945",
      "text/html": "<div>\n<style scoped>\n    .dataframe tbody tr th:only-of-type {\n        vertical-align: middle;\n    }\n\n    .dataframe tbody tr th {\n        vertical-align: top;\n    }\n\n    .dataframe thead th {\n        text-align: right;\n    }\n</style>\n<table border=\"1\" class=\"dataframe\">\n  <thead>\n    <tr style=\"text-align: right;\">\n      <th></th>\n      <th>0</th>\n    </tr>\n  </thead>\n  <tbody>\n    <tr>\n      <th>0</th>\n      <td>0.010055</td>\n    </tr>\n    <tr>\n      <th>1</th>\n      <td>0.989945</td>\n    </tr>\n  </tbody>\n</table>\n</div>"
     },
     "execution_count": 224,
     "metadata": {},
     "output_type": "execute_result"
    }
   ],
   "source": [
    "print(\"Остаточная дисперсия компонент:\")\n",
    "pd.DataFrame([eig[0] / sum(eig), eig[1] / sum(eig)])"
   ],
   "metadata": {
    "collapsed": false,
    "pycharm": {
     "name": "#%% code\n"
    }
   }
  },
  {
   "cell_type": "code",
   "execution_count": 236,
   "outputs": [
    {
     "name": "stdout",
     "output_type": "stream",
     "text": [
      "График векторов главных компонент:\n"
     ]
    },
    {
     "data": {
      "text/plain": "<Figure size 432x288 with 1 Axes>",
      "image/png": "[encoded data removed]"
     },
     "metadata": {
      "needs_background": "light"
     },
     "output_type": "display_data"
    }
   ],
   "source": [
    "plot = frame.plot.scatter(\"a1\", \"a2\")\n",
    "plot.axis(\"equal\")\n",
    "print(\"График векторов главных компонент:\")\n",
    "\n",
    "for length, vector in zip(pca.explained_variance_, pca.components_):\n",
    "    props = {\"arrowstyle\": \"->\", \"linewidth\": 2, \"shrinkA\": 0, \"shrinkB\": 0}\n",
    "    plot.annotate(\"\", mean + vector * sqrt(length), mean, arrowprops=props)"
   ],
   "metadata": {
    "collapsed": false,
    "pycharm": {
     "name": "#%% code\n"
    }
   }
  },
  {
   "cell_type": "markdown",
   "source": [
    "#### Медиана\n",
    "##### Медиана - это число, которое находится в середине набора, если его упорядочить по возрастанию.\n",
    "##### Формула:\n",
    "\\begin{equation}\n",
    "    med(x) =\n",
    "    \\begin{cases}\n",
    "        X_{\\frac{n}{2}} & \\text{если $n$ чётное} \\\\\n",
    "        \\frac{X_{\\frac{n-1}{2}} - X_{\\frac{n+1}{2}}}{2} & \\text{если $n$ нечётное}\n",
    "    \\end{cases}\n",
    "\\end{equation}\n",
    ",где $X$ - отсортированный набор значений, $n$ - количество значений в наборе.\n"
   ],
   "metadata": {
    "collapsed": false
   }
  }
 ],
 "metadata": {
  "kernelspec": {
   "name": "python3",
   "language": "python",
   "display_name": "Python 3 (ipykernel)"
  },
  "language_info": {
   "codemirror_mode": {
    "name": "ipython",
    "version": 3
   },
   "file_extension": ".py",
   "mimetype": "text/x-python",
   "name": "python",
   "nbconvert_exporter": "python",
   "pygments_lexer": "ipython3",
   "version": "3.8.10"
  }
 },
 "nbformat": 4,
 "nbformat_minor": 1
}