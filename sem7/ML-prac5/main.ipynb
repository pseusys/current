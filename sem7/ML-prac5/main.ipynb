{
 "cells": [
  {
   "cell_type": "markdown",
   "metadata": {
    "collapsed": true,
    "pycharm": {
     "name": "#%% md\n"
    }
   },
   "source": [
    "# Практическая работа №4"
   ]
  },
  {
   "cell_type": "markdown",
   "metadata": {},
   "source": [
    "### Используемые библиотеки"
   ]
  },
  {
   "cell_type": "code",
   "execution_count": 1,
   "metadata": {
    "pycharm": {
     "name": "#%% code\n"
    }
   },
   "outputs": [],
   "source": [
    "from math import sqrt, pi, exp\n",
    "\n",
    "import pandas as pd\n",
    "from numpy import array, zeros, column_stack\n",
    "from sklearn.cluster import KMeans, AgglomerativeClustering\n",
    "from sklearn.metrics import pairwise_distances, pairwise_distances_argmin\n",
    "from matplotlib import pyplot as plt\n",
    "from scipy.cluster.hierarchy import dendrogram"
   ]
  },
  {
   "cell_type": "markdown",
   "source": [
    "### Используемые алгоритмы"
   ],
   "metadata": {
    "collapsed": false
   }
  },
  {
   "cell_type": "code",
   "execution_count": 2,
   "outputs": [],
   "source": [
    "def plot_dendrogram(model, **kwargs):\n",
    "    fig, ax = plt.subplots(1, 1)\n",
    "    ax.set_yticks([])\n",
    "    ax.set_xlabel(kwargs.pop(\"label\"))\n",
    "\n",
    "    counts = zeros(model.children_.shape[0])\n",
    "    n_samples = len(model.labels_)\n",
    "    for i, merge in enumerate(model.children_):\n",
    "        current_count = 0\n",
    "        for child_idx in merge:\n",
    "            if child_idx < n_samples:\n",
    "                current_count += 1\n",
    "            else:\n",
    "                current_count += counts[child_idx - n_samples]\n",
    "        counts[i] = current_count\n",
    "\n",
    "    linkage_matrix = column_stack([model.children_, model.distances_, counts]).astype(float)\n",
    "    dendrogram(linkage_matrix, **kwargs)\n",
    "\n",
    "    plt.show()"
   ],
   "metadata": {
    "collapsed": false,
    "pycharm": {
     "name": "#%% code\n"
    }
   }
  },
  {
   "cell_type": "markdown",
   "metadata": {},
   "source": [
    "### Исходные данные\n",
    "\n",
    "`data1.csv`:\n",
    "```csv\n",
    "2\n",
    "4\n",
    "10\n",
    "12\n",
    "3\n",
    "20\n",
    "30\n",
    "11\n",
    "25\n",
    "```\n",
    "\n",
    "`data2.csv`:\n",
    "```csv\n",
    "x,p1,p2\n",
    "2,0.9,0.1\n",
    "3,0.8,0.1\n",
    "7,0.3,0.7\n",
    "9,0.1,0.9\n",
    "2,0.9,0.1\n",
    "1,0.8,0.2\n",
    "```\n",
    "\n",
    "`data3.csv`:\n",
    "```csv\n",
    "x1,x2,x3,x4,x5\n",
    "1,0,1,1,0\n",
    "1,1,0,1,0\n",
    "0,0,1,1,0\n",
    "0,1,0,1,0\n",
    "1,0,1,0,1\n",
    "0,1,1,0,0\n",
    "```"
   ]
  },
  {
   "cell_type": "markdown",
   "source": [
    "## Задание 1"
   ],
   "metadata": {
    "collapsed": false
   }
  },
  {
   "cell_type": "code",
   "execution_count": 3,
   "outputs": [
    {
     "name": "stdout",
     "output_type": "stream",
     "text": [
      "Исходный набор данных:\n"
     ]
    },
    {
     "data": {
      "text/plain": "    0\n0   2\n1   4\n2  10\n3  12\n4   3\n5  20\n6  30\n7  11\n8  25",
      "text/html": "<div>\n<style scoped>\n    .dataframe tbody tr th:only-of-type {\n        vertical-align: middle;\n    }\n\n    .dataframe tbody tr th {\n        vertical-align: top;\n    }\n\n    .dataframe thead th {\n        text-align: right;\n    }\n</style>\n<table border=\"1\" class=\"dataframe\">\n  <thead>\n    <tr style=\"text-align: right;\">\n      <th></th>\n      <th>0</th>\n    </tr>\n  </thead>\n  <tbody>\n    <tr>\n      <th>0</th>\n      <td>2</td>\n    </tr>\n    <tr>\n      <th>1</th>\n      <td>4</td>\n    </tr>\n    <tr>\n      <th>2</th>\n      <td>10</td>\n    </tr>\n    <tr>\n      <th>3</th>\n      <td>12</td>\n    </tr>\n    <tr>\n      <th>4</th>\n      <td>3</td>\n    </tr>\n    <tr>\n      <th>5</th>\n      <td>20</td>\n    </tr>\n    <tr>\n      <th>6</th>\n      <td>30</td>\n    </tr>\n    <tr>\n      <th>7</th>\n      <td>11</td>\n    </tr>\n    <tr>\n      <th>8</th>\n      <td>25</td>\n    </tr>\n  </tbody>\n</table>\n</div>"
     },
     "execution_count": 3,
     "metadata": {},
     "output_type": "execute_result"
    }
   ],
   "source": [
    "frame = pd.read_csv('data1.csv', header=None)\n",
    "print(f\"Исходный набор данных:\")\n",
    "frame"
   ],
   "metadata": {
    "collapsed": false,
    "pycharm": {
     "name": "#%% code\n"
    }
   }
  },
  {
   "cell_type": "markdown",
   "metadata": {
    "pycharm": {
     "name": "#%% md\n"
    }
   },
   "source": [
    "### Представление данных в виде кластеров"
   ]
  },
  {
   "cell_type": "code",
   "execution_count": 4,
   "outputs": [
    {
     "data": {
      "text/plain": "       2     4     6  cluster\n2    0.0   2.0   4.0        2\n4    2.0   0.0   2.0        4\n10   8.0   6.0   4.0        6\n12  10.0   8.0   6.0        6\n3    1.0   1.0   3.0        2\n20  18.0  16.0  14.0        6\n30  28.0  26.0  24.0        6\n11   9.0   7.0   5.0        6\n25  23.0  21.0  19.0        6",
      "text/html": "<div>\n<style scoped>\n    .dataframe tbody tr th:only-of-type {\n        vertical-align: middle;\n    }\n\n    .dataframe tbody tr th {\n        vertical-align: top;\n    }\n\n    .dataframe thead th {\n        text-align: right;\n    }\n</style>\n<table border=\"1\" class=\"dataframe\">\n  <thead>\n    <tr style=\"text-align: right;\">\n      <th></th>\n      <th>2</th>\n      <th>4</th>\n      <th>6</th>\n      <th>cluster</th>\n    </tr>\n  </thead>\n  <tbody>\n    <tr>\n      <th>2</th>\n      <td>0.0</td>\n      <td>2.0</td>\n      <td>4.0</td>\n      <td>2</td>\n    </tr>\n    <tr>\n      <th>4</th>\n      <td>2.0</td>\n      <td>0.0</td>\n      <td>2.0</td>\n      <td>4</td>\n    </tr>\n    <tr>\n      <th>10</th>\n      <td>8.0</td>\n      <td>6.0</td>\n      <td>4.0</td>\n      <td>6</td>\n    </tr>\n    <tr>\n      <th>12</th>\n      <td>10.0</td>\n      <td>8.0</td>\n      <td>6.0</td>\n      <td>6</td>\n    </tr>\n    <tr>\n      <th>3</th>\n      <td>1.0</td>\n      <td>1.0</td>\n      <td>3.0</td>\n      <td>2</td>\n    </tr>\n    <tr>\n      <th>20</th>\n      <td>18.0</td>\n      <td>16.0</td>\n      <td>14.0</td>\n      <td>6</td>\n    </tr>\n    <tr>\n      <th>30</th>\n      <td>28.0</td>\n      <td>26.0</td>\n      <td>24.0</td>\n      <td>6</td>\n    </tr>\n    <tr>\n      <th>11</th>\n      <td>9.0</td>\n      <td>7.0</td>\n      <td>5.0</td>\n      <td>6</td>\n    </tr>\n    <tr>\n      <th>25</th>\n      <td>23.0</td>\n      <td>21.0</td>\n      <td>19.0</td>\n      <td>6</td>\n    </tr>\n  </tbody>\n</table>\n</div>"
     },
     "execution_count": 4,
     "metadata": {},
     "output_type": "execute_result"
    }
   ],
   "source": [
    "clusters = (2, 4, 6)\n",
    "reshape = array(clusters).reshape(-1, 1)\n",
    "\n",
    "dist = pairwise_distances(frame, reshape)\n",
    "min_dist = pairwise_distances_argmin(frame, reshape)\n",
    "\n",
    "pd.DataFrame(dist, columns=clusters, index=frame[0].values).assign(cluster=[clusters[i] for i in min_dist])"
   ],
   "metadata": {
    "collapsed": false,
    "pycharm": {
     "name": "#%% code\n"
    }
   }
  },
  {
   "cell_type": "markdown",
   "source": [
    "### Первая итерация алгоритма k-means"
   ],
   "metadata": {
    "collapsed": false
   }
  },
  {
   "cell_type": "code",
   "execution_count": 5,
   "outputs": [
    {
     "data": {
      "text/plain": "       3    11    25  cluster\n2    1.0   9.0  23.0        3\n4    1.0   7.0  21.0        3\n10   7.0   1.0  15.0       11\n12   9.0   1.0  13.0       11\n3    0.0   8.0  22.0        3\n20  17.0   9.0   5.0       25\n30  27.0  19.0   5.0       25\n11   8.0   0.0  14.0       11\n25  22.0  14.0   0.0       25",
      "text/html": "<div>\n<style scoped>\n    .dataframe tbody tr th:only-of-type {\n        vertical-align: middle;\n    }\n\n    .dataframe tbody tr th {\n        vertical-align: top;\n    }\n\n    .dataframe thead th {\n        text-align: right;\n    }\n</style>\n<table border=\"1\" class=\"dataframe\">\n  <thead>\n    <tr style=\"text-align: right;\">\n      <th></th>\n      <th>3</th>\n      <th>11</th>\n      <th>25</th>\n      <th>cluster</th>\n    </tr>\n  </thead>\n  <tbody>\n    <tr>\n      <th>2</th>\n      <td>1.0</td>\n      <td>9.0</td>\n      <td>23.0</td>\n      <td>3</td>\n    </tr>\n    <tr>\n      <th>4</th>\n      <td>1.0</td>\n      <td>7.0</td>\n      <td>21.0</td>\n      <td>3</td>\n    </tr>\n    <tr>\n      <th>10</th>\n      <td>7.0</td>\n      <td>1.0</td>\n      <td>15.0</td>\n      <td>11</td>\n    </tr>\n    <tr>\n      <th>12</th>\n      <td>9.0</td>\n      <td>1.0</td>\n      <td>13.0</td>\n      <td>11</td>\n    </tr>\n    <tr>\n      <th>3</th>\n      <td>0.0</td>\n      <td>8.0</td>\n      <td>22.0</td>\n      <td>3</td>\n    </tr>\n    <tr>\n      <th>20</th>\n      <td>17.0</td>\n      <td>9.0</td>\n      <td>5.0</td>\n      <td>25</td>\n    </tr>\n    <tr>\n      <th>30</th>\n      <td>27.0</td>\n      <td>19.0</td>\n      <td>5.0</td>\n      <td>25</td>\n    </tr>\n    <tr>\n      <th>11</th>\n      <td>8.0</td>\n      <td>0.0</td>\n      <td>14.0</td>\n      <td>11</td>\n    </tr>\n    <tr>\n      <th>25</th>\n      <td>22.0</td>\n      <td>14.0</td>\n      <td>0.0</td>\n      <td>25</td>\n    </tr>\n  </tbody>\n</table>\n</div>"
     },
     "execution_count": 5,
     "metadata": {},
     "output_type": "execute_result"
    }
   ],
   "source": [
    "k_means = KMeans(init=array(clusters).reshape(-1, 1), n_clusters=3, n_init=1)\n",
    "\n",
    "dist = k_means.fit_transform(frame)\n",
    "new_clusters = list(map(lambda x: int(x[0]), k_means.cluster_centers_.tolist()))\n",
    "new_min_dist = pairwise_distances_argmin(frame, k_means.cluster_centers_)\n",
    "pd.DataFrame(dist, columns=new_clusters, index=frame[0].values).assign(cluster=[new_clusters[i] for i in new_min_dist])"
   ],
   "metadata": {
    "collapsed": false,
    "pycharm": {
     "name": "#%% code\n"
    }
   }
  },
  {
   "cell_type": "markdown",
   "source": [
    "### Выводы"
   ],
   "metadata": {
    "collapsed": false
   }
  },
  {
   "cell_type": "code",
   "execution_count": 6,
   "outputs": [
    {
     "name": "stdout",
     "output_type": "stream",
     "text": [
      "Кластеры, полученные после 0й итерации:\n",
      "Кластер №1 с центром в 2: [2, 3]\n",
      "Кластер №2 с центром в 4: [4]\n",
      "Кластер №3 с центром в 6: [10, 12, 20, 30, 11, 25]\n",
      "\n",
      "Кластеры, полученные после 1й итерации:\n",
      "Кластер №1 с центром в 3: [2, 4, 3]\n",
      "Кластер №2 с центром в 11: [10, 12, 11]\n",
      "Кластер №3 с центром в 25: [20, 30, 25]\n",
      "\n",
      "Дальнейшие итерации не меняют центров кластеров, так что во сторой итерации будет использован тот же набор центров: [3, 11, 25]\n"
     ]
    }
   ],
   "source": [
    "print(\"Кластеры, полученные после 0й итерации:\")\n",
    "for index, cluster in enumerate(clusters):\n",
    "    print(f\"Кластер №{index + 1} с центром в {cluster}: {[v for i, v in enumerate(frame[0].values) if min_dist[i] == index]}\")\n",
    "\n",
    "print(\"\\nКластеры, полученные после 1й итерации:\")\n",
    "for index, cluster in enumerate(new_clusters):\n",
    "    print(f\"Кластер №{index + 1} с центром в {cluster}: {[v for i, v in enumerate(frame[0].values) if new_min_dist[i] == index]}\")\n",
    "\n",
    "print(f\"\\nДальнейшие итерации не меняют центров кластеров, так что во сторой итерации будет использован тот же набор центров: {new_clusters}\")"
   ],
   "metadata": {
    "collapsed": false,
    "pycharm": {
     "name": "#%% code\n"
    }
   }
  },
  {
   "cell_type": "markdown",
   "source": [
    "## Задание 2"
   ],
   "metadata": {
    "collapsed": false,
    "pycharm": {
     "name": "#%% md\n"
    }
   }
  },
  {
   "cell_type": "code",
   "execution_count": 7,
   "outputs": [
    {
     "name": "stdout",
     "output_type": "stream",
     "text": [
      "Исходный набор данных:\n"
     ]
    },
    {
     "data": {
      "text/plain": "   x   p1   p2\n0  2  0.9  0.1\n1  3  0.8  0.1\n2  7  0.3  0.7\n3  9  0.1  0.9\n4  2  0.9  0.1\n5  1  0.8  0.2",
      "text/html": "<div>\n<style scoped>\n    .dataframe tbody tr th:only-of-type {\n        vertical-align: middle;\n    }\n\n    .dataframe tbody tr th {\n        vertical-align: top;\n    }\n\n    .dataframe thead th {\n        text-align: right;\n    }\n</style>\n<table border=\"1\" class=\"dataframe\">\n  <thead>\n    <tr style=\"text-align: right;\">\n      <th></th>\n      <th>x</th>\n      <th>p1</th>\n      <th>p2</th>\n    </tr>\n  </thead>\n  <tbody>\n    <tr>\n      <th>0</th>\n      <td>2</td>\n      <td>0.9</td>\n      <td>0.1</td>\n    </tr>\n    <tr>\n      <th>1</th>\n      <td>3</td>\n      <td>0.8</td>\n      <td>0.1</td>\n    </tr>\n    <tr>\n      <th>2</th>\n      <td>7</td>\n      <td>0.3</td>\n      <td>0.7</td>\n    </tr>\n    <tr>\n      <th>3</th>\n      <td>9</td>\n      <td>0.1</td>\n      <td>0.9</td>\n    </tr>\n    <tr>\n      <th>4</th>\n      <td>2</td>\n      <td>0.9</td>\n      <td>0.1</td>\n    </tr>\n    <tr>\n      <th>5</th>\n      <td>1</td>\n      <td>0.8</td>\n      <td>0.2</td>\n    </tr>\n  </tbody>\n</table>\n</div>"
     },
     "execution_count": 7,
     "metadata": {},
     "output_type": "execute_result"
    }
   ],
   "source": [
    "frame = pd.read_csv('data2.csv')\n",
    "print(f\"Исходный набор данных:\")\n",
    "frame"
   ],
   "metadata": {
    "collapsed": false,
    "pycharm": {
     "name": "#%% code\n"
    }
   }
  },
  {
   "cell_type": "markdown",
   "source": [
    "### Расчет средних значений"
   ],
   "metadata": {
    "collapsed": false
   }
  },
  {
   "cell_type": "code",
   "execution_count": 8,
   "outputs": [
    {
     "name": "stdout",
     "output_type": "stream",
     "text": [
      "Среднее значения кластера №1: 2.5789473684210535\n",
      "Среднее значения кластера №2: 6.619047619047618\n"
     ]
    }
   ],
   "source": [
    "values_weights = [list(zip(frame['x'].values, frame['p1'].values)), list(zip(frame['x'].values, frame['p2']))]\n",
    "mids = [sum(w * v for v, w in v_w) / sum(w for v, w in v_w) for v_w in values_weights]\n",
    "for i, m in enumerate(mids):\n",
    "    print(f\"Среднее значения кластера №{i + 1}: {m}\")"
   ],
   "metadata": {
    "collapsed": false,
    "pycharm": {
     "name": "#%% code\n"
    }
   }
  },
  {
   "cell_type": "markdown",
   "source": [
    "### Расчет вероятности принадлежности точки n = 5 к кластерам"
   ],
   "metadata": {
    "collapsed": false
   }
  },
  {
   "cell_type": "code",
   "execution_count": 9,
   "outputs": [
    {
     "name": "stdout",
     "output_type": "stream",
     "text": [
      "Вероятность принадлежности точки n = 5 к кластеру №1: 0.9241418199787566\n",
      "Вероятность принадлежности точки n = 5 к кластеру №2: 0.07585818002124356\n"
     ]
    }
   ],
   "source": [
    "def f(x, m, s):\n",
    "    return 1 / sqrt(2 * pi * s) * exp((x - m) ** 2 / 2 * s ** 2)\n",
    "\n",
    "def p(x, m, s, n, pn):\n",
    "    return (f(x, m[n], s) * pn) / (f(x, m[0], s) * pn + (f(x, m[1], s) * pn))\n",
    "\n",
    "x = 5\n",
    "m = [2, 7]\n",
    "s = 1\n",
    "pn = 0.5\n",
    "\n",
    "probs = [p(x, m, s, 0, pn), p(x, m, s, 1, pn)]\n",
    "for i, p in enumerate(probs):\n",
    "    print(f\"Вероятность принадлежности точки n = 5 к кластеру №{i + 1}: {p}\")"
   ],
   "metadata": {
    "collapsed": false,
    "pycharm": {
     "name": "#%% code\n"
    }
   }
  },
  {
   "cell_type": "markdown",
   "source": [
    "## Задание 3"
   ],
   "metadata": {
    "collapsed": false
   }
  },
  {
   "cell_type": "code",
   "execution_count": 10,
   "outputs": [
    {
     "name": "stdout",
     "output_type": "stream",
     "text": [
      "Исходный набор данных:\n"
     ]
    },
    {
     "data": {
      "text/plain": "   x1  x2  x3  x4  x5\n0   1   0   1   1   0\n1   1   1   0   1   0\n2   0   0   1   1   0\n3   0   1   0   1   0\n4   1   0   1   0   1\n5   0   1   1   0   0",
      "text/html": "<div>\n<style scoped>\n    .dataframe tbody tr th:only-of-type {\n        vertical-align: middle;\n    }\n\n    .dataframe tbody tr th {\n        vertical-align: top;\n    }\n\n    .dataframe thead th {\n        text-align: right;\n    }\n</style>\n<table border=\"1\" class=\"dataframe\">\n  <thead>\n    <tr style=\"text-align: right;\">\n      <th></th>\n      <th>x1</th>\n      <th>x2</th>\n      <th>x3</th>\n      <th>x4</th>\n      <th>x5</th>\n    </tr>\n  </thead>\n  <tbody>\n    <tr>\n      <th>0</th>\n      <td>1</td>\n      <td>0</td>\n      <td>1</td>\n      <td>1</td>\n      <td>0</td>\n    </tr>\n    <tr>\n      <th>1</th>\n      <td>1</td>\n      <td>1</td>\n      <td>0</td>\n      <td>1</td>\n      <td>0</td>\n    </tr>\n    <tr>\n      <th>2</th>\n      <td>0</td>\n      <td>0</td>\n      <td>1</td>\n      <td>1</td>\n      <td>0</td>\n    </tr>\n    <tr>\n      <th>3</th>\n      <td>0</td>\n      <td>1</td>\n      <td>0</td>\n      <td>1</td>\n      <td>0</td>\n    </tr>\n    <tr>\n      <th>4</th>\n      <td>1</td>\n      <td>0</td>\n      <td>1</td>\n      <td>0</td>\n      <td>1</td>\n    </tr>\n    <tr>\n      <th>5</th>\n      <td>0</td>\n      <td>1</td>\n      <td>1</td>\n      <td>0</td>\n      <td>0</td>\n    </tr>\n  </tbody>\n</table>\n</div>"
     },
     "execution_count": 10,
     "metadata": {},
     "output_type": "execute_result"
    }
   ],
   "source": [
    "frame = pd.read_csv('data3.csv')\n",
    "print(f\"Исходный набор данных:\")\n",
    "frame"
   ],
   "metadata": {
    "collapsed": false,
    "pycharm": {
     "name": "#%% code\n"
    }
   }
  },
  {
   "cell_type": "code",
   "execution_count": 11,
   "outputs": [
    {
     "data": {
      "text/plain": "<Figure size 432x288 with 1 Axes>",
      "image/png": "[encoded data removed]"
     },
     "metadata": {
      "needs_background": "light"
     },
     "output_type": "display_data"
    },
    {
     "data": {
      "text/plain": "<Figure size 432x288 with 1 Axes>",
      "image/png": "[encoded data removed]"
     },
     "metadata": {
      "needs_background": "light"
     },
     "output_type": "display_data"
    },
    {
     "data": {
      "text/plain": "<Figure size 432x288 with 1 Axes>",
      "image/png": "[encoded data removed]"
     },
     "metadata": {
      "needs_background": "light"
     },
     "output_type": "display_data"
    }
   ],
   "source": [
    "def coeff(x, y):\n",
    "    n11 = n00 = nn = 0\n",
    "    for xi, yi in zip(x, y):\n",
    "        if xi == yi == 1:\n",
    "            n11 += 1\n",
    "        elif xi == yi == 0:\n",
    "            n00 += 1\n",
    "        else:\n",
    "            nn += 1\n",
    "    return n11, n00, nn\n",
    "\n",
    "\n",
    "def SMC(x, y):\n",
    "    n11, n00, nn = coeff(x, y)\n",
    "    return (n11 + n00) / (n11 + n00 + nn)\n",
    "\n",
    "def JC(x, y):\n",
    "    n11, n00, nn = coeff(x, y)\n",
    "    return n11 / (n11 + nn)\n",
    "\n",
    "def RC(x, y):\n",
    "    n11, n00, nn = coeff(x, y)\n",
    "    return n11 / (n11 + n00 + nn)\n",
    "\n",
    "for metric, linkage in zip([RC, SMC, JC], ['single', 'complete', 'average']):\n",
    "    cluster = AgglomerativeClustering(affinity=lambda x: pairwise_distances(x, metric=metric), linkage=linkage, distance_threshold=0, n_clusters=None)\n",
    "    cluster.fit(frame)\n",
    "    plot_dendrogram(cluster, label=f\"Метрика: {metric.__name__}, связь: {linkage}\")"
   ],
   "metadata": {
    "collapsed": false,
    "pycharm": {
     "name": "#%% code\n"
    }
   }
  }
 ],
 "metadata": {
  "kernelspec": {
   "display_name": "Python 3 (ipykernel)",
   "language": "python",
   "name": "python3"
  },
  "language_info": {
   "codemirror_mode": {
    "name": "ipython",
    "version": 3
   },
   "file_extension": ".py",
   "mimetype": "text/x-python",
   "name": "python",
   "nbconvert_exporter": "python",
   "pygments_lexer": "ipython3",
   "version": "3.9.5"
  }
 },
 "nbformat": 4,
 "nbformat_minor": 1
}