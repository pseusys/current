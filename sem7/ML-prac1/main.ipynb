{
  "cells": [
    {
      "cell_type": "markdown",
      "source": [
        "# \u041f\u0440\u0430\u043a\u0442\u0438\u0447\u0435\u0441\u043a\u0430\u044f \u0440\u0430\u0431\u043e\u0442\u0430 \u21161"
      ],
      "metadata": {
        "collapsed": false
      }
    },
    {
      "cell_type": "markdown",
      "source": [
        "### \u0418\u0441\u043f\u043e\u043b\u044c\u0437\u0443\u0435\u043c\u044b\u0435 \u0431\u0438\u0431\u043b\u0438\u043e\u0442\u0435\u043a\u0438"
      ],
      "metadata": {
        "collapsed": false
      }
    },
    {
      "cell_type": "code",
      "execution_count": 1,
      "outputs": [],
      "source": [
        "import pandas as pd\n",
        "import matplotlib.pyplot as plt\n",
        "from scipy.integrate import quad\n",
        "from scipy.optimize import fsolve\n",
        "from numpy import inf, arange\n",
        "from numpy.linalg import det\n",
        "\n",
        "from math import exp, sqrt, pi"
      ],
      "metadata": {
        "collapsed": false,
        "pycharm": {
          "name": "#%% code\n"
        }
      }
    },
    {
      "cell_type": "markdown",
      "source": [
        "### \u0413\u043b\u043e\u0431\u0430\u043b\u044c\u043d\u044b\u0435 \u043f\u0435\u0440\u0435\u043c\u0435\u043d\u043d\u044b\u0435"
      ],
      "metadata": {
        "collapsed": false,
        "pycharm": {
          "name": "#%% md\n"
        }
      }
    },
    {
      "cell_type": "code",
      "execution_count": 2,
      "outputs": [],
      "source": [
        "normal_distribution = lambda x, s, m: exp(-0.5 * ((x - m) / s) ** 2) / (s * sqrt(2 * pi))"
      ],
      "metadata": {
        "collapsed": false,
        "pycharm": {
          "name": "#%% code\n"
        }
      }
    },
    {
      "cell_type": "markdown",
      "source": [
        "### \u0418\u0441\u0445\u043e\u0434\u043d\u044b\u0435 \u0434\u0430\u043d\u043d\u044b\u0435:\n",
        "`data1.json`:\n",
        "```json\n",
        "{\n",
        "    \"x\": [ 69, 74, 68, 70, 72, 67, 66, 70, 76, 68, 72, 79, 74, 67, 66, 71, 74, 75, 75, 76 ],\n",
        "    \"y\": [ 153, 175, 155, 135, 172, 150, 115, 137, 200, 130, 140, 265, 185, 112, 140,  150, 165, 185, 210, 220 ]\n",
        "}\n",
        "```\n",
        "`data2.json`:\n",
        "```json\n",
        "{\n",
        "    \"a\": [ 17, 17, 12 ],\n",
        "    \"b\": [ 11, 9, 13 ],\n",
        "    \"c\": [ 11, 8, 19 ]\n",
        "}\n",
        "```"
      ],
      "metadata": {
        "collapsed": false
      }
    },
    {
      "cell_type": "markdown",
      "source": [
        "## \u041f\u0443\u043d\u043a\u0442 1"
      ],
      "metadata": {
        "collapsed": false
      }
    },
    {
      "cell_type": "code",
      "metadata": {
        "pycharm": {
          "name": "#%% code\n"
        }
      },
      "source": [
        "frame = pd.read_json('data1.json')\n",
        "print(f\"\u0418\u0441\u0445\u043e\u0434\u043d\u044b\u0435 \u043d\u0430\u0431\u043e\u0440\u044b \u0434\u0430\u043d\u043d\u044b\u0445:\\n{ frame }\")"
      ],
      "execution_count": 3,
      "outputs": [
        {
          "name": "stdout",
          "output_type": "stream",
          "text": [
            "\u0418\u0441\u0445\u043e\u0434\u043d\u044b\u0435 \u043d\u0430\u0431\u043e\u0440\u044b \u0434\u0430\u043d\u043d\u044b\u0445:\n",
            "     x    y\n",
            "0   69  153\n",
            "1   74  175\n",
            "2   68  155\n",
            "3   70  135\n",
            "4   72  172\n",
            "5   67  150\n",
            "6   66  115\n",
            "7   70  137\n",
            "8   76  200\n",
            "9   68  130\n",
            "10  72  140\n",
            "11  79  265\n",
            "12  74  185\n",
            "13  67  112\n",
            "14  66  140\n",
            "15  71  150\n",
            "16  74  165\n",
            "17  75  185\n",
            "18  75  210\n",
            "19  76  220\n"
          ],
          "execution_count": 3
        }
      ]
    },
    {
      "cell_type": "markdown",
      "source": [
        "#### \u0421\u0440\u0435\u0434\u043d\u0435\u0435 \u0437\u043d\u0430\u0447\u0435\u043d\u0438\u0435\n",
        "##### \u0421\u0440\u0435\u0434\u043d\u0435\u0435 \u0437\u043d\u0430\u0447\u0435\u043d\u0438\u0435 - \u044d\u0442\u043e \u0441\u0440\u0435\u0434\u043d\u0435\u0435 (\u0432\u0437\u0432\u0435\u0448\u0435\u043d\u043d\u043e\u0435 \u043f\u043e \u0432\u0435\u0440\u043e\u044f\u0442\u043d\u043e\u0441\u0442\u044f\u043c \u0432\u043e\u0437\u043c\u043e\u0436\u043d\u044b\u0445 \u0437\u043d\u0430\u0447\u0435\u043d\u0438\u0439) \u0437\u043d\u0430\u0447\u0435\u043d\u0438\u0435 \u0441\u043b\u0443\u0447\u0430\u0439\u043d\u043e\u0439 \u0432\u0435\u043b\u0438\u0447\u0438\u043d\u044b.\n",
        "##### \u0424\u043e\u0440\u043c\u0443\u043b\u0430:\n",
        "\\begin{equation}\n",
        "    \\mu(x) = \\frac{1}{n}\\sum^{n}_{i=1}x_i\n",
        "\\end{equation}\n",
        ",\u0433\u0434\u0435 $x$ - \u043d\u0430\u0431\u043e\u0440 \u0437\u043d\u0430\u0447\u0435\u043d\u0438\u0439, $n$ - \u043a\u043e\u043b\u0438\u0447\u0435\u0441\u0442\u0432\u043e \u0437\u043d\u0430\u0447\u0435\u043d\u0438\u0439 \u0432 \u043d\u0430\u0431\u043e\u0440\u0435."
      ],
      "metadata": {
        "collapsed": false
      }
    },
    {
      "cell_type": "code",
      "execution_count": 4,
      "metadata": {
        "pycharm": {
          "name": "#%% code\n"
        }
      },
      "outputs": [
        {
          "name": "stdout",
          "output_type": "stream",
          "text": [
            "\u0421\u0440\u0435\u0434\u043d\u0435\u0435 \u0437\u043d\u0430\u0447\u0435\u043d\u0438\u0435 x: 71.45\n"
          ],
          "execution_count": 4
        }
      ],
      "source": [
        "print(f\"\u0421\u0440\u0435\u0434\u043d\u0435\u0435 \u0437\u043d\u0430\u0447\u0435\u043d\u0438\u0435 x: { frame['x'].mean() }\")"
      ]
    },
    {
      "cell_type": "markdown",
      "source": [
        "#### \u041c\u0435\u0434\u0438\u0430\u043d\u0430\n",
        "##### \u041c\u0435\u0434\u0438\u0430\u043d\u0430 - \u044d\u0442\u043e \u0447\u0438\u0441\u043b\u043e, \u043a\u043e\u0442\u043e\u0440\u043e\u0435 \u043d\u0430\u0445\u043e\u0434\u0438\u0442\u0441\u044f \u0432 \u0441\u0435\u0440\u0435\u0434\u0438\u043d\u0435 \u043d\u0430\u0431\u043e\u0440\u0430, \u0435\u0441\u043b\u0438 \u0435\u0433\u043e \u0443\u043f\u043e\u0440\u044f\u0434\u043e\u0447\u0438\u0442\u044c \u043f\u043e \u0432\u043e\u0437\u0440\u0430\u0441\u0442\u0430\u043d\u0438\u044e.\n",
        "##### \u0424\u043e\u0440\u043c\u0443\u043b\u0430:\n",
        "\\begin{equation}\n",
        "    med(x) =\n",
        "    \\begin{cases}\n",
        "        X_{\\frac{n}{2}} & \\text{\u0435\u0441\u043b\u0438 $n$ \u0447\u0451\u0442\u043d\u043e\u0435} \\\\\n",
        "        \\frac{X_{\\frac{n-1}{2}} - X_{\\frac{n+1}{2}}}{2} & \\text{\u0435\u0441\u043b\u0438 $n$ \u043d\u0435\u0447\u0451\u0442\u043d\u043e\u0435}\n",
        "    \\end{cases}\n",
        "\\end{equation}\n",
        ",\u0433\u0434\u0435 $X$ - \u043e\u0442\u0441\u043e\u0440\u0442\u0438\u0440\u043e\u0432\u0430\u043d\u043d\u044b\u0439 \u043d\u0430\u0431\u043e\u0440 \u0437\u043d\u0430\u0447\u0435\u043d\u0438\u0439, $n$ - \u043a\u043e\u043b\u0438\u0447\u0435\u0441\u0442\u0432\u043e \u0437\u043d\u0430\u0447\u0435\u043d\u0438\u0439 \u0432 \u043d\u0430\u0431\u043e\u0440\u0435."
      ],
      "metadata": {
        "collapsed": false
      }
    },
    {
      "cell_type": "code",
      "execution_count": 5,
      "outputs": [
        {
          "name": "stdout",
          "output_type": "stream",
          "text": [
            "\u041c\u0435\u0434\u0438\u0430\u043d\u0430 x: 71.5\n"
          ],
          "execution_count": 5
        }
      ],
      "source": [
        "print(f\"\u041c\u0435\u0434\u0438\u0430\u043d\u0430 x: { frame['x'].median() }\")"
      ],
      "metadata": {
        "collapsed": false,
        "pycharm": {
          "name": "#%% code\n"
        }
      }
    },
    {
      "cell_type": "markdown",
      "source": [
        "#### \u041c\u043e\u0434\u0430\n",
        "##### \u041c\u043e\u0434\u0430 - \u0437\u043d\u0430\u0447\u0435\u043d\u0438\u0435 \u0432 \u043d\u0430\u0431\u043e\u0440\u0435 \u0434\u0430\u043d\u043d\u044b\u0445, \u043a\u043e\u0442\u043e\u0440\u043e\u0435 \u0432\u0441\u0442\u0440\u0435\u0447\u0430\u0435\u0442\u0441\u044f \u043d\u0430\u0438\u0431\u043e\u043b\u0435\u0435 \u0447\u0430\u0441\u0442\u043e."
      ],
      "metadata": {
        "collapsed": false
      }
    },
    {
      "cell_type": "code",
      "execution_count": 6,
      "outputs": [
        {
          "name": "stdout",
          "output_type": "stream",
          "text": [
            "\u041c\u043e\u0434\u0430 x: 74\n"
          ],
          "execution_count": 6
        }
      ],
      "source": [
        "print(f\"\u041c\u043e\u0434\u0430 x: { frame['x'].mode()[0] }\")"
      ],
      "metadata": {
        "collapsed": false,
        "pycharm": {
          "name": "#%% code\n"
        }
      }
    },
    {
      "cell_type": "markdown",
      "source": [
        "#### \u0414\u0438\u0441\u043f\u0435\u0440\u0441\u0438\u044f\n",
        "##### \u0414\u0438\u0441\u043f\u0435\u0440\u0441\u0438\u044f - \u043c\u0435\u0440\u0430 \u0440\u0430\u0437\u0431\u0440\u043e\u0441\u0430 \u0437\u043d\u0430\u0447\u0435\u043d\u0438\u0439 \u0441\u043b\u0443\u0447\u0430\u0439\u043d\u043e\u0439 \u0432\u0435\u043b\u0438\u0447\u0438\u043d\u044b \u043e\u0442\u043d\u043e\u0441\u0438\u0442\u0435\u043b\u044c\u043d\u043e \u0435\u0451 \u043c\u0430\u0442\u0435\u043c\u0430\u0442\u0438\u0447\u0435\u0441\u043a\u043e\u0433\u043e \u043e\u0436\u0438\u0434\u0430\u043d\u0438\u044f. \u041a\u0432\u0430\u0434\u0440\u0430\u0442\u043d\u044b\u0439 \u043a\u043e\u0440\u0435\u043d\u044c \u0438\u0437 \u0434\u0438\u0441\u043f\u0435\u0440\u0441\u0438\u0438 \u043d\u0430\u0437\u044b\u0432\u0430\u0435\u0442\u0441\u044f \u0441\u0440\u0435\u0434\u043d\u0435\u043a\u0432\u0430\u0434\u0440\u0430\u0442\u0438\u0447\u0435\u0441\u043a\u0438\u043c \u043e\u0442\u043a\u043b\u043e\u043d\u0435\u043d\u0438\u0435\u043c.\n",
        "##### \u0424\u043e\u0440\u043c\u0443\u043b\u0430:\n",
        "\\begin{equation}\n",
        "    D[x] = \\frac{\\sum^{n}_{i=1}(x_i-\\mu)^2}{n}\n",
        "\\end{equation}\n",
        ", \u0433\u0434\u0435 $x$ - \u043d\u0430\u0431\u043e\u0440 \u0434\u0430\u043d\u043d\u044b\u0445, $n$ - \u043a\u043e\u043b\u0438\u0447\u0435\u0441\u0442\u0432\u043e \u0437\u043d\u0430\u0447\u0435\u043d\u0438\u0439 \u0432 \u043d\u0430\u0431\u043e\u0440\u0435, $\\mu$ - \u0441\u0440\u0435\u0434\u043d\u0435\u0435 \u0437\u043d\u0430\u0447\u0435\u043d\u0438\u0435 \u043d\u0430\u0431\u043e\u0440\u0430."
      ],
      "metadata": {
        "collapsed": false
      }
    },
    {
      "cell_type": "code",
      "execution_count": 7,
      "outputs": [
        {
          "name": "stdout",
          "output_type": "stream",
          "text": [
            "\u0414\u0438\u0441\u043f\u0435\u0440\u0441\u0438\u044f y: 14.576315789473687\n"
          ],
          "execution_count": 7
        }
      ],
      "source": [
        "print(f\"\u0414\u0438\u0441\u043f\u0435\u0440\u0441\u0438\u044f y: { frame['x'].var() }\")"
      ],
      "metadata": {
        "collapsed": false,
        "pycharm": {
          "name": "#%% code\n"
        }
      }
    },
    {
      "cell_type": "markdown",
      "source": [
        "#### \u041d\u043e\u0440\u043c\u0430\u043b\u044c\u043d\u043e\u0435 \u0440\u0430\u0441\u043f\u0440\u0435\u0434\u0435\u043b\u0435\u043d\u0438\u0435\n",
        "##### \u041d\u043e\u0440\u043c\u0430\u043b\u044c\u043d\u043e\u0435 \u0440\u0430\u0441\u043f\u0440\u0435\u0434\u0435\u043b\u0435\u043d\u0438\u0435 - \u044d\u0442\u043e \u0440\u0430\u0441\u043f\u0440\u0435\u0434\u0435\u043b\u0435\u043d\u0438\u0435 \u0432\u0435\u0440\u043e\u044f\u0442\u043d\u043e\u0441\u0442\u0435\u0439 \u043a\u043e\u0442\u043e\u0440\u043e\u0435 \u0437\u0430\u0434\u0430\u0435\u0442\u0441\u044f \u0444\u0443\u043d\u043a\u0446\u0438\u0435\u0439 \u043f\u043b\u043e\u0442\u043d\u043e\u0441\u0442\u0438 \u0432\u0435\u0440\u043e\u044f\u0442\u043d\u043e\u0441\u0442\u0438.\n",
        "###### \u0420\u0430\u0441\u043f\u0440\u0435\u0434\u0435\u043b\u0435\u043d\u0438\u0435 \u0432\u0435\u0440\u043e\u044f\u0442\u043d\u043e\u0441\u0442\u0435\u0439 - \u044d\u0442\u043e \u0437\u0430\u043a\u043e\u043d, \u043e\u043f\u0438\u0441\u044b\u0432\u0430\u044e\u0449\u0438\u0439 \u043e\u0431\u043b\u0430\u0441\u0442\u044c \u0437\u043d\u0430\u0447\u0435\u043d\u0438\u0439 \u0441\u043b\u0443\u0447\u0430\u0439\u043d\u043e\u0439 \u0432\u0435\u043b\u0438\u0447\u0438\u043d\u044b \u0438 \u0441\u043e\u043e\u0442\u0432\u0435\u0442\u0441\u0442\u0432\u0443\u044e\u0449\u0438\u0435 \u0432\u0435\u0440\u043e\u044f\u0442\u043d\u043e\u0441\u0442\u0438 \u043f\u043e\u044f\u0432\u043b\u0435\u043d\u0438\u044f \u044d\u0442\u0438\u0445 \u0437\u043d\u0430\u0447\u0435\u043d\u0438\u0439.\n",
        "###### \u041f\u043b\u043e\u0442\u043d\u043e\u0441\u0442\u044c \u0432\u0435\u0440\u043e\u044f\u0442\u043d\u043e\u0441\u0442\u0438 - \u044d\u0442\u043e \u0444\u0443\u043d\u043a\u0446\u0438\u044f, \u0445\u0430\u0440\u0430\u043a\u0442\u0435\u0440\u0438\u0437\u0443\u044e\u0449\u0430\u044f \u0441\u0440\u0430\u0432\u043d\u0438\u0442\u0435\u043b\u044c\u043d\u0443\u044e \u0432\u0435\u0440\u043e\u044f\u0442\u043d\u043e\u0441\u0442\u044c \u0440\u0435\u0430\u043b\u0438\u0437\u0430\u0446\u0438\u0438 \u0442\u0435\u0445 \u0438\u043b\u0438 \u0438\u043d\u044b\u0445 \u0437\u043d\u0430\u0447\u0435\u043d\u0438\u0439 \u0441\u043b\u0443\u0447\u0430\u0439\u043d\u043e\u0439 \u043f\u0435\u0440\u0435\u043c\u0435\u043d\u043d\u043e\u0439.\n",
        "##### \u0424\u043e\u0440\u043c\u0443\u043b\u0430:\n",
        "\\begin{equation}\n",
        "    std(x) = \\frac{1}{\\sigma\\sqrt{2\\pi}}\\exp(-\\frac{(x-2)^2}{2\\sigma^2})\n",
        "\\end{equation}\n",
        ", \u0433\u0434\u0435 $x$ - \u043d\u0430\u0431\u043e\u0440 \u0434\u0430\u043d\u043d\u044b\u0445, $\\sigma$ - c\u0440\u0435\u0434\u043d\u0435\u043a\u0432\u0430\u0434\u0440\u0430\u0442\u0438\u0447\u043d\u043e\u0435 \u043e\u0442\u043a\u043b\u043e\u043d\u0435\u043d\u0438\u0435 \u043d\u0430\u0431\u043e\u0440\u0430, $\\mu$ - \u0441\u0440\u0435\u0434\u043d\u0435\u0435 \u0437\u043d\u0430\u0447\u0435\u043d\u0438\u0435 \u043d\u0430\u0431\u043e\u0440\u0430."
      ],
      "metadata": {
        "collapsed": false,
        "pycharm": {
          "name": "#%% md\n"
        }
      }
    },
    {
      "cell_type": "code",
      "execution_count": 8,
      "outputs": [
        {
          "data": {
            "text/plain": "<Figure size 432x288 with 1 Axes>",
            "image/png": "[encoded data removed]"
          },
          "metadata": {
            "needs_background": "light"
          },
          "output_type": "display_data",
          "execution_count": 8
        }
      ],
      "source": [
        "frame['x'].plot.kde()\n",
        "plt.title(\"\u041d\u043e\u0440\u043c\u0430\u043b\u044c\u043d\u043e\u0435 \u0440\u0430\u0441\u043f\u0440\u0435\u0434\u0435\u043b\u0435\u043d\u0438\u0435 \u0445\")\n",
        "plt.show()"
      ],
      "metadata": {
        "collapsed": false,
        "pycharm": {
          "name": "#%% code\n"
        }
      }
    },
    {
      "cell_type": "markdown",
      "source": [
        "\u0412\u0435\u0440\u043e\u044f\u0442\u043d\u043e\u0441\u0442\u044c \u0442\u043e\u0433\u043e, \u0447\u0442\u043e \u0437\u043d\u0430\u0447\u0435\u043d\u0438\u0435 \u043f\u043e\u043f\u0430\u0434\u0435\u0442 \u0432 \u043e\u043f\u0440\u0435\u0434\u0435\u043b\u0435\u043d\u043d\u044b\u0439 \u0438\u043d\u0442\u0435\u0440\u0432\u0430\u043b - \u0438\u043d\u0442\u0435\u0433\u0440\u0430\u043b \u043d\u043e\u0440\u043c\u0430\u043b\u044c\u043d\u043e\u0433\u043e \u0440\u0430\u0441\u043f\u0440\u0435\u0434\u0435\u043b\u0435\u043d\u0438\u044f \u043d\u0430 \u044d\u0442\u043e\u043c \u043e\u0442\u0440\u0435\u0437\u043a\u0435:"
      ],
      "metadata": {
        "collapsed": false
      }
    },
    {
      "cell_type": "code",
      "execution_count": 9,
      "outputs": [
        {
          "name": "stdout",
          "output_type": "stream",
          "text": [
            "\u0412\u0435\u0440\u043e\u044f\u0442\u043d\u043e\u0441\u0442\u044c \u0442\u043e\u0433\u043e, \u0447\u0442\u043e \u0432\u043e\u0437\u0440\u0430\u0441\u0442 \u0431\u043e\u043b\u044c\u0448\u0435 80, \u0441\u043e\u0441\u0442\u0430\u0432\u0438\u0442: 0.012563181452947533 +/- 2.9068309037497502e-11\n"
          ],
          "execution_count": 9
        }
      ],
      "source": [
        "sigma = frame['x'].std()\n",
        "mu = frame['x'].mean()\n",
        "integral = quad(lambda x: normal_distribution(x, sigma, mu), 80, +inf)\n",
        "print(f\"\u0412\u0435\u0440\u043e\u044f\u0442\u043d\u043e\u0441\u0442\u044c \u0442\u043e\u0433\u043e, \u0447\u0442\u043e \u0432\u043e\u0437\u0440\u0430\u0441\u0442 \u0431\u043e\u043b\u044c\u0448\u0435 80, \u0441\u043e\u0441\u0442\u0430\u0432\u0438\u0442: {integral[0]} +/- {integral[1]}\")"
      ],
      "metadata": {
        "collapsed": false,
        "pycharm": {
          "name": "#%% code\n"
        }
      }
    },
    {
      "cell_type": "markdown",
      "source": [
        "#### \u0414\u0432\u0443\u043c\u0435\u0440\u043d\u043e\u0435 \u043c\u0430\u0442\u0435\u043c\u0430\u0442\u0438\u0447\u0435\u0441\u043a\u043e\u0435 \u043e\u0436\u0438\u0434\u0430\u043d\u0438\u0435\n",
        "##### \u041c\u0430\u0442\u0435\u043c\u0430\u0442\u0438\u0447\u0435\u0441\u043a\u043e\u0435 \u043e\u0436\u0438\u0434\u0430\u043d\u0438\u0435 \u0441\u043b\u0443\u0447\u0430\u0439\u043d\u043e\u0433\u043e \u0432\u0435\u043a\u0442\u043e\u0440\u0430 - \u044d\u0442\u043e \u0432\u0435\u043a\u0442\u043e\u0440 \u0438\u0437 \u043c\u0430\u0442\u0435\u043c\u0430\u0442\u0438\u0447\u0435\u0441\u043a\u0438\u0445 \u043e\u0436\u0438\u0434\u0430\u043d\u0438\u0439 \u043a\u043e\u043c\u043f\u043e\u043d\u0435\u043d\u0442 \u0432\u0435\u043a\u0442\u043e\u0440\u0430."
      ],
      "metadata": {
        "collapsed": false
      }
    },
    {
      "cell_type": "code",
      "execution_count": 10,
      "outputs": [
        {
          "name": "stdout",
          "output_type": "stream",
          "text": [
            "\u0414\u0432\u0443\u043c\u0435\u0440\u043d\u043e\u0435 \u043c\u0430\u0442\u0435\u043c\u0430\u0442\u0438\u0447\u0435\u0441\u043a\u043e\u0435 \u043e\u0436\u0438\u0434\u0430\u043d\u0438\u0435: (71.45, 164.7)\n"
          ],
          "execution_count": 10
        }
      ],
      "source": [
        "print(f\"\u0414\u0432\u0443\u043c\u0435\u0440\u043d\u043e\u0435 \u043c\u0430\u0442\u0435\u043c\u0430\u0442\u0438\u0447\u0435\u0441\u043a\u043e\u0435 \u043e\u0436\u0438\u0434\u0430\u043d\u0438\u0435: { frame['x'].mean(), frame['y'].mean() }\")"
      ],
      "metadata": {
        "collapsed": false,
        "pycharm": {
          "name": "#%% code\n"
        }
      }
    },
    {
      "cell_type": "markdown",
      "source": [
        "#### \u041a\u043e\u0432\u0430\u0440\u0438\u0430\u0446\u0438\u043e\u043d\u043d\u0430\u044f \u043c\u0430\u0442\u0440\u0438\u0446\u0430\n",
        "##### \u041a\u043e\u0432\u0430\u0440\u0438\u0430\u0446\u0438\u043e\u043d\u043d\u0430\u044f \u043c\u0430\u0442\u0440\u0438\u0446\u0430 \u2014 \u043a\u0432\u0430\u0434\u0440\u0430\u0442\u043d\u0430\u044f \u0441\u0438\u043c\u043c\u0435\u0442\u0440\u0438\u0447\u0435\u0441\u043a\u0430\u044f \u043d\u0435\u043e\u0442\u0440\u0438\u0446\u0430\u0442\u0435\u043b\u044c\u043d\u043e \u043e\u043f\u0440\u0435\u0434\u0435\u043b\u0435\u043d\u043d\u0430\u044f \u043c\u0430\u0442\u0440\u0438\u0446\u0430, \u043d\u0430 \u0434\u0438\u0430\u0433\u043e\u043d\u0430\u043b\u0438 \u043a\u043e\u0442\u043e\u0440\u043e\u0439 \u0440\u0430\u0441\u043f\u043e\u043b\u0430\u0433\u0430\u044e\u0442\u0441\u044f \u0434\u0438\u0441\u043f\u0435\u0440\u0441\u0438\u0438 \u043a\u043e\u043c\u043f\u043e\u043d\u0435\u043d\u0442 \u0432\u0435\u043a\u0442\u043e\u0440\u0430, \u0430 \u0432\u043d\u0435\u0434\u0438\u0430\u0433\u043e\u043d\u0430\u043b\u044c\u043d\u044b\u0435 \u044d\u043b\u0435\u043c\u0435\u043d\u0442\u044b \u2014 \u043a\u043e\u0432\u0430\u0440\u0438\u0430\u0446\u0438\u0438 \u043c\u0435\u0436\u0434\u0443 \u043a\u043e\u043c\u043f\u043e\u043d\u0435\u043d\u0442\u0430\u043c\u0438.\n",
        "##### \u0424\u043e\u0440\u043c\u0443\u043b\u0430:\n",
        "\\begin{equation}\n",
        "    H(x, y) =\n",
        "    \\begin{bmatrix}\n",
        "        D[x] & cov(x, y) \\\\\n",
        "        cov(x, y) & D[y]\n",
        "    \\end{bmatrix}\n",
        "\\end{equation}\n",
        ", \u0433\u0434\u0435 $x$, $y$ - \u043d\u0430\u0431\u043e\u0440\u044b \u0434\u0430\u043d\u043d\u044b\u0445, $cov$ - \u043a\u043e\u0432\u0430\u0440\u0438\u0430\u0446\u0438\u044f \u043d\u0430\u0431\u043e\u0440\u043e\u0432.\n",
        "\n",
        "#### \u041a\u043e\u0432\u0430\u0440\u0438\u0430\u0446\u0438\u044f\n",
        "##### \u041a\u043e\u0432\u0430\u0440\u0438\u0430\u0446\u0438\u044f \u2014 \u043c\u0435\u0440\u0430 \u043b\u0438\u043d\u0435\u0439\u043d\u043e\u0439 \u0437\u0430\u0432\u0438\u0441\u0438\u043c\u043e\u0441\u0442\u0438 \u0434\u0432\u0443\u0445 \u0441\u043b\u0443\u0447\u0430\u0439\u043d\u044b\u0445 \u0432\u0435\u043b\u0438\u0447\u0438\u043d.\n",
        "##### \u0424\u043e\u0440\u043c\u0443\u043b\u0430:\n",
        "\\begin{equation}\n",
        "    cov(x, y) = \\frac{\\sum^{n}_{i=1}(x_i - \\mu(x))(y_i - \\mu(y))}{n - 1}\n",
        "\\end{equation}\n",
        ", \u0433\u0434\u0435 $x$, $y$ - \u043d\u0430\u0431\u043e\u0440\u044b \u0434\u0430\u043d\u043d\u044b\u0445, $n$ - \u043a\u043e\u043b\u0438\u0447\u0435\u0441\u0442\u0432\u043e \u0437\u043d\u0430\u0447\u0435\u043d\u0438\u0439 \u0432 \u043d\u0430\u0431\u043e\u0440\u0435, $\\mu$ - \u0441\u0440\u0435\u0434\u043d\u0435\u0435 \u0437\u043d\u0430\u0447\u0435\u043d\u0438\u0435 \u043d\u0430\u0431\u043e\u0440\u0430."
      ],
      "metadata": {
        "collapsed": false,
        "pycharm": {
          "name": "#%% md\n"
        }
      }
    },
    {
      "cell_type": "code",
      "execution_count": 11,
      "outputs": [
        {
          "name": "stdout",
          "output_type": "stream",
          "text": [
            "\u041a\u043e\u0432\u0430\u0440\u0438\u0430\u0446\u0438\u043e\u043d\u043d\u0430\u044f \u043c\u0430\u0442\u0440\u0438\u0446\u0430:\n",
            "            x            y\n",
            "x   14.576316   128.878947\n",
            "y  128.878947  1441.273684\n",
            "\n"
          ],
          "execution_count": 11
        }
      ],
      "source": [
        "print(f\"\u041a\u043e\u0432\u0430\u0440\u0438\u0430\u0446\u0438\u043e\u043d\u043d\u0430\u044f \u043c\u0430\u0442\u0440\u0438\u0446\u0430:\\n{ frame.cov() }\\n\")"
      ],
      "metadata": {
        "collapsed": false,
        "pycharm": {
          "name": "#%% code\n"
        }
      }
    },
    {
      "cell_type": "markdown",
      "source": [
        "#### \u041a\u043e\u0440\u0440\u0435\u043b\u044f\u0446\u0438\u044f\n",
        "##### \u041a\u043e\u0440\u0440\u0435\u043b\u044f\u0446\u0438\u044f \u2014 \u0432\u0437\u0430\u0438\u043c\u043e\u0441\u0432\u044f\u0437\u044c \u0434\u0432\u0443\u0445 \u0438\u043b\u0438 \u0431\u043e\u043b\u0435\u0435 \u0441\u043b\u0443\u0447\u0430\u0439\u043d\u044b\u0445 \u0432\u0435\u043b\u0438\u0447\u0438\u043d. \u0412 \u0434\u0430\u043d\u043d\u043e\u043c \u0441\u043b\u0443\u0447\u0430\u0435 \u043f\u0440\u0435\u0434\u0441\u0442\u0430\u0432\u043b\u0435\u043d\u0430 \u043c\u0430\u0442\u0440\u0438\u0446\u0430 \u043a\u043e\u044d\u0444\u0444\u0438\u0446\u0438\u0435\u043d\u0442\u043e\u0432 \u043a\u043e\u0440\u0440\u0435\u043b\u044f\u0446\u0438\u0438 \u043c\u0435\u0436\u0434\u0443 \u0432\u0435\u043b\u0438\u0447\u0438\u043d\u0430\u043c\u0438.\n",
        "##### \u0424\u043e\u0440\u043c\u0443\u043b\u0430 (\u043a\u043e\u044d\u0444\u0444\u0438\u0446\u0438\u0435\u043d\u0442):\n",
        "\\begin{equation}\n",
        "    r(x, y) = \\frac{\\sum^{n}_{i=1}(x_i - \\mu(x))(y_i - \\mu(y))}{\\sum^{n}_{i=1}(x_i - \\mu(x))^2\\sum^{n}_{i=1}(y_i - \\mu(y))^2}\n",
        "\\end{equation}\n",
        ", \u0433\u0434\u0435 $x$, $y$ - \u043d\u0430\u0431\u043e\u0440\u044b \u0434\u0430\u043d\u043d\u044b\u0445, $n$ - \u043a\u043e\u043b\u0438\u0447\u0435\u0441\u0442\u0432\u043e \u0437\u043d\u0430\u0447\u0435\u043d\u0438\u0439 \u0432 \u043d\u0430\u0431\u043e\u0440\u0435, $\\mu$ - \u0441\u0440\u0435\u0434\u043d\u0435\u0435 \u0437\u043d\u0430\u0447\u0435\u043d\u0438\u0435 \u043d\u0430\u0431\u043e\u0440\u0430."
      ],
      "metadata": {
        "collapsed": false,
        "pycharm": {
          "name": "#%% md\n"
        }
      }
    },
    {
      "cell_type": "code",
      "execution_count": 12,
      "outputs": [
        {
          "name": "stdout",
          "output_type": "stream",
          "text": [
            "\u041a\u043e\u0440\u0440\u0435\u043b\u044f\u0446\u0438\u044f:\n",
            "         x        y\n",
            "x  1.00000  0.88917\n",
            "y  0.88917  1.00000\n"
          ],
          "execution_count": 12
        }
      ],
      "source": [
        "print(f\"\u041a\u043e\u0440\u0440\u0435\u043b\u044f\u0446\u0438\u044f:\\n{ frame.corr() }\")"
      ],
      "metadata": {
        "collapsed": false,
        "pycharm": {
          "name": "#%% code\n"
        }
      }
    },
    {
      "cell_type": "code",
      "execution_count": 13,
      "outputs": [
        {
          "data": {
            "text/plain": "<Figure size 432x288 with 1 Axes>",
            "image/png": "[encoded data removed]"
          },
          "metadata": {
            "needs_background": "light"
          },
          "output_type": "display_data",
          "execution_count": 13
        }
      ],
      "source": [
        "frame.plot.scatter('x', 'y')\n",
        "plt.title(\"\u0414\u0438\u0430\u0433\u0440\u0430\u043c\u043c\u0430 \u0440\u0430\u0441\u0441\u0435\u044f\u043d\u0438\u044f\")\n",
        "plt.show()"
      ],
      "metadata": {
        "collapsed": false,
        "pycharm": {
          "name": "#%% code\n"
        }
      }
    },
    {
      "cell_type": "markdown",
      "source": [
        "## \u041f\u0443\u043d\u043a\u0442 2"
      ],
      "metadata": {
        "collapsed": false
      }
    },
    {
      "cell_type": "code",
      "execution_count": 14,
      "outputs": [
        {
          "name": "stdout",
          "output_type": "stream",
          "text": [
            "\u0418\u0441\u0445\u043e\u0434\u043d\u044b\u0435 \u043d\u0430\u0431\u043e\u0440\u044b \u0434\u0430\u043d\u043d\u044b\u0445:\n",
            "    a   b   c\n",
            "0  17  11  11\n",
            "1  17   9   8\n",
            "2  12  13  19\n"
          ],
          "execution_count": 14
        }
      ],
      "source": [
        "frame = pd.read_json('data2.json')\n",
        "print(f\"\u0418\u0441\u0445\u043e\u0434\u043d\u044b\u0435 \u043d\u0430\u0431\u043e\u0440\u044b \u0434\u0430\u043d\u043d\u044b\u0445:\\n{ frame }\")"
      ],
      "metadata": {
        "collapsed": false,
        "pycharm": {
          "name": "#%% code\n"
        }
      }
    },
    {
      "cell_type": "code",
      "execution_count": 15,
      "outputs": [
        {
          "name": "stdout",
          "output_type": "stream",
          "text": [
            "\u041a\u043e\u0432\u0430\u0440\u0438\u0430\u0446\u0438\u043e\u043d\u043d\u0430\u044f \u043c\u0430\u0442\u0440\u0438\u0446\u0430:\n",
            "           a     b          c\n",
            "a   8.333333  -5.0 -15.833333\n",
            "b  -5.000000   4.0  11.000000\n",
            "c -15.833333  11.0  32.333333\n"
          ],
          "execution_count": 15
        }
      ],
      "source": [
        "print(f\"\u041a\u043e\u0432\u0430\u0440\u0438\u0430\u0446\u0438\u043e\u043d\u043d\u0430\u044f \u043c\u0430\u0442\u0440\u0438\u0446\u0430:\\n{ frame.cov() }\")"
      ],
      "metadata": {
        "collapsed": false,
        "pycharm": {
          "name": "#%% code\n"
        }
      }
    },
    {
      "cell_type": "markdown",
      "source": [
        "#### \u041e\u0431\u043e\u0431\u0449\u0451\u043d\u043d\u0430\u044f \u0434\u0438\u0441\u043f\u0435\u0440\u0441\u0438\u044f\n",
        "##### \u041e\u0431\u043e\u0431\u0449\u0451\u043d\u043d\u0430\u044f \u0434\u0438\u0441\u043f\u0435\u0440\u0441\u0438\u044f - \u044d\u0442\u043e \u0441\u043a\u0430\u043b\u044f\u0440\u043d\u043e\u0435 \u0437\u043d\u0430\u0447\u0435\u043d\u0438\u0435, \u043a\u043e\u0442\u043e\u0440\u043e\u0435 \u043e\u0431\u043e\u0431\u0449\u0430\u0435\u0442 \u0434\u0438\u0441\u043f\u0435\u0440\u0441\u0438\u044e \u0434\u043b\u044f \u043c\u043d\u043e\u0433\u043e\u043c\u0435\u0440\u043d\u044b\u0445 \u0441\u043b\u0443\u0447\u0430\u0439\u043d\u044b\u0445 \u0432\u0435\u043b\u0438\u0447\u0438\u043d. \u041f\u0440\u0435\u0434\u0441\u0442\u0430\u0432\u043b\u044f\u0435\u0442 \u0438\u0437 \u0441\u0435\u0431\u044f \u043e\u043f\u0440\u0435\u0434\u0435\u043b\u0438\u0442\u0435\u043b\u044c \u043a\u043e\u0432\u0430\u0440\u0438\u0430\u0446\u0438\u043e\u043d\u043d\u043e\u0439 \u043c\u0430\u0442\u0440\u0438\u0446\u044b.\n",
        "##### \u0424\u043e\u0440\u043c\u0443\u043b\u0430 (\u043a\u043e\u044d\u0444\u0444\u0438\u0446\u0438\u0435\u043d\u0442):\n",
        "\\begin{equation}\n",
        "    s(x, y) = |H(x, y)|\n",
        "\\end{equation}\n",
        ", \u0433\u0434\u0435 $H(x, y)$ - \u043a\u043e\u0432\u0430\u0440\u0438\u0430\u0446\u0438\u043e\u043d\u043d\u0430\u044f \u043c\u0430\u0442\u0440\u0438\u0446\u0430."
      ],
      "metadata": {
        "collapsed": false,
        "pycharm": {
          "name": "#%% md\n"
        }
      }
    },
    {
      "cell_type": "code",
      "execution_count": 16,
      "outputs": [
        {
          "name": "stdout",
          "output_type": "stream",
          "text": [
            "\u041e\u0431\u043e\u0431\u0449\u0451\u043d\u043d\u0430\u044f \u0434\u0438\u0441\u043f\u0435\u0440\u0441\u0438\u044f: 2.2204460492503156e-14\n"
          ],
          "execution_count": 16
        }
      ],
      "source": [
        "print(f\"\u041e\u0431\u043e\u0431\u0449\u0451\u043d\u043d\u0430\u044f \u0434\u0438\u0441\u043f\u0435\u0440\u0441\u0438\u044f: { det(frame.cov().values) }\")"
      ],
      "metadata": {
        "collapsed": false,
        "pycharm": {
          "name": "#%% code\n"
        }
      }
    },
    {
      "cell_type": "markdown",
      "source": [
        "## \u041f\u0443\u043d\u043a\u0442 3"
      ],
      "metadata": {
        "collapsed": false
      }
    },
    {
      "cell_type": "code",
      "execution_count": 17,
      "outputs": [
        {
          "data": {
            "text/plain": "<Figure size 432x288 with 1 Axes>",
            "image/png": "[encoded data removed]"
          },
          "metadata": {
            "needs_background": "light"
          },
          "output_type": "display_data",
          "execution_count": 17
        }
      ],
      "source": [
        "Na = lambda x: normal_distribution(x, 1, 4)\n",
        "Nb = lambda x: normal_distribution(x, 2, 8)\n",
        "arr = [x for x in arange(0, 15, 0.1)]\n",
        "\n",
        "plt.plot(arr, [Na(x) for x in arr], label=\"Na\")\n",
        "plt.plot(arr, [Nb(x) for x in arr], label=\"Nb\")\n",
        "plt.legend()\n",
        "plt.title(\"Na \u0438 Nb\")\n",
        "plt.xlabel(\"x\")\n",
        "plt.ylabel(\"y\")\n",
        "plt.show()"
      ],
      "metadata": {
        "collapsed": false,
        "pycharm": {
          "name": "#%% code\n"
        }
      }
    },
    {
      "cell_type": "code",
      "execution_count": 18,
      "outputs": [
        {
          "name": "stdout",
          "output_type": "stream",
          "text": [
            "\u0417\u043d\u0430\u0447\u0435\u043d\u0438\u0435 5 \u0441 \u0431\u043e\u043b\u044c\u0448\u0435\u0439 \u0432\u0435\u0440\u043e\u044f\u0442\u043d\u043e\u0441\u0442\u044c\u044e \u0431\u044b\u043b\u043e \u0441\u0433\u0435\u043d\u0435\u0440\u0438\u0440\u043e\u0432\u0430\u043d\u043e \u0440\u0430\u0441\u043f\u0440\u0435\u0434\u0435\u043b\u0435\u043d\u0438\u0435\u043c Na\n",
            "\u0417\u043d\u0430\u0447\u0435\u043d\u0438\u0435 6 \u0441 \u0431\u043e\u043b\u044c\u0448\u0435\u0439 \u0432\u0435\u0440\u043e\u044f\u0442\u043d\u043e\u0441\u0442\u044c\u044e \u0431\u044b\u043b\u043e \u0441\u0433\u0435\u043d\u0435\u0440\u0438\u0440\u043e\u0432\u0430\u043d\u043e \u0440\u0430\u0441\u043f\u0440\u0435\u0434\u0435\u043b\u0435\u043d\u0438\u0435\u043c Nb\n",
            "\u0417\u043d\u0430\u0447\u0435\u043d\u0438\u0435 7 \u0441 \u0431\u043e\u043b\u044c\u0448\u0435\u0439 \u0432\u0435\u0440\u043e\u044f\u0442\u043d\u043e\u0441\u0442\u044c\u044e \u0431\u044b\u043b\u043e \u0441\u0433\u0435\u043d\u0435\u0440\u0438\u0440\u043e\u0432\u0430\u043d\u043e \u0440\u0430\u0441\u043f\u0440\u0435\u0434\u0435\u043b\u0435\u043d\u0438\u0435\u043c Nb\n"
          ],
          "execution_count": 18
        }
      ],
      "source": [
        "for i in range(5, 8):\n",
        "    print(f\"\u0417\u043d\u0430\u0447\u0435\u043d\u0438\u0435 { i } \u0441 \u0431\u043e\u043b\u044c\u0448\u0435\u0439 \u0432\u0435\u0440\u043e\u044f\u0442\u043d\u043e\u0441\u0442\u044c\u044e \u0431\u044b\u043b\u043e \u0441\u0433\u0435\u043d\u0435\u0440\u0438\u0440\u043e\u0432\u0430\u043d\u043e \u0440\u0430\u0441\u043f\u0440\u0435\u0434\u0435\u043b\u0435\u043d\u0438\u0435\u043c { 'Na' if max(Na(i), Nb(i)) == Na(i) else 'Nb' }\")"
      ],
      "metadata": {
        "collapsed": false,
        "pycharm": {
          "name": "#%% code\n"
        }
      }
    },
    {
      "cell_type": "code",
      "execution_count": 19,
      "outputs": [
        {
          "name": "stdout",
          "output_type": "stream",
          "text": [
            "\u0417\u043d\u0430\u0447\u0435\u043d\u0438\u0435, \u043a\u043e\u0442\u043e\u0440\u043e\u0435 \u043c\u043e\u0433\u043b\u043e \u0431\u044b\u0442\u044c \u0441\u0433\u0435\u043d\u0435\u0440\u0438\u0440\u043e\u0432\u0430\u043d\u043e \u043e\u0431\u0435\u0438\u043c\u0438 \u0440\u0430\u0441\u043f\u0440\u0435\u0434\u0435\u043b\u0435\u043d\u0438\u044f\u043c\u0438 \u0441 \u0440\u0430\u0432\u043d\u043e\u0439 \u0432\u0435\u0440\u043e\u044f\u0442\u043d\u043e\u0441\u0442\u044c\u044e: 5.659909655901637\n"
          ],
          "execution_count": 19
        }
      ],
      "source": [
        "print(f\"\u0417\u043d\u0430\u0447\u0435\u043d\u0438\u0435, \u043a\u043e\u0442\u043e\u0440\u043e\u0435 \u043c\u043e\u0433\u043b\u043e \u0431\u044b\u0442\u044c \u0441\u0433\u0435\u043d\u0435\u0440\u0438\u0440\u043e\u0432\u0430\u043d\u043e \u043e\u0431\u0435\u0438\u043c\u0438 \u0440\u0430\u0441\u043f\u0440\u0435\u0434\u0435\u043b\u0435\u043d\u0438\u044f\u043c\u0438 \u0441 \u0440\u0430\u0432\u043d\u043e\u0439 \u0432\u0435\u0440\u043e\u044f\u0442\u043d\u043e\u0441\u0442\u044c\u044e: { fsolve(lambda x: Na(x) - Nb(x), 5.0)[0] }\")\n"
      ],
      "metadata": {
        "collapsed": false,
        "pycharm": {
          "name": "#%% code\n"
        }
      }
    }
  ],
  "metadata": {
    "kernelspec": {
      "name": "pycharm-b790e308",
      "language": "python",
      "display_name": "PyCharm (ML-prac1)"
    },
    "language_info": {
      "codemirror_mode": {
        "name": "ipython",
        "version": 3
      },
      "file_extension": ".py",
      "mimetype": "text/x-python",
      "name": "python",
      "nbconvert_exporter": "python",
      "pygments_lexer": "ipython3",
      "version": "3.8.10"
    }
  },
  "nbformat": 4,
  "nbformat_minor": 1
}