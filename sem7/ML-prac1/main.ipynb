{
 "cells": [
  {
   "cell_type": "markdown",
   "source": [
    "# Практическая работа №1"
   ],
   "metadata": {
    "collapsed": false
   }
  },
  {
   "cell_type": "markdown",
   "source": [
    "### Используемые библиотеки"
   ],
   "metadata": {
    "collapsed": false
   }
  },
  {
   "cell_type": "code",
   "execution_count": 135,
   "outputs": [],
   "source": [
    "import pandas as pd\n",
    "import matplotlib.pyplot as plt\n",
    "from scipy.integrate import quad\n",
    "from scipy.optimize import fsolve\n",
    "from numpy import inf, arange\n",
    "from numpy.linalg import det\n",
    "\n",
    "import json\n",
    "from math import exp, sqrt, pi"
   ],
   "metadata": {
    "collapsed": false,
    "pycharm": {
     "name": "#%% code\n"
    }
   }
  },
  {
   "cell_type": "markdown",
   "source": [
    "### Используемые алгоритмы\n",
    "#### Нормальное распределение\n",
    "##### Нормальное распределение - это...\n",
    "##### Формула:\n",
    "$\\frac{1}{\\sigma\\sqrt{2\\pi}}\\exp(-\\frac{(x-2)^2}{2\\sigma^2})$\n",
    "###### , где $\\sigma$ - среднее значение, а $\\mu$ - cреднеквадратичное отклонение."
   ],
   "metadata": {
    "collapsed": false,
    "pycharm": {
     "name": "#%% md\n"
    }
   }
  },
  {
   "cell_type": "code",
   "execution_count": 136,
   "outputs": [],
   "source": [
    "normal_distribution = lambda x, s, m: exp(-0.5 * ((x - m) / s) ** 2) / (s * sqrt(2 * pi))"
   ],
   "metadata": {
    "collapsed": false,
    "pycharm": {
     "name": "#%% code\n"
    }
   }
  },
  {
   "cell_type": "markdown",
   "source": [
    "## Пункт 1"
   ],
   "metadata": {
    "collapsed": false
   }
  },
  {
   "cell_type": "code",
   "metadata": {
    "pycharm": {
     "name": "#%% code\n"
    }
   },
   "source": [
    "file = open(\"data1.json\", 'r')\n",
    "frame = pd.DataFrame(json.loads(file.read()))\n",
    "file.close()\n",
    "print(f\"Исходные наборы данных:\\n{ frame }\")"
   ],
   "execution_count": 137,
   "outputs": [
    {
     "name": "stdout",
     "output_type": "stream",
     "text": [
      "Исходные наборы данных:\n",
      "     x    y\n",
      "0   69  153\n",
      "1   74  175\n",
      "2   68  155\n",
      "3   70  135\n",
      "4   72  172\n",
      "5   67  150\n",
      "6   66  115\n",
      "7   70  137\n",
      "8   76  200\n",
      "9   68  130\n",
      "10  72  140\n",
      "11  79  265\n",
      "12  74  185\n",
      "13  67  112\n",
      "14  66  140\n",
      "15  71  150\n",
      "16  74  165\n",
      "17  75  185\n",
      "18  75  210\n",
      "19  76  220\n"
     ]
    }
   ]
  },
  {
   "cell_type": "code",
   "execution_count": 138,
   "metadata": {
    "pycharm": {
     "name": "#%% code\n"
    }
   },
   "outputs": [
    {
     "name": "stdout",
     "output_type": "stream",
     "text": [
      "Среднее значение x: 71.45\n"
     ]
    }
   ],
   "source": [
    "print(f\"Среднее значение x: { frame['x'].mean() }\")"
   ]
  },
  {
   "cell_type": "code",
   "execution_count": 139,
   "outputs": [
    {
     "name": "stdout",
     "output_type": "stream",
     "text": [
      "Медиана x: 71.5\n"
     ]
    }
   ],
   "source": [
    "print(f\"Медиана x: { frame['x'].median() }\")"
   ],
   "metadata": {
    "collapsed": false,
    "pycharm": {
     "name": "#%% code\n"
    }
   }
  },
  {
   "cell_type": "code",
   "execution_count": 140,
   "outputs": [
    {
     "name": "stdout",
     "output_type": "stream",
     "text": [
      "Мода x: 74\n"
     ]
    }
   ],
   "source": [
    "print(f\"Мода x: { frame['x'].mode()[0] }\")"
   ],
   "metadata": {
    "collapsed": false,
    "pycharm": {
     "name": "#%% code\n"
    }
   }
  },
  {
   "cell_type": "code",
   "execution_count": 141,
   "outputs": [
    {
     "name": "stdout",
     "output_type": "stream",
     "text": [
      "Дисперсия y: 14.576315789473687\n"
     ]
    }
   ],
   "source": [
    "print(f\"Дисперсия y: { frame['x'].var() }\")"
   ],
   "metadata": {
    "collapsed": false,
    "pycharm": {
     "name": "#%% code\n"
    }
   }
  },
  {
   "cell_type": "code",
   "execution_count": 142,
   "outputs": [
    {
     "data": {
      "text/plain": "<Figure size 432x288 with 1 Axes>",
      "image/png": "[encoded data removed]"
     },
     "metadata": {
      "needs_background": "light"
     },
     "output_type": "display_data"
    }
   ],
   "source": [
    "frame['x'].plot.kde()\n",
    "plt.show()\n"
   ],
   "metadata": {
    "collapsed": false,
    "pycharm": {
     "name": "#%% code\n"
    }
   }
  },
  {
   "cell_type": "code",
   "execution_count": 143,
   "outputs": [
    {
     "name": "stdout",
     "output_type": "stream",
     "text": [
      "Вероятность того, что возраст больше 80, составит: 0.012563181452947533 +/- 2.9068309037497502e-11\n"
     ]
    }
   ],
   "source": [
    "sigma = frame['x'].std()\n",
    "mu = frame['x'].mean()\n",
    "integral = quad(lambda x: normal_distribution(x, sigma, mu), 80, +inf)\n",
    "print(f\"Вероятность того, что возраст больше 80, составит: {integral[0]} +/- {integral[1]}\")"
   ],
   "metadata": {
    "collapsed": false,
    "pycharm": {
     "name": "#%% code\n"
    }
   }
  },
  {
   "cell_type": "code",
   "execution_count": 144,
   "outputs": [
    {
     "name": "stdout",
     "output_type": "stream",
     "text": [
      "Двумерное математическое ожидание: (71.45, 164.7)\n"
     ]
    }
   ],
   "source": [
    "print(f\"Двумерное математическое ожидание: { frame['x'].mean(), frame['y'].mean() }\")"
   ],
   "metadata": {
    "collapsed": false,
    "pycharm": {
     "name": "#%% code\n"
    }
   }
  },
  {
   "cell_type": "code",
   "execution_count": 145,
   "outputs": [
    {
     "name": "stdout",
     "output_type": "stream",
     "text": [
      "Ковариационная матрица:\n",
      "            x            y\n",
      "x   14.576316   128.878947\n",
      "y  128.878947  1441.273684\n",
      "\n"
     ]
    }
   ],
   "source": [
    "print(f\"Ковариационная матрица:\\n{ frame.cov() }\\n\")"
   ],
   "metadata": {
    "collapsed": false,
    "pycharm": {
     "name": "#%% code\n"
    }
   }
  },
  {
   "cell_type": "code",
   "execution_count": 146,
   "outputs": [
    {
     "name": "stdout",
     "output_type": "stream",
     "text": [
      "Корреляция: 4398.677285318566\n"
     ]
    }
   ],
   "source": [
    "print(f\"Корреляция: { det(frame.cov()) }\")"
   ],
   "metadata": {
    "collapsed": false,
    "pycharm": {
     "name": "#%% code\n"
    }
   }
  },
  {
   "cell_type": "code",
   "execution_count": 147,
   "outputs": [
    {
     "data": {
      "text/plain": "<Figure size 432x288 with 1 Axes>",
      "image/png": "[encoded data removed]"
     },
     "metadata": {
      "needs_background": "light"
     },
     "output_type": "display_data"
    }
   ],
   "source": [
    "frame.plot.scatter('x', 'y')\n",
    "plt.show()"
   ],
   "metadata": {
    "collapsed": false,
    "pycharm": {
     "name": "#%% code\n"
    }
   }
  },
  {
   "cell_type": "markdown",
   "source": [
    "## Пункт 2"
   ],
   "metadata": {
    "collapsed": false
   }
  },
  {
   "cell_type": "code",
   "execution_count": 148,
   "outputs": [
    {
     "name": "stdout",
     "output_type": "stream",
     "text": [
      "Исходные наборы данных:\n",
      "    a   b   c\n",
      "0  17  11  11\n",
      "1  17   9   8\n",
      "2  12  13  19\n"
     ]
    }
   ],
   "source": [
    "file = open(\"data2.json\", 'r')\n",
    "frame = pd.DataFrame(json.loads(file.read()))\n",
    "file.close()\n",
    "print(f\"Исходные наборы данных:\\n{ frame }\")"
   ],
   "metadata": {
    "collapsed": false,
    "pycharm": {
     "name": "#%% code\n"
    }
   }
  },
  {
   "cell_type": "code",
   "execution_count": 149,
   "outputs": [
    {
     "name": "stdout",
     "output_type": "stream",
     "text": [
      "Ковариационная матрица:\n",
      "           a     b          c\n",
      "a   8.333333  -5.0 -15.833333\n",
      "b  -5.000000   4.0  11.000000\n",
      "c -15.833333  11.0  32.333333\n"
     ]
    }
   ],
   "source": [
    "print(f\"Ковариационная матрица:\\n{ frame.cov() }\")"
   ],
   "metadata": {
    "collapsed": false,
    "pycharm": {
     "name": "#%% code\n"
    }
   }
  },
  {
   "cell_type": "code",
   "execution_count": 150,
   "outputs": [
    {
     "name": "stdout",
     "output_type": "stream",
     "text": [
      "Обобщенная дисперсия: 2.2204460492503156e-14\n"
     ]
    }
   ],
   "source": [
    "print(f\"Обобщенная дисперсия: { det(frame.cov().values) }\")\n"
   ],
   "metadata": {
    "collapsed": false,
    "pycharm": {
     "name": "#%% code\n"
    }
   }
  },
  {
   "cell_type": "markdown",
   "source": [
    "## Пункт 3"
   ],
   "metadata": {
    "collapsed": false
   }
  },
  {
   "cell_type": "code",
   "execution_count": 151,
   "outputs": [
    {
     "data": {
      "text/plain": "<Figure size 432x288 with 1 Axes>",
      "image/png": "[encoded data removed]"
     },
     "metadata": {
      "needs_background": "light"
     },
     "output_type": "display_data"
    }
   ],
   "source": [
    "Na = lambda x: normal_distribution(x, 1, 4)\n",
    "Nb = lambda x: normal_distribution(x, 2, 8)\n",
    "arr = [x for x in arange(0, 15, 0.1)]\n",
    "\n",
    "plt.plot(arr, [Na(x) for x in arr])\n",
    "plt.plot(arr, [Nb(x) for x in arr])\n",
    "plt.show()"
   ],
   "metadata": {
    "collapsed": false,
    "pycharm": {
     "name": "#%% code\n"
    }
   }
  },
  {
   "cell_type": "code",
   "execution_count": 152,
   "outputs": [
    {
     "name": "stdout",
     "output_type": "stream",
     "text": [
      "Значение 5 с большей вероятностью было сгенерировано распределением Na\n",
      "Значение 6 с большей вероятностью было сгенерировано распределением Nb\n",
      "Значение 7 с большей вероятностью было сгенерировано распределением Nb\n"
     ]
    }
   ],
   "source": [
    "for i in range(5, 8):\n",
    "    print(f\"Значение { i } с большей вероятностью было сгенерировано распределением { 'Na' if max(Na(i), Nb(i)) == Na(i) else 'Nb' }\")"
   ],
   "metadata": {
    "collapsed": false,
    "pycharm": {
     "name": "#%% code\n"
    }
   }
  },
  {
   "cell_type": "code",
   "execution_count": 153,
   "outputs": [
    {
     "name": "stdout",
     "output_type": "stream",
     "text": [
      "Значение, которое могло быть сгенерировано обеими распределениями с равной вероятностью: 5.659909655901637\n"
     ]
    }
   ],
   "source": [
    "print(f\"Значение, которое могло быть сгенерировано обеими распределениями с равной вероятностью: { fsolve(lambda x: Na(x) - Nb(x), 5.0)[0] }\")"
   ],
   "metadata": {
    "collapsed": false,
    "pycharm": {
     "name": "#%% code\n"
    }
   }
  }
 ],
 "metadata": {
  "kernelspec": {
   "display_name": "Python 3 (ipykernel)",
   "language": "python",
   "name": "python3"
  },
  "language_info": {
   "codemirror_mode": {
    "name": "ipython",
    "version": 3
   },
   "file_extension": ".py",
   "mimetype": "text/x-python",
   "name": "python",
   "nbconvert_exporter": "python",
   "pygments_lexer": "ipython3",
   "version": "3.8.10"
  }
 },
 "nbformat": 4,
 "nbformat_minor": 1
}