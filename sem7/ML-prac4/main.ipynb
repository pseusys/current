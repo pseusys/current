{
 "cells": [
  {
   "cell_type": "markdown",
   "metadata": {
    "collapsed": true,
    "pycharm": {
     "name": "#%% md\n"
    }
   },
   "source": [
    "# Практическая работа №4"
   ]
  },
  {
   "cell_type": "markdown",
   "source": [
    "### Используемые библиотеки"
   ],
   "metadata": {
    "collapsed": false
   }
  },
  {
   "cell_type": "code",
   "execution_count": 1,
   "outputs": [],
   "source": [
    "import pandas as pd\n",
    "import mlxtend.frequent_patterns as fp\n",
    "import mlxtend.preprocessing as pp\n",
    "from itertools import product"
   ],
   "metadata": {
    "collapsed": false,
    "pycharm": {
     "name": "#%% code\n"
    }
   }
  },
  {
   "cell_type": "markdown",
   "source": [
    "### Исходные данные\n",
    "\n",
    "`data1.csv`:\n",
    "```csv\n",
    "tid,itemset\n",
    "t1,ACD\n",
    "t2,BCD\n",
    "t3,AC\n",
    "t4,ABD\n",
    "t5,ABCD\n",
    "t6,BCD\n",
    "```\n",
    "\n",
    "`data2.csv`:\n",
    "```csv\n",
    "itemset,length\n",
    " ,6\n",
    "A,6\n",
    "B,5\n",
    "C,4\n",
    "D,3\n",
    "AB,5\n",
    "AC,4\n",
    "AD,3\n",
    "BC,3\n",
    "BD,2\n",
    "CD,2\n",
    "ABC,3\n",
    "ABD,2\n",
    "ACD,2\n",
    "BCD,1\n",
    "ABCD,1\n",
    "```\n",
    "\n",
    "`data3.csv`:\n",
    "```csv\n",
    "id,sequence\n",
    "s1,AATACAAGAAC\n",
    "s2,GTATGGTGAT\n",
    "s3,AACATGGCCAA\n",
    "s4,AAGCGTGGTCAA\n",
    "```"
   ],
   "metadata": {
    "collapsed": false
   }
  },
  {
   "cell_type": "markdown",
   "source": [
    "## Задание 1"
   ],
   "metadata": {
    "collapsed": false
   }
  },
  {
   "cell_type": "code",
   "execution_count": 2,
   "outputs": [
    {
     "name": "stdout",
     "output_type": "stream",
     "text": [
      "Исходный набор данных:\n"
     ]
    },
    {
     "data": {
      "text/plain": "  tid       itemset\n0  t1     [A, C, D]\n1  t2     [B, C, D]\n2  t3        [A, C]\n3  t4     [A, B, D]\n4  t5  [A, B, C, D]\n5  t6     [B, C, D]",
      "text/html": "<div>\n<style scoped>\n    .dataframe tbody tr th:only-of-type {\n        vertical-align: middle;\n    }\n\n    .dataframe tbody tr th {\n        vertical-align: top;\n    }\n\n    .dataframe thead th {\n        text-align: right;\n    }\n</style>\n<table border=\"1\" class=\"dataframe\">\n  <thead>\n    <tr style=\"text-align: right;\">\n      <th></th>\n      <th>tid</th>\n      <th>itemset</th>\n    </tr>\n  </thead>\n  <tbody>\n    <tr>\n      <th>0</th>\n      <td>t1</td>\n      <td>[A, C, D]</td>\n    </tr>\n    <tr>\n      <th>1</th>\n      <td>t2</td>\n      <td>[B, C, D]</td>\n    </tr>\n    <tr>\n      <th>2</th>\n      <td>t3</td>\n      <td>[A, C]</td>\n    </tr>\n    <tr>\n      <th>3</th>\n      <td>t4</td>\n      <td>[A, B, D]</td>\n    </tr>\n    <tr>\n      <th>4</th>\n      <td>t5</td>\n      <td>[A, B, C, D]</td>\n    </tr>\n    <tr>\n      <th>5</th>\n      <td>t6</td>\n      <td>[B, C, D]</td>\n    </tr>\n  </tbody>\n</table>\n</div>"
     },
     "execution_count": 2,
     "metadata": {},
     "output_type": "execute_result"
    }
   ],
   "source": [
    "frame = pd.read_csv('data1.csv').apply(lambda x: x.apply(list) if x.name == 'itemset' else x)\n",
    "print(f\"Исходный набор данных:\")\n",
    "frame"
   ],
   "metadata": {
    "collapsed": false,
    "pycharm": {
     "name": "#%% code\n"
    }
   }
  },
  {
   "cell_type": "markdown",
   "source": [
    "### Кодирование данных в виде матрицы"
   ],
   "metadata": {
    "collapsed": false
   }
  },
  {
   "cell_type": "code",
   "execution_count": 3,
   "outputs": [
    {
     "data": {
      "text/plain": "       A      B      C      D\n0   True  False   True   True\n1  False   True   True   True\n2   True  False   True  False\n3   True   True  False   True\n4   True   True   True   True\n5  False   True   True   True",
      "text/html": "<div>\n<style scoped>\n    .dataframe tbody tr th:only-of-type {\n        vertical-align: middle;\n    }\n\n    .dataframe tbody tr th {\n        vertical-align: top;\n    }\n\n    .dataframe thead th {\n        text-align: right;\n    }\n</style>\n<table border=\"1\" class=\"dataframe\">\n  <thead>\n    <tr style=\"text-align: right;\">\n      <th></th>\n      <th>A</th>\n      <th>B</th>\n      <th>C</th>\n      <th>D</th>\n    </tr>\n  </thead>\n  <tbody>\n    <tr>\n      <th>0</th>\n      <td>True</td>\n      <td>False</td>\n      <td>True</td>\n      <td>True</td>\n    </tr>\n    <tr>\n      <th>1</th>\n      <td>False</td>\n      <td>True</td>\n      <td>True</td>\n      <td>True</td>\n    </tr>\n    <tr>\n      <th>2</th>\n      <td>True</td>\n      <td>False</td>\n      <td>True</td>\n      <td>False</td>\n    </tr>\n    <tr>\n      <th>3</th>\n      <td>True</td>\n      <td>True</td>\n      <td>False</td>\n      <td>True</td>\n    </tr>\n    <tr>\n      <th>4</th>\n      <td>True</td>\n      <td>True</td>\n      <td>True</td>\n      <td>True</td>\n    </tr>\n    <tr>\n      <th>5</th>\n      <td>False</td>\n      <td>True</td>\n      <td>True</td>\n      <td>True</td>\n    </tr>\n  </tbody>\n</table>\n</div>"
     },
     "execution_count": 3,
     "metadata": {},
     "output_type": "execute_result"
    }
   ],
   "source": [
    "te = pp.TransactionEncoder()\n",
    "frame = pd.DataFrame(te.fit_transform(frame['itemset'].tolist()), columns=te.columns_)\n",
    "frame"
   ],
   "metadata": {
    "collapsed": false,
    "pycharm": {
     "name": "#%% code\n"
    }
   }
  },
  {
   "cell_type": "markdown",
   "source": [
    "#### NB! Здесь и далее принимаем уровни поддержки деленными на длину набора входных данных."
   ],
   "metadata": {
    "collapsed": false
   }
  },
  {
   "cell_type": "code",
   "execution_count": 4,
   "outputs": [
    {
     "data": {
      "text/plain": "     support      itemsets  length\n0   0.833333           (D)       1\n1   0.833333           (C)       1\n2   0.666667           (A)       1\n3   0.666667           (B)       1\n4   0.666667        (D, C)       2\n5   0.500000        (C, A)       2\n6   0.500000        (D, A)       2\n7   0.333333        (B, A)       2\n8   0.333333     (D, C, A)       3\n9   0.333333     (D, B, A)       3\n10  0.166667     (B, C, A)       3\n11  0.166667  (D, B, C, A)       4\n12  0.666667        (D, B)       2\n13  0.500000        (B, C)       2\n14  0.500000     (D, B, C)       3",
      "text/html": "<div>\n<style scoped>\n    .dataframe tbody tr th:only-of-type {\n        vertical-align: middle;\n    }\n\n    .dataframe tbody tr th {\n        vertical-align: top;\n    }\n\n    .dataframe thead th {\n        text-align: right;\n    }\n</style>\n<table border=\"1\" class=\"dataframe\">\n  <thead>\n    <tr style=\"text-align: right;\">\n      <th></th>\n      <th>support</th>\n      <th>itemsets</th>\n      <th>length</th>\n    </tr>\n  </thead>\n  <tbody>\n    <tr>\n      <th>0</th>\n      <td>0.833333</td>\n      <td>(D)</td>\n      <td>1</td>\n    </tr>\n    <tr>\n      <th>1</th>\n      <td>0.833333</td>\n      <td>(C)</td>\n      <td>1</td>\n    </tr>\n    <tr>\n      <th>2</th>\n      <td>0.666667</td>\n      <td>(A)</td>\n      <td>1</td>\n    </tr>\n    <tr>\n      <th>3</th>\n      <td>0.666667</td>\n      <td>(B)</td>\n      <td>1</td>\n    </tr>\n    <tr>\n      <th>4</th>\n      <td>0.666667</td>\n      <td>(D, C)</td>\n      <td>2</td>\n    </tr>\n    <tr>\n      <th>5</th>\n      <td>0.500000</td>\n      <td>(C, A)</td>\n      <td>2</td>\n    </tr>\n    <tr>\n      <th>6</th>\n      <td>0.500000</td>\n      <td>(D, A)</td>\n      <td>2</td>\n    </tr>\n    <tr>\n      <th>7</th>\n      <td>0.333333</td>\n      <td>(B, A)</td>\n      <td>2</td>\n    </tr>\n    <tr>\n      <th>8</th>\n      <td>0.333333</td>\n      <td>(D, C, A)</td>\n      <td>3</td>\n    </tr>\n    <tr>\n      <th>9</th>\n      <td>0.333333</td>\n      <td>(D, B, A)</td>\n      <td>3</td>\n    </tr>\n    <tr>\n      <th>10</th>\n      <td>0.166667</td>\n      <td>(B, C, A)</td>\n      <td>3</td>\n    </tr>\n    <tr>\n      <th>11</th>\n      <td>0.166667</td>\n      <td>(D, B, C, A)</td>\n      <td>4</td>\n    </tr>\n    <tr>\n      <th>12</th>\n      <td>0.666667</td>\n      <td>(D, B)</td>\n      <td>2</td>\n    </tr>\n    <tr>\n      <th>13</th>\n      <td>0.500000</td>\n      <td>(B, C)</td>\n      <td>2</td>\n    </tr>\n    <tr>\n      <th>14</th>\n      <td>0.500000</td>\n      <td>(D, B, C)</td>\n      <td>3</td>\n    </tr>\n  </tbody>\n</table>\n</div>"
     },
     "execution_count": 4,
     "metadata": {},
     "output_type": "execute_result"
    }
   ],
   "source": [
    "frame = fp.fpgrowth(frame, min_support=1.0/6.0, use_colnames=True)\n",
    "frame['length'] = frame['itemsets'].apply(lambda x: len(x))\n",
    "frame"
   ],
   "metadata": {
    "collapsed": false,
    "pycharm": {
     "name": "#%% code\n"
    }
   }
  },
  {
   "cell_type": "code",
   "execution_count": 5,
   "outputs": [
    {
     "data": {
      "text/plain": "    support itemsets  length\n0  0.833333      (D)       1\n1  0.833333      (C)       1\n2  0.666667      (A)       1\n3  0.666667      (B)       1",
      "text/html": "<div>\n<style scoped>\n    .dataframe tbody tr th:only-of-type {\n        vertical-align: middle;\n    }\n\n    .dataframe tbody tr th {\n        vertical-align: top;\n    }\n\n    .dataframe thead th {\n        text-align: right;\n    }\n</style>\n<table border=\"1\" class=\"dataframe\">\n  <thead>\n    <tr style=\"text-align: right;\">\n      <th></th>\n      <th>support</th>\n      <th>itemsets</th>\n      <th>length</th>\n    </tr>\n  </thead>\n  <tbody>\n    <tr>\n      <th>0</th>\n      <td>0.833333</td>\n      <td>(D)</td>\n      <td>1</td>\n    </tr>\n    <tr>\n      <th>1</th>\n      <td>0.833333</td>\n      <td>(C)</td>\n      <td>1</td>\n    </tr>\n    <tr>\n      <th>2</th>\n      <td>0.666667</td>\n      <td>(A)</td>\n      <td>1</td>\n    </tr>\n    <tr>\n      <th>3</th>\n      <td>0.666667</td>\n      <td>(B)</td>\n      <td>1</td>\n    </tr>\n  </tbody>\n</table>\n</div>"
     },
     "execution_count": 5,
     "metadata": {},
     "output_type": "execute_result"
    }
   ],
   "source": [
    "min_gens = []\n",
    "for item in frame['itemsets']:\n",
    "    gen = True\n",
    "    for part in frame['itemsets']:\n",
    "        gen = gen and ((part == item) or not part.issubset(item))\n",
    "    if gen:\n",
    "        min_gens += [item]\n",
    "frame.loc[frame['itemsets'].isin(min_gens)]"
   ],
   "metadata": {
    "collapsed": false,
    "pycharm": {
     "name": "#%% code\n"
    }
   }
  },
  {
   "cell_type": "markdown",
   "source": [
    "## Задание 2"
   ],
   "metadata": {
    "collapsed": false
   }
  },
  {
   "cell_type": "code",
   "execution_count": 6,
   "outputs": [
    {
     "name": "stdout",
     "output_type": "stream",
     "text": [
      "Исходный набор данных:\n"
     ]
    },
    {
     "data": {
      "text/plain": "         itemset  length\n0             []       6\n1            [A]       6\n2            [B]       5\n3            [C]       4\n4            [D]       3\n5         [A, B]       5\n6         [A, C]       4\n7         [A, D]       3\n8         [B, C]       3\n9         [B, D]       2\n10        [C, D]       2\n11     [A, B, C]       3\n12     [A, B, D]       2\n13     [A, C, D]       2\n14     [B, C, D]       1\n15  [A, B, C, D]       1",
      "text/html": "<div>\n<style scoped>\n    .dataframe tbody tr th:only-of-type {\n        vertical-align: middle;\n    }\n\n    .dataframe tbody tr th {\n        vertical-align: top;\n    }\n\n    .dataframe thead th {\n        text-align: right;\n    }\n</style>\n<table border=\"1\" class=\"dataframe\">\n  <thead>\n    <tr style=\"text-align: right;\">\n      <th></th>\n      <th>itemset</th>\n      <th>length</th>\n    </tr>\n  </thead>\n  <tbody>\n    <tr>\n      <th>0</th>\n      <td>[]</td>\n      <td>6</td>\n    </tr>\n    <tr>\n      <th>1</th>\n      <td>[A]</td>\n      <td>6</td>\n    </tr>\n    <tr>\n      <th>2</th>\n      <td>[B]</td>\n      <td>5</td>\n    </tr>\n    <tr>\n      <th>3</th>\n      <td>[C]</td>\n      <td>4</td>\n    </tr>\n    <tr>\n      <th>4</th>\n      <td>[D]</td>\n      <td>3</td>\n    </tr>\n    <tr>\n      <th>5</th>\n      <td>[A, B]</td>\n      <td>5</td>\n    </tr>\n    <tr>\n      <th>6</th>\n      <td>[A, C]</td>\n      <td>4</td>\n    </tr>\n    <tr>\n      <th>7</th>\n      <td>[A, D]</td>\n      <td>3</td>\n    </tr>\n    <tr>\n      <th>8</th>\n      <td>[B, C]</td>\n      <td>3</td>\n    </tr>\n    <tr>\n      <th>9</th>\n      <td>[B, D]</td>\n      <td>2</td>\n    </tr>\n    <tr>\n      <th>10</th>\n      <td>[C, D]</td>\n      <td>2</td>\n    </tr>\n    <tr>\n      <th>11</th>\n      <td>[A, B, C]</td>\n      <td>3</td>\n    </tr>\n    <tr>\n      <th>12</th>\n      <td>[A, B, D]</td>\n      <td>2</td>\n    </tr>\n    <tr>\n      <th>13</th>\n      <td>[A, C, D]</td>\n      <td>2</td>\n    </tr>\n    <tr>\n      <th>14</th>\n      <td>[B, C, D]</td>\n      <td>1</td>\n    </tr>\n    <tr>\n      <th>15</th>\n      <td>[A, B, C, D]</td>\n      <td>1</td>\n    </tr>\n  </tbody>\n</table>\n</div>"
     },
     "execution_count": 6,
     "metadata": {},
     "output_type": "execute_result"
    }
   ],
   "source": [
    "frame = pd.read_csv('data2.csv').apply(lambda x: x.apply(lambda y: list(y) if y != ' ' else []) if x.name == 'itemset' else x)\n",
    "print(f\"Исходный набор данных:\")\n",
    "frame"
   ],
   "metadata": {
    "collapsed": false,
    "pycharm": {
     "name": "#%% code\n"
    }
   }
  },
  {
   "cell_type": "code",
   "execution_count": 7,
   "outputs": [
    {
     "data": {
      "text/plain": "      itemset  length\n0          []       6\n2         [B]       5\n3         [C]       4\n4         [D]       3\n8      [B, C]       3\n9      [B, D]       2\n10     [C, D]       2\n14  [B, C, D]       1",
      "text/html": "<div>\n<style scoped>\n    .dataframe tbody tr th:only-of-type {\n        vertical-align: middle;\n    }\n\n    .dataframe tbody tr th {\n        vertical-align: top;\n    }\n\n    .dataframe thead th {\n        text-align: right;\n    }\n</style>\n<table border=\"1\" class=\"dataframe\">\n  <thead>\n    <tr style=\"text-align: right;\">\n      <th></th>\n      <th>itemset</th>\n      <th>length</th>\n    </tr>\n  </thead>\n  <tbody>\n    <tr>\n      <th>0</th>\n      <td>[]</td>\n      <td>6</td>\n    </tr>\n    <tr>\n      <th>2</th>\n      <td>[B]</td>\n      <td>5</td>\n    </tr>\n    <tr>\n      <th>3</th>\n      <td>[C]</td>\n      <td>4</td>\n    </tr>\n    <tr>\n      <th>4</th>\n      <td>[D]</td>\n      <td>3</td>\n    </tr>\n    <tr>\n      <th>8</th>\n      <td>[B, C]</td>\n      <td>3</td>\n    </tr>\n    <tr>\n      <th>9</th>\n      <td>[B, D]</td>\n      <td>2</td>\n    </tr>\n    <tr>\n      <th>10</th>\n      <td>[C, D]</td>\n      <td>2</td>\n    </tr>\n    <tr>\n      <th>14</th>\n      <td>[B, C, D]</td>\n      <td>1</td>\n    </tr>\n  </tbody>\n</table>\n</div>"
     },
     "execution_count": 7,
     "metadata": {},
     "output_type": "execute_result"
    }
   ],
   "source": [
    "closed = []\n",
    "for item in frame.itertuples():\n",
    "    cls = True\n",
    "    for part in frame.itertuples():\n",
    "        cls = cls and ((part[0] == item[0]) or not set(part[1]).issubset(item[1]) or part[2] != item[2])\n",
    "    if cls:\n",
    "        closed += [item]\n",
    "frame.loc[frame['itemset'].isin([x[1] for x in closed])]"
   ],
   "metadata": {
    "collapsed": false,
    "pycharm": {
     "name": "#%% code\n"
    }
   }
  },
  {
   "cell_type": "markdown",
   "source": [
    "#### NB! Выводимый набор - такой, поддержка которого может быть выведена из поддержек его поднаборов."
   ],
   "metadata": {
    "collapsed": false
   }
  },
  {
   "cell_type": "markdown",
   "source": [
    "`BCD` - невыводимый набор, так как его поднаборы имеют поддержки:\n",
    "3 (BC), 2 (BD), 2 (CD), а собственная его поддержка равна 1.\n",
    "\n",
    "`ABCD` - выводимый набор, так как его поднаборы имеют поддержки:\n",
    "3 (ABC), 2 (ABD), 2 (ACD), 1 (BCD), а собственная его поддержка равна 1."
   ],
   "metadata": {
    "collapsed": false,
    "pycharm": {
     "name": "#%% md\n"
    }
   }
  },
  {
   "cell_type": "markdown",
   "source": [
    "## Задание 3"
   ],
   "metadata": {
    "collapsed": false,
    "pycharm": {
     "name": "#%% md\n"
    }
   }
  },
  {
   "cell_type": "code",
   "source": [
    "frame = pd.read_csv('data3.csv').apply(lambda x: x.apply(list) if x.name == 'sequence' else x)\n",
    "print(f\"Исходный набор данных:\")\n",
    "frame"
   ],
   "metadata": {
    "collapsed": false,
    "pycharm": {
     "name": "#%% code\n"
    }
   },
   "execution_count": 8,
   "outputs": [
    {
     "name": "stdout",
     "output_type": "stream",
     "text": [
      "Исходный набор данных:\n"
     ]
    },
    {
     "data": {
      "text/plain": "   id                              sequence\n0  s1     [A, A, T, A, C, A, A, G, A, A, C]\n1  s2        [G, T, A, T, G, G, T, G, A, T]\n2  s3     [A, A, C, A, T, G, G, C, C, A, A]\n3  s4  [A, A, G, C, G, T, G, G, T, C, A, A]",
      "text/html": "<div>\n<style scoped>\n    .dataframe tbody tr th:only-of-type {\n        vertical-align: middle;\n    }\n\n    .dataframe tbody tr th {\n        vertical-align: top;\n    }\n\n    .dataframe thead th {\n        text-align: right;\n    }\n</style>\n<table border=\"1\" class=\"dataframe\">\n  <thead>\n    <tr style=\"text-align: right;\">\n      <th></th>\n      <th>id</th>\n      <th>sequence</th>\n    </tr>\n  </thead>\n  <tbody>\n    <tr>\n      <th>0</th>\n      <td>s1</td>\n      <td>[A, A, T, A, C, A, A, G, A, A, C]</td>\n    </tr>\n    <tr>\n      <th>1</th>\n      <td>s2</td>\n      <td>[G, T, A, T, G, G, T, G, A, T]</td>\n    </tr>\n    <tr>\n      <th>2</th>\n      <td>s3</td>\n      <td>[A, A, C, A, T, G, G, C, C, A, A]</td>\n    </tr>\n    <tr>\n      <th>3</th>\n      <td>s4</td>\n      <td>[A, A, G, C, G, T, G, G, T, C, A, A]</td>\n    </tr>\n  </tbody>\n</table>\n</div>"
     },
     "execution_count": 8,
     "metadata": {},
     "output_type": "execute_result"
    }
   ]
  },
  {
   "cell_type": "code",
   "execution_count": 9,
   "outputs": [
    {
     "name": "stdout",
     "output_type": "stream",
     "text": [
      "k = 1: 4\n",
      "k = 3: 64\n",
      "k = 5: 1024\n",
      "k = 7: 16384\n",
      "k = 9: 262144\n",
      "k = 11: 4194304\n"
     ]
    }
   ],
   "source": [
    "def k_comb(k):\n",
    "    return len([p for p in product(('A', 'C', 'T', 'G'), repeat=k)])\n",
    "\n",
    "for i in range(1, 12, 2):\n",
    "    print(f\"k = {i}: {k_comb(i)}\")"
   ],
   "metadata": {
    "collapsed": false,
    "pycharm": {
     "name": "#%%\n"
    }
   }
  },
  {
   "cell_type": "code",
   "execution_count": 10,
   "outputs": [
    {
     "data": {
      "text/plain": "   id                                           sequence\n0  s1  [(A, 0), (A, 1), (A, 2), (A, 3), (A, 4), (A, 5...\n1  s2  [(G, 0), (G, 1), (G, 2), (G, 3), (T, 0), (T, 1...\n2  s3  [(A, 0), (A, 1), (A, 2), (A, 3), (A, 4), (C, 0...\n3  s4  [(A, 0), (A, 1), (A, 2), (A, 3), (G, 0), (G, 1...",
      "text/html": "<div>\n<style scoped>\n    .dataframe tbody tr th:only-of-type {\n        vertical-align: middle;\n    }\n\n    .dataframe tbody tr th {\n        vertical-align: top;\n    }\n\n    .dataframe thead th {\n        text-align: right;\n    }\n</style>\n<table border=\"1\" class=\"dataframe\">\n  <thead>\n    <tr style=\"text-align: right;\">\n      <th></th>\n      <th>id</th>\n      <th>sequence</th>\n    </tr>\n  </thead>\n  <tbody>\n    <tr>\n      <th>0</th>\n      <td>s1</td>\n      <td>[(A, 0), (A, 1), (A, 2), (A, 3), (A, 4), (A, 5...</td>\n    </tr>\n    <tr>\n      <th>1</th>\n      <td>s2</td>\n      <td>[(G, 0), (G, 1), (G, 2), (G, 3), (T, 0), (T, 1...</td>\n    </tr>\n    <tr>\n      <th>2</th>\n      <td>s3</td>\n      <td>[(A, 0), (A, 1), (A, 2), (A, 3), (A, 4), (C, 0...</td>\n    </tr>\n    <tr>\n      <th>3</th>\n      <td>s4</td>\n      <td>[(A, 0), (A, 1), (A, 2), (A, 3), (G, 0), (G, 1...</td>\n    </tr>\n  </tbody>\n</table>\n</div>"
     },
     "execution_count": 10,
     "metadata": {},
     "output_type": "execute_result"
    }
   ],
   "source": [
    "def smart_enum(lst):\n",
    "    container = {}\n",
    "    for elem in lst:\n",
    "        if elem in container:\n",
    "            container[elem] += 1\n",
    "        else:\n",
    "            container[elem] = 1\n",
    "    return [(p, l) for p in container for l in range(0, container[p])]\n",
    "\n",
    "frame = frame.apply(lambda x: x.apply(smart_enum) if x.name == 'sequence' else x)\n",
    "frame"
   ],
   "metadata": {
    "collapsed": false,
    "pycharm": {
     "name": "#%% code\n"
    }
   }
  },
  {
   "cell_type": "code",
   "execution_count": 11,
   "outputs": [
    {
     "data": {
      "text/plain": "   (A, 0)  (A, 1)  (A, 2)  (A, 3)  (A, 4)  (A, 5)  (A, 6)  (C, 0)  (C, 1)  \\\n0    True    True    True    True    True    True    True    True    True   \n1    True    True   False   False   False   False   False   False   False   \n2    True    True    True    True    True   False   False    True    True   \n3    True    True    True    True   False   False   False    True    True   \n\n   (C, 2)  (G, 0)  (G, 1)  (G, 2)  (G, 3)  (T, 0)  (T, 1)  (T, 2)  (T, 3)  \n0   False    True   False   False   False    True   False   False   False  \n1   False    True    True    True    True    True    True    True    True  \n2    True    True    True   False   False    True   False   False   False  \n3   False    True    True    True    True    True    True   False   False  ",
      "text/html": "<div>\n<style scoped>\n    .dataframe tbody tr th:only-of-type {\n        vertical-align: middle;\n    }\n\n    .dataframe tbody tr th {\n        vertical-align: top;\n    }\n\n    .dataframe thead th {\n        text-align: right;\n    }\n</style>\n<table border=\"1\" class=\"dataframe\">\n  <thead>\n    <tr style=\"text-align: right;\">\n      <th></th>\n      <th>(A, 0)</th>\n      <th>(A, 1)</th>\n      <th>(A, 2)</th>\n      <th>(A, 3)</th>\n      <th>(A, 4)</th>\n      <th>(A, 5)</th>\n      <th>(A, 6)</th>\n      <th>(C, 0)</th>\n      <th>(C, 1)</th>\n      <th>(C, 2)</th>\n      <th>(G, 0)</th>\n      <th>(G, 1)</th>\n      <th>(G, 2)</th>\n      <th>(G, 3)</th>\n      <th>(T, 0)</th>\n      <th>(T, 1)</th>\n      <th>(T, 2)</th>\n      <th>(T, 3)</th>\n    </tr>\n  </thead>\n  <tbody>\n    <tr>\n      <th>0</th>\n      <td>True</td>\n      <td>True</td>\n      <td>True</td>\n      <td>True</td>\n      <td>True</td>\n      <td>True</td>\n      <td>True</td>\n      <td>True</td>\n      <td>True</td>\n      <td>False</td>\n      <td>True</td>\n      <td>False</td>\n      <td>False</td>\n      <td>False</td>\n      <td>True</td>\n      <td>False</td>\n      <td>False</td>\n      <td>False</td>\n    </tr>\n    <tr>\n      <th>1</th>\n      <td>True</td>\n      <td>True</td>\n      <td>False</td>\n      <td>False</td>\n      <td>False</td>\n      <td>False</td>\n      <td>False</td>\n      <td>False</td>\n      <td>False</td>\n      <td>False</td>\n      <td>True</td>\n      <td>True</td>\n      <td>True</td>\n      <td>True</td>\n      <td>True</td>\n      <td>True</td>\n      <td>True</td>\n      <td>True</td>\n    </tr>\n    <tr>\n      <th>2</th>\n      <td>True</td>\n      <td>True</td>\n      <td>True</td>\n      <td>True</td>\n      <td>True</td>\n      <td>False</td>\n      <td>False</td>\n      <td>True</td>\n      <td>True</td>\n      <td>True</td>\n      <td>True</td>\n      <td>True</td>\n      <td>False</td>\n      <td>False</td>\n      <td>True</td>\n      <td>False</td>\n      <td>False</td>\n      <td>False</td>\n    </tr>\n    <tr>\n      <th>3</th>\n      <td>True</td>\n      <td>True</td>\n      <td>True</td>\n      <td>True</td>\n      <td>False</td>\n      <td>False</td>\n      <td>False</td>\n      <td>True</td>\n      <td>True</td>\n      <td>False</td>\n      <td>True</td>\n      <td>True</td>\n      <td>True</td>\n      <td>True</td>\n      <td>True</td>\n      <td>True</td>\n      <td>False</td>\n      <td>False</td>\n    </tr>\n  </tbody>\n</table>\n</div>"
     },
     "execution_count": 11,
     "metadata": {},
     "output_type": "execute_result"
    }
   ],
   "source": [
    "te = pp.TransactionEncoder()\n",
    "frame = pd.DataFrame(te.fit_transform(frame['sequence'].tolist()), columns=te.columns_)\n",
    "frame"
   ],
   "metadata": {
    "collapsed": false,
    "pycharm": {
     "name": "#%% code\n"
    }
   }
  },
  {
   "cell_type": "code",
   "execution_count": 12,
   "outputs": [
    {
     "data": {
      "text/plain": "    support                          itemsets\n0       1.0                          ((T, 0))\n1       1.0                          ((G, 0))\n2       1.0                          ((A, 1))\n3       1.0                          ((A, 0))\n4       1.0                  ((T, 0), (G, 0))\n5       1.0                  ((T, 0), (A, 1))\n6       1.0                  ((A, 0), (T, 0))\n7       1.0                  ((A, 1), (G, 0))\n8       1.0                  ((A, 0), (G, 0))\n9       1.0                  ((A, 0), (A, 1))\n10      1.0          ((T, 0), (A, 1), (G, 0))\n11      1.0          ((A, 0), (T, 0), (G, 0))\n12      1.0          ((T, 0), (A, 0), (A, 1))\n13      1.0          ((A, 0), (A, 1), (G, 0))\n14      1.0  ((T, 0), (A, 0), (A, 1), (G, 0))",
      "text/html": "<div>\n<style scoped>\n    .dataframe tbody tr th:only-of-type {\n        vertical-align: middle;\n    }\n\n    .dataframe tbody tr th {\n        vertical-align: top;\n    }\n\n    .dataframe thead th {\n        text-align: right;\n    }\n</style>\n<table border=\"1\" class=\"dataframe\">\n  <thead>\n    <tr style=\"text-align: right;\">\n      <th></th>\n      <th>support</th>\n      <th>itemsets</th>\n    </tr>\n  </thead>\n  <tbody>\n    <tr>\n      <th>0</th>\n      <td>1.0</td>\n      <td>((T, 0))</td>\n    </tr>\n    <tr>\n      <th>1</th>\n      <td>1.0</td>\n      <td>((G, 0))</td>\n    </tr>\n    <tr>\n      <th>2</th>\n      <td>1.0</td>\n      <td>((A, 1))</td>\n    </tr>\n    <tr>\n      <th>3</th>\n      <td>1.0</td>\n      <td>((A, 0))</td>\n    </tr>\n    <tr>\n      <th>4</th>\n      <td>1.0</td>\n      <td>((T, 0), (G, 0))</td>\n    </tr>\n    <tr>\n      <th>5</th>\n      <td>1.0</td>\n      <td>((T, 0), (A, 1))</td>\n    </tr>\n    <tr>\n      <th>6</th>\n      <td>1.0</td>\n      <td>((A, 0), (T, 0))</td>\n    </tr>\n    <tr>\n      <th>7</th>\n      <td>1.0</td>\n      <td>((A, 1), (G, 0))</td>\n    </tr>\n    <tr>\n      <th>8</th>\n      <td>1.0</td>\n      <td>((A, 0), (G, 0))</td>\n    </tr>\n    <tr>\n      <th>9</th>\n      <td>1.0</td>\n      <td>((A, 0), (A, 1))</td>\n    </tr>\n    <tr>\n      <th>10</th>\n      <td>1.0</td>\n      <td>((T, 0), (A, 1), (G, 0))</td>\n    </tr>\n    <tr>\n      <th>11</th>\n      <td>1.0</td>\n      <td>((A, 0), (T, 0), (G, 0))</td>\n    </tr>\n    <tr>\n      <th>12</th>\n      <td>1.0</td>\n      <td>((T, 0), (A, 0), (A, 1))</td>\n    </tr>\n    <tr>\n      <th>13</th>\n      <td>1.0</td>\n      <td>((A, 0), (A, 1), (G, 0))</td>\n    </tr>\n    <tr>\n      <th>14</th>\n      <td>1.0</td>\n      <td>((T, 0), (A, 0), (A, 1), (G, 0))</td>\n    </tr>\n  </tbody>\n</table>\n</div>"
     },
     "execution_count": 12,
     "metadata": {},
     "output_type": "execute_result"
    }
   ],
   "source": [
    "frame = fp.fpgrowth(frame, min_support=1.0, use_colnames=True)\n",
    "frame"
   ],
   "metadata": {
    "collapsed": false,
    "pycharm": {
     "name": "#%% code\n"
    }
   }
  },
  {
   "cell_type": "code",
   "execution_count": 13,
   "outputs": [
    {
     "data": {
      "text/plain": "    support      itemsets\n0       1.0           [T]\n1       1.0           [G]\n2       1.0           [A]\n3       1.0           [A]\n4       1.0        [T, G]\n5       1.0        [T, A]\n6       1.0        [A, T]\n7       1.0        [A, G]\n8       1.0        [A, G]\n9       1.0        [A, A]\n10      1.0     [T, A, G]\n11      1.0     [A, T, G]\n12      1.0     [T, A, A]\n13      1.0     [A, A, G]\n14      1.0  [T, A, A, G]",
      "text/html": "<div>\n<style scoped>\n    .dataframe tbody tr th:only-of-type {\n        vertical-align: middle;\n    }\n\n    .dataframe tbody tr th {\n        vertical-align: top;\n    }\n\n    .dataframe thead th {\n        text-align: right;\n    }\n</style>\n<table border=\"1\" class=\"dataframe\">\n  <thead>\n    <tr style=\"text-align: right;\">\n      <th></th>\n      <th>support</th>\n      <th>itemsets</th>\n    </tr>\n  </thead>\n  <tbody>\n    <tr>\n      <th>0</th>\n      <td>1.0</td>\n      <td>[T]</td>\n    </tr>\n    <tr>\n      <th>1</th>\n      <td>1.0</td>\n      <td>[G]</td>\n    </tr>\n    <tr>\n      <th>2</th>\n      <td>1.0</td>\n      <td>[A]</td>\n    </tr>\n    <tr>\n      <th>3</th>\n      <td>1.0</td>\n      <td>[A]</td>\n    </tr>\n    <tr>\n      <th>4</th>\n      <td>1.0</td>\n      <td>[T, G]</td>\n    </tr>\n    <tr>\n      <th>5</th>\n      <td>1.0</td>\n      <td>[T, A]</td>\n    </tr>\n    <tr>\n      <th>6</th>\n      <td>1.0</td>\n      <td>[A, T]</td>\n    </tr>\n    <tr>\n      <th>7</th>\n      <td>1.0</td>\n      <td>[A, G]</td>\n    </tr>\n    <tr>\n      <th>8</th>\n      <td>1.0</td>\n      <td>[A, G]</td>\n    </tr>\n    <tr>\n      <th>9</th>\n      <td>1.0</td>\n      <td>[A, A]</td>\n    </tr>\n    <tr>\n      <th>10</th>\n      <td>1.0</td>\n      <td>[T, A, G]</td>\n    </tr>\n    <tr>\n      <th>11</th>\n      <td>1.0</td>\n      <td>[A, T, G]</td>\n    </tr>\n    <tr>\n      <th>12</th>\n      <td>1.0</td>\n      <td>[T, A, A]</td>\n    </tr>\n    <tr>\n      <th>13</th>\n      <td>1.0</td>\n      <td>[A, A, G]</td>\n    </tr>\n    <tr>\n      <th>14</th>\n      <td>1.0</td>\n      <td>[T, A, A, G]</td>\n    </tr>\n  </tbody>\n</table>\n</div>"
     },
     "execution_count": 13,
     "metadata": {},
     "output_type": "execute_result"
    }
   ],
   "source": [
    "frame = frame.apply(lambda x: x.apply(lambda y: [z[0] for z in y]) if x.name == 'itemsets' else x)\n",
    "frame"
   ],
   "metadata": {
    "collapsed": false,
    "pycharm": {
     "name": "#%% code\n"
    }
   }
  },
  {
   "cell_type": "code",
   "execution_count": 14,
   "outputs": [
    {
     "data": {
      "text/plain": "    support   itemsets  length\n0       1.0        (T)       1\n1       1.0        (G)       1\n2       1.0        (A)       1\n4       1.0     (G, T)       2\n5       1.0     (T, A)       2\n7       1.0     (G, A)       2\n10      1.0  (G, T, A)       3",
      "text/html": "<div>\n<style scoped>\n    .dataframe tbody tr th:only-of-type {\n        vertical-align: middle;\n    }\n\n    .dataframe tbody tr th {\n        vertical-align: top;\n    }\n\n    .dataframe thead th {\n        text-align: right;\n    }\n</style>\n<table border=\"1\" class=\"dataframe\">\n  <thead>\n    <tr style=\"text-align: right;\">\n      <th></th>\n      <th>support</th>\n      <th>itemsets</th>\n      <th>length</th>\n    </tr>\n  </thead>\n  <tbody>\n    <tr>\n      <th>0</th>\n      <td>1.0</td>\n      <td>(T)</td>\n      <td>1</td>\n    </tr>\n    <tr>\n      <th>1</th>\n      <td>1.0</td>\n      <td>(G)</td>\n      <td>1</td>\n    </tr>\n    <tr>\n      <th>2</th>\n      <td>1.0</td>\n      <td>(A)</td>\n      <td>1</td>\n    </tr>\n    <tr>\n      <th>4</th>\n      <td>1.0</td>\n      <td>(G, T)</td>\n      <td>2</td>\n    </tr>\n    <tr>\n      <th>5</th>\n      <td>1.0</td>\n      <td>(T, A)</td>\n      <td>2</td>\n    </tr>\n    <tr>\n      <th>7</th>\n      <td>1.0</td>\n      <td>(G, A)</td>\n      <td>2</td>\n    </tr>\n    <tr>\n      <th>10</th>\n      <td>1.0</td>\n      <td>(G, T, A)</td>\n      <td>3</td>\n    </tr>\n  </tbody>\n</table>\n</div>"
     },
     "execution_count": 14,
     "metadata": {},
     "output_type": "execute_result"
    }
   ],
   "source": [
    "frame = frame.apply(lambda x: x.apply(frozenset) if x.name == 'itemsets' else x).drop_duplicates()\n",
    "frame['length'] = frame['itemsets'].apply(lambda x: len(x))\n",
    "frame"
   ],
   "metadata": {
    "collapsed": false,
    "pycharm": {
     "name": "#%% code\n"
    }
   }
  }
 ],
 "metadata": {
  "kernelspec": {
   "display_name": "Python 3",
   "language": "python",
   "name": "python3"
  },
  "language_info": {
   "codemirror_mode": {
    "name": "ipython",
    "version": 2
   },
   "file_extension": ".py",
   "mimetype": "text/x-python",
   "name": "python",
   "nbconvert_exporter": "python",
   "pygments_lexer": "ipython2",
   "version": "2.7.6"
  }
 },
 "nbformat": 4,
 "nbformat_minor": 0
}