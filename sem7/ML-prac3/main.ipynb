{
 "cells": [
  {
   "cell_type": "markdown",
   "metadata": {
    "collapsed": true,
    "pycharm": {
     "name": "#%% md\n"
    }
   },
   "source": [
    "# Практическая работа №3"
   ]
  },
  {
   "cell_type": "markdown",
   "source": [
    "### Используемые библиотеки"
   ],
   "metadata": {
    "collapsed": false
   }
  },
  {
   "cell_type": "code",
   "execution_count": 1,
   "outputs": [],
   "source": [
    "import pandas as pd\n",
    "import mlxtend.frequent_patterns as fp\n",
    "import mlxtend.preprocessing as pp\n",
    "from itertools import combinations"
   ],
   "metadata": {
    "collapsed": false,
    "pycharm": {
     "name": "#%% code\n"
    }
   }
  },
  {
   "cell_type": "markdown",
   "source": [
    "### Исходные данные\n",
    "\n",
    "`data1.csv`:\n",
    "```csv\n",
    "tid,itemset\n",
    "t1,ABCD\n",
    "t2,ACDF\n",
    "t3,ACDEG\n",
    "t4,ABDF\n",
    "t5,BCG\n",
    "t6,DFG\n",
    "t7,ABG\n",
    "t8,CDFG\n",
    "```\n",
    "\n",
    "`data2.csv`:\n",
    "```csv\n",
    "tid,itemset\n",
    "1,2 3 6 7\n",
    "2,1 3 4 8 11\n",
    "3,3 9 11\n",
    "4,1 5 6 7\n",
    "5,1 3 8 10 11\n",
    "6,3 5 7 9 11\n",
    "7,4 6 8 10 11\n",
    "8,1 3 5 8 11\n",
    "```"
   ],
   "metadata": {
    "collapsed": false
   }
  },
  {
   "cell_type": "markdown",
   "source": [
    "## Задание 1"
   ],
   "metadata": {
    "collapsed": false
   }
  },
  {
   "cell_type": "code",
   "execution_count": 2,
   "outputs": [
    {
     "name": "stdout",
     "output_type": "stream",
     "text": [
      "Исходный набор данных:\n"
     ]
    },
    {
     "data": {
      "text/plain": "  tid          itemset\n0  t1     [A, B, C, D]\n1  t2     [A, C, D, F]\n2  t3  [A, C, D, E, G]\n3  t4     [A, B, D, F]\n4  t5        [B, C, G]\n5  t6        [D, F, G]\n6  t7        [A, B, G]\n7  t8     [C, D, F, G]",
      "text/html": "<div>\n<style scoped>\n    .dataframe tbody tr th:only-of-type {\n        vertical-align: middle;\n    }\n\n    .dataframe tbody tr th {\n        vertical-align: top;\n    }\n\n    .dataframe thead th {\n        text-align: right;\n    }\n</style>\n<table border=\"1\" class=\"dataframe\">\n  <thead>\n    <tr style=\"text-align: right;\">\n      <th></th>\n      <th>tid</th>\n      <th>itemset</th>\n    </tr>\n  </thead>\n  <tbody>\n    <tr>\n      <th>0</th>\n      <td>t1</td>\n      <td>[A, B, C, D]</td>\n    </tr>\n    <tr>\n      <th>1</th>\n      <td>t2</td>\n      <td>[A, C, D, F]</td>\n    </tr>\n    <tr>\n      <th>2</th>\n      <td>t3</td>\n      <td>[A, C, D, E, G]</td>\n    </tr>\n    <tr>\n      <th>3</th>\n      <td>t4</td>\n      <td>[A, B, D, F]</td>\n    </tr>\n    <tr>\n      <th>4</th>\n      <td>t5</td>\n      <td>[B, C, G]</td>\n    </tr>\n    <tr>\n      <th>5</th>\n      <td>t6</td>\n      <td>[D, F, G]</td>\n    </tr>\n    <tr>\n      <th>6</th>\n      <td>t7</td>\n      <td>[A, B, G]</td>\n    </tr>\n    <tr>\n      <th>7</th>\n      <td>t8</td>\n      <td>[C, D, F, G]</td>\n    </tr>\n  </tbody>\n</table>\n</div>"
     },
     "execution_count": 2,
     "metadata": {},
     "output_type": "execute_result"
    }
   ],
   "source": [
    "frame = pd.read_csv('data1.csv').apply(lambda x: x.apply(list) if x.name == 'itemset' else x)\n",
    "print(f\"Исходный набор данных:\")\n",
    "frame"
   ],
   "metadata": {
    "collapsed": false,
    "pycharm": {
     "name": "#%% code\n"
    }
   }
  },
  {
   "cell_type": "markdown",
   "source": [
    "### Кодирование данных в виде матрицы"
   ],
   "metadata": {
    "collapsed": false
   }
  },
  {
   "cell_type": "code",
   "execution_count": 3,
   "outputs": [
    {
     "name": "stdout",
     "output_type": "stream",
     "text": [
      "Матрица данных:\n"
     ]
    },
    {
     "data": {
      "text/plain": "       A      B      C      D      E      F      G\n0   True   True   True   True  False  False  False\n1   True  False   True   True  False   True  False\n2   True  False   True   True   True  False   True\n3   True   True  False   True  False   True  False\n4  False   True   True  False  False  False   True\n5  False  False  False   True  False   True   True\n6   True   True  False  False  False  False   True\n7  False  False   True   True  False   True   True",
      "text/html": "<div>\n<style scoped>\n    .dataframe tbody tr th:only-of-type {\n        vertical-align: middle;\n    }\n\n    .dataframe tbody tr th {\n        vertical-align: top;\n    }\n\n    .dataframe thead th {\n        text-align: right;\n    }\n</style>\n<table border=\"1\" class=\"dataframe\">\n  <thead>\n    <tr style=\"text-align: right;\">\n      <th></th>\n      <th>A</th>\n      <th>B</th>\n      <th>C</th>\n      <th>D</th>\n      <th>E</th>\n      <th>F</th>\n      <th>G</th>\n    </tr>\n  </thead>\n  <tbody>\n    <tr>\n      <th>0</th>\n      <td>True</td>\n      <td>True</td>\n      <td>True</td>\n      <td>True</td>\n      <td>False</td>\n      <td>False</td>\n      <td>False</td>\n    </tr>\n    <tr>\n      <th>1</th>\n      <td>True</td>\n      <td>False</td>\n      <td>True</td>\n      <td>True</td>\n      <td>False</td>\n      <td>True</td>\n      <td>False</td>\n    </tr>\n    <tr>\n      <th>2</th>\n      <td>True</td>\n      <td>False</td>\n      <td>True</td>\n      <td>True</td>\n      <td>True</td>\n      <td>False</td>\n      <td>True</td>\n    </tr>\n    <tr>\n      <th>3</th>\n      <td>True</td>\n      <td>True</td>\n      <td>False</td>\n      <td>True</td>\n      <td>False</td>\n      <td>True</td>\n      <td>False</td>\n    </tr>\n    <tr>\n      <th>4</th>\n      <td>False</td>\n      <td>True</td>\n      <td>True</td>\n      <td>False</td>\n      <td>False</td>\n      <td>False</td>\n      <td>True</td>\n    </tr>\n    <tr>\n      <th>5</th>\n      <td>False</td>\n      <td>False</td>\n      <td>False</td>\n      <td>True</td>\n      <td>False</td>\n      <td>True</td>\n      <td>True</td>\n    </tr>\n    <tr>\n      <th>6</th>\n      <td>True</td>\n      <td>True</td>\n      <td>False</td>\n      <td>False</td>\n      <td>False</td>\n      <td>False</td>\n      <td>True</td>\n    </tr>\n    <tr>\n      <th>7</th>\n      <td>False</td>\n      <td>False</td>\n      <td>True</td>\n      <td>True</td>\n      <td>False</td>\n      <td>True</td>\n      <td>True</td>\n    </tr>\n  </tbody>\n</table>\n</div>"
     },
     "execution_count": 3,
     "metadata": {},
     "output_type": "execute_result"
    }
   ],
   "source": [
    "te = pp.TransactionEncoder()\n",
    "frame = pd.DataFrame(te.fit_transform(frame['itemset'].tolist()), columns=te.columns_)\n",
    "print(f\"Матрица данных:\")\n",
    "frame"
   ],
   "metadata": {
    "collapsed": false,
    "pycharm": {
     "name": "#%% code\n"
    }
   }
  },
  {
   "cell_type": "markdown",
   "source": [
    "### Перебор набора данных алгоритмом \"apriori\"\n",
    "\n",
    "#### Перебор осуществляется следующим образом:\n",
    "Пусть `support value` (минимальное количество раз, которое рассматриваемый набор элементов должен\n",
    "встречаться в транзакциях для того, чтобы попасть в результирующий список) равен `3/8`.\n",
    "\n",
    "Для всех элементов, встречающихся в транзакциях, берется множество, состоящее из этого элемента.\n",
    "Считается, сколько раз эти множества встречаются в транзакциях:\n",
    "\n",
    "| itemset | support |\n",
    "| :-: | :-: |\n",
    "| \\[A\\] | 5 |\n",
    "| \\[B\\] | 4 |\n",
    "| \\[C\\] | 5 |\n",
    "| \\[D\\] | 6 |\n",
    "| \\[E\\] | 1 |\n",
    "| \\[F\\] | 4 |\n",
    "| \\[G\\] | 5 |\n",
    "\n",
    "Исключим множество `[E]`, так как оно встречается в транзакциях всего один раз.\n",
    "\n",
    "Теперь аналогичным образом рассмотрим множества, состоящие из пар элементов, оставшихся после первого действия\n",
    "(т.е. всех, кроме элемента `E`):\n",
    "\n",
    "| itemset | support |\n",
    "| :-: | :-: |\n",
    "| \\[A, B\\] | 3 |\n",
    "| \\[A, C\\] | 3 |\n",
    "| \\[A, D\\] | 4 |\n",
    "| \\[A, F\\] | 2 |\n",
    "| \\[A, G\\] | 2 |\n",
    "| \\[B, C\\] | 2 |\n",
    "| \\[B, D\\] | 2 |\n",
    "| \\[B, F\\] | 1 |\n",
    "| \\[B, G\\] | 2 |\n",
    "| \\[C, D\\] | 4 |\n",
    "| \\[C, F\\] | 2 |\n",
    "| \\[C, G\\] | 3 |\n",
    "| \\[D, F\\] | 4 |\n",
    "| \\[D, G\\] | 3 |\n",
    "| \\[F, G\\] | 2 |\n",
    "\n",
    "Оставим только множества `[A, B]`, `[A, C]`, `[A, D]`, `[C, D]`, `[C, G]`, `[D, F]`, `[D, G]`,\n",
    "т.к. только они встречаются в транзакциях чаще двух раз.\n",
    "\n",
    "Рассмотрим множества длины 3, которые можно составить из оставшихся после второго действия пар:\n",
    "\n",
    "| itemset | support |\n",
    "| :-: | :-: |\n",
    "| \\[A, С, D\\] | 3 |\n",
    "| \\[C, D, G\\] | 2 |\n",
    "\n",
    "Оставим только множество `[A, С, D]`, т.к. только оно встречаются в транзакциях чаще двух раз.\n",
    "\n",
    "Рассмотрение множеств длины 4 не имеет смысла, т.к. оставшихся после третьего действия множеств длины 3\n",
    "не хватит для составления ни одного множетсва длины 4.\n",
    "\n",
    "Вероятность правила следования из элемента `A` элемента `B` равна количеству попаданий множества `[A, B]`\n",
    "в список транзакций, деленному на количеству попаданий множества `[A]` (предка) в список транзакций."
   ],
   "metadata": {
    "collapsed": false
   }
  },
  {
   "cell_type": "code",
   "execution_count": 4,
   "outputs": [
    {
     "name": "stdout",
     "output_type": "stream",
     "text": [
      "Часто встречающиеся наборы данных:\n"
     ]
    },
    {
     "data": {
      "text/plain": "    support   itemsets  length\n0     0.625        (A)       1\n1     0.500        (B)       1\n2     0.625        (C)       1\n3     0.750        (D)       1\n4     0.500        (F)       1\n5     0.625        (G)       1\n6     0.375     (B, A)       2\n7     0.375     (C, A)       2\n8     0.500     (D, A)       2\n9     0.500     (C, D)       2\n10    0.375     (C, G)       2\n11    0.500     (F, D)       2\n12    0.375     (G, D)       2\n13    0.375  (C, D, A)       3",
      "text/html": "<div>\n<style scoped>\n    .dataframe tbody tr th:only-of-type {\n        vertical-align: middle;\n    }\n\n    .dataframe tbody tr th {\n        vertical-align: top;\n    }\n\n    .dataframe thead th {\n        text-align: right;\n    }\n</style>\n<table border=\"1\" class=\"dataframe\">\n  <thead>\n    <tr style=\"text-align: right;\">\n      <th></th>\n      <th>support</th>\n      <th>itemsets</th>\n      <th>length</th>\n    </tr>\n  </thead>\n  <tbody>\n    <tr>\n      <th>0</th>\n      <td>0.625</td>\n      <td>(A)</td>\n      <td>1</td>\n    </tr>\n    <tr>\n      <th>1</th>\n      <td>0.500</td>\n      <td>(B)</td>\n      <td>1</td>\n    </tr>\n    <tr>\n      <th>2</th>\n      <td>0.625</td>\n      <td>(C)</td>\n      <td>1</td>\n    </tr>\n    <tr>\n      <th>3</th>\n      <td>0.750</td>\n      <td>(D)</td>\n      <td>1</td>\n    </tr>\n    <tr>\n      <th>4</th>\n      <td>0.500</td>\n      <td>(F)</td>\n      <td>1</td>\n    </tr>\n    <tr>\n      <th>5</th>\n      <td>0.625</td>\n      <td>(G)</td>\n      <td>1</td>\n    </tr>\n    <tr>\n      <th>6</th>\n      <td>0.375</td>\n      <td>(B, A)</td>\n      <td>2</td>\n    </tr>\n    <tr>\n      <th>7</th>\n      <td>0.375</td>\n      <td>(C, A)</td>\n      <td>2</td>\n    </tr>\n    <tr>\n      <th>8</th>\n      <td>0.500</td>\n      <td>(D, A)</td>\n      <td>2</td>\n    </tr>\n    <tr>\n      <th>9</th>\n      <td>0.500</td>\n      <td>(C, D)</td>\n      <td>2</td>\n    </tr>\n    <tr>\n      <th>10</th>\n      <td>0.375</td>\n      <td>(C, G)</td>\n      <td>2</td>\n    </tr>\n    <tr>\n      <th>11</th>\n      <td>0.500</td>\n      <td>(F, D)</td>\n      <td>2</td>\n    </tr>\n    <tr>\n      <th>12</th>\n      <td>0.375</td>\n      <td>(G, D)</td>\n      <td>2</td>\n    </tr>\n    <tr>\n      <th>13</th>\n      <td>0.375</td>\n      <td>(C, D, A)</td>\n      <td>3</td>\n    </tr>\n  </tbody>\n</table>\n</div>"
     },
     "execution_count": 4,
     "metadata": {},
     "output_type": "execute_result"
    }
   ],
   "source": [
    "results = fp.apriori(frame, min_support=3.0/8.0, use_colnames=True)\n",
    "results['length'] = results['itemsets'].apply(lambda x: len(x))\n",
    "print(f\"Часто встречающиеся наборы данных:\")\n",
    "results"
   ],
   "metadata": {
    "collapsed": false,
    "pycharm": {
     "name": "#%% code\n"
    }
   }
  },
  {
   "cell_type": "markdown",
   "source": [
    "### Перебор набора данных алгоритмом \"FPGrowth\"\n",
    "#### Перебор осуществляется следующим образом:\n",
    "Пусть `support value` (минимальное количество раз, которое рассматриваемый набор элементов должен\n",
    "встречаться в транзакциях для того, чтобы попасть в результирующий список) равен `2/8`.\n",
    "\n",
    "Для всех элементов, встречающихся в транзакциях, высчитывается количество вхождений, после чего элементы сортируются\n",
    "в порядке убывания количества вхождений:\n",
    "\n",
    "| itemset | support |\n",
    "| :-: | :-: |\n",
    "| D | 6 |\n",
    "| A | 5 |\n",
    "| C | 5 |\n",
    "| G | 5 |\n",
    "| B | 4 |\n",
    "| F | 4 |\n",
    "| E | 1 |\n",
    "\n",
    "Исключим элемент `E`, так как он встречается в транзакциях всего один раз.\n",
    "\n",
    "После этого составляется дерево, в которое записываются вхождения элементов из каждой транзакции:\n",
    "\n",
    "1. Транзакция `[A, B, C, D]`:<br>\n",
    "```\n",
    "    { }\n",
    "     |\n",
    "   (D:1)\n",
    "     |\n",
    "   (A:1)\n",
    "     |\n",
    "   (C:1)\n",
    "     |\n",
    "   (B:1)\n",
    "```\n",
    "2. Транзакция `[A, C, D, F]`:\n",
    "```\n",
    "    { }\n",
    "     |\n",
    "   (D:2)\n",
    "     |\n",
    "   (A:2)\n",
    "     |\n",
    "   (C:2) - (F:1)\n",
    "     |\n",
    "   (B:1)\n",
    "```\n",
    "3. Транзакция `[A, C, D, G]`:\n",
    "```\n",
    "            { }\n",
    "             |\n",
    "           (D:3)\n",
    "             |\n",
    "           (A:3)\n",
    "             |\n",
    "   (G:1) - (C:3) - (F:1)\n",
    "             |\n",
    "           (B:1)\n",
    "```\n",
    "4. Транзакция `[A, B, D, F]`:\n",
    "```\n",
    "            { }\n",
    "             |\n",
    "           (D:4)\n",
    "             |\n",
    "           (A:4) - (B:1) - (F:1)\n",
    "             |\n",
    "   (G:1) - (C:3) - (F:1)\n",
    "             |\n",
    "           (B:1)\n",
    "```\n",
    "5. Транзакция `[B, C, G]`:\n",
    "```\n",
    "              { } - (C:1) - (G:1) - (B:1)\n",
    "               |\n",
    "             (D:4)\n",
    "               |\n",
    "             (A:4) - (B:1) - (F:1)\n",
    "               |\n",
    "     (G:1) - (C:3) - (F:1)\n",
    "               |\n",
    "             (B:1)\n",
    "```\n",
    "6. Транзакция `[D, F, G]`:\n",
    "```\n",
    "              { } - (C:1) - (G:1) - (B:1)\n",
    "               |\n",
    "             (D:5) - (G:1) - (F:1)\n",
    "               |\n",
    "             (A:4) - (B:1) - (F:1)\n",
    "               |\n",
    "     (G:1) - (C:3) - (F:1)\n",
    "               |\n",
    "             (B:1)\n",
    "```\n",
    "7. Транзакция `[A, B, G]`:\n",
    "```\n",
    "    (B:1) - (G:1) - (A:1) - { } - (C:1) - (G:1) - (B:1)\n",
    "                             |\n",
    "                           (D:5) - (G:1) - (F:1)\n",
    "                             |\n",
    "                           (A:4) - (B:1) - (F:1)\n",
    "                             |\n",
    "                   (G:1) - (C:3) - (F:1)\n",
    "                             |\n",
    "                           (B:1)\n",
    "```\n",
    "8. Транзакция `[C, D, F, G]`:\n",
    "```\n",
    "    (B:1) - (G:1) - (A:1) - { } - (C:1) - (G:1) - (B:1)\n",
    "                             |\n",
    "   (F:1) - (G:1) - (C:1) - (D:6) - (G:1) - (F:1)\n",
    "                             |\n",
    "                           (A:4) - (B:1) - (F:1)\n",
    "                             |\n",
    "                   (G:1) - (C:3) - (F:1)\n",
    "                             |\n",
    "                           (B:1)\n",
    "```\n",
    "\n",
    "...\n",
    "\n",
    "* `F(4)`:\n",
    "```\n",
    "D(6) -> A(4) -> B(1) -> F(1) : DAB(1)\n",
    "D(6) -> G(1) -> F(1) : DG(1)\n",
    "D(6) -> C(1) -> G(1) -> F(1) : DCG(1)\n",
    "D(6) -> A(4) -> C(3) -> F(1) : DAC(1)\n",
    "```\n",
    "Итого:\n",
    "\n",
    "| itemset | support |\n",
    "| :-: | :-: |\n",
    "| DF | 4 |\n",
    "| AF | 2 |\n",
    "| CF | 2 |\n",
    "| GF | 2 |\n",
    "| DAF | 2 |\n",
    "| DCF | 2 |\n",
    "| DGF | 2 |\n",
    "| DACF | 2 |\n",
    "\n",
    "* `B(4)`:\n",
    "```\n",
    "C(1) -> G(1) -> B(1) : CG(1)\n",
    "D(6) -> A(4) -> B(1) : DA(1)\n",
    "D(6) -> A(4) -> C(3) -> B(1) : DAC(1)\n",
    "A(1) -> G(1) -> B(1) : AG(1)\n",
    "```\n",
    "Итого:\n",
    "\n",
    "| itemset | support |\n",
    "| :-: | :-: |\n",
    "| AB | 3 |\n",
    "| CB | 2 |\n",
    "| GB | 2 |\n",
    "| DB | 2 |\n",
    "| DAB | 2 |\n",
    "\n",
    "* `G(5)`:\n",
    "```\n",
    "C(1) -> G(1) : C(1)\n",
    "D(6) -> G(1) : D(1)\n",
    "D(6) -> A(4) -> C(3) -> G(1) : DAC(1)\n",
    "D(6) -> C(1) -> G(1) : D(1)\n",
    "A(1) -> G(1) : A(1)\n",
    "```\n",
    "Итого:\n",
    "\n",
    "| itemset | support |\n",
    "| :-: | :-: |\n",
    "| DG | 3 |\n",
    "| AG | 2 |\n",
    "| CG | 2 |\n",
    "\n",
    "* `C(5)`:\n",
    "```\n",
    "C(1) : (1)\n",
    "D(6) -> A(4) -> C(3) : DA(3)\n",
    "D(6) -> C(1) : D(1)\n",
    "```\n",
    "Итого:\n",
    "\n",
    "| itemset | support |\n",
    "| :-: | :-: |\n",
    "| DC | 4 |\n",
    "| AC | 3 |\n",
    "| DAC | 3 |\n",
    "\n",
    "* `A(5)`:\n",
    "```\n",
    "D(6) -> A(4) : D(4)\n",
    "A(1) : (1)\n",
    "```\n",
    "Итого:\n",
    "\n",
    "| itemset | support |\n",
    "| :-: | :-: |\n",
    "| DA | 4 |\n",
    "\n",
    "* `D(6)`:\n",
    "```\n",
    "D(6) : (6)\n",
    "```\n",
    "\n",
    "Множества длины 1 были рассмотрены ранее."
   ],
   "metadata": {
    "collapsed": false,
    "pycharm": {
     "name": "#%% md\n"
    }
   }
  },
  {
   "cell_type": "code",
   "execution_count": 5,
   "outputs": [
    {
     "data": {
      "text/plain": "    support   itemsets  length\n0     0.750        (D)       1\n1     0.625        (C)       1\n2     0.625        (A)       1\n3     0.500        (B)       1\n4     0.500        (F)       1\n5     0.625        (G)       1\n6     0.500     (C, D)       2\n7     0.375     (C, G)       2\n8     0.250  (C, G, D)       3\n9     0.500     (D, A)       2\n10    0.375     (C, A)       2\n11    0.250     (G, A)       2\n12    0.375  (C, D, A)       3\n13    0.375     (B, A)       2\n14    0.250     (C, B)       2\n15    0.250     (B, D)       2\n16    0.250     (G, B)       2\n17    0.250  (B, D, A)       3\n18    0.500     (F, D)       2\n19    0.250     (F, A)       2\n20    0.250     (C, F)       2\n21    0.250     (F, G)       2\n22    0.250  (F, D, A)       3\n23    0.250  (C, F, D)       3\n24    0.250  (F, G, D)       3\n25    0.375     (G, D)       2",
      "text/html": "<div>\n<style scoped>\n    .dataframe tbody tr th:only-of-type {\n        vertical-align: middle;\n    }\n\n    .dataframe tbody tr th {\n        vertical-align: top;\n    }\n\n    .dataframe thead th {\n        text-align: right;\n    }\n</style>\n<table border=\"1\" class=\"dataframe\">\n  <thead>\n    <tr style=\"text-align: right;\">\n      <th></th>\n      <th>support</th>\n      <th>itemsets</th>\n      <th>length</th>\n    </tr>\n  </thead>\n  <tbody>\n    <tr>\n      <th>0</th>\n      <td>0.750</td>\n      <td>(D)</td>\n      <td>1</td>\n    </tr>\n    <tr>\n      <th>1</th>\n      <td>0.625</td>\n      <td>(C)</td>\n      <td>1</td>\n    </tr>\n    <tr>\n      <th>2</th>\n      <td>0.625</td>\n      <td>(A)</td>\n      <td>1</td>\n    </tr>\n    <tr>\n      <th>3</th>\n      <td>0.500</td>\n      <td>(B)</td>\n      <td>1</td>\n    </tr>\n    <tr>\n      <th>4</th>\n      <td>0.500</td>\n      <td>(F)</td>\n      <td>1</td>\n    </tr>\n    <tr>\n      <th>5</th>\n      <td>0.625</td>\n      <td>(G)</td>\n      <td>1</td>\n    </tr>\n    <tr>\n      <th>6</th>\n      <td>0.500</td>\n      <td>(C, D)</td>\n      <td>2</td>\n    </tr>\n    <tr>\n      <th>7</th>\n      <td>0.375</td>\n      <td>(C, G)</td>\n      <td>2</td>\n    </tr>\n    <tr>\n      <th>8</th>\n      <td>0.250</td>\n      <td>(C, G, D)</td>\n      <td>3</td>\n    </tr>\n    <tr>\n      <th>9</th>\n      <td>0.500</td>\n      <td>(D, A)</td>\n      <td>2</td>\n    </tr>\n    <tr>\n      <th>10</th>\n      <td>0.375</td>\n      <td>(C, A)</td>\n      <td>2</td>\n    </tr>\n    <tr>\n      <th>11</th>\n      <td>0.250</td>\n      <td>(G, A)</td>\n      <td>2</td>\n    </tr>\n    <tr>\n      <th>12</th>\n      <td>0.375</td>\n      <td>(C, D, A)</td>\n      <td>3</td>\n    </tr>\n    <tr>\n      <th>13</th>\n      <td>0.375</td>\n      <td>(B, A)</td>\n      <td>2</td>\n    </tr>\n    <tr>\n      <th>14</th>\n      <td>0.250</td>\n      <td>(C, B)</td>\n      <td>2</td>\n    </tr>\n    <tr>\n      <th>15</th>\n      <td>0.250</td>\n      <td>(B, D)</td>\n      <td>2</td>\n    </tr>\n    <tr>\n      <th>16</th>\n      <td>0.250</td>\n      <td>(G, B)</td>\n      <td>2</td>\n    </tr>\n    <tr>\n      <th>17</th>\n      <td>0.250</td>\n      <td>(B, D, A)</td>\n      <td>3</td>\n    </tr>\n    <tr>\n      <th>18</th>\n      <td>0.500</td>\n      <td>(F, D)</td>\n      <td>2</td>\n    </tr>\n    <tr>\n      <th>19</th>\n      <td>0.250</td>\n      <td>(F, A)</td>\n      <td>2</td>\n    </tr>\n    <tr>\n      <th>20</th>\n      <td>0.250</td>\n      <td>(C, F)</td>\n      <td>2</td>\n    </tr>\n    <tr>\n      <th>21</th>\n      <td>0.250</td>\n      <td>(F, G)</td>\n      <td>2</td>\n    </tr>\n    <tr>\n      <th>22</th>\n      <td>0.250</td>\n      <td>(F, D, A)</td>\n      <td>3</td>\n    </tr>\n    <tr>\n      <th>23</th>\n      <td>0.250</td>\n      <td>(C, F, D)</td>\n      <td>3</td>\n    </tr>\n    <tr>\n      <th>24</th>\n      <td>0.250</td>\n      <td>(F, G, D)</td>\n      <td>3</td>\n    </tr>\n    <tr>\n      <th>25</th>\n      <td>0.375</td>\n      <td>(G, D)</td>\n      <td>2</td>\n    </tr>\n  </tbody>\n</table>\n</div>"
     },
     "execution_count": 5,
     "metadata": {},
     "output_type": "execute_result"
    }
   ],
   "source": [
    "results = fp.fpgrowth(frame, min_support=2.0/8.0, use_colnames=True)\n",
    "results['length'] = results['itemsets'].apply(lambda x: len(x))\n",
    "results"
   ],
   "metadata": {
    "collapsed": false,
    "pycharm": {
     "name": "#%% code\n"
    }
   }
  },
  {
   "cell_type": "markdown",
   "source": [
    "## Задание 2"
   ],
   "metadata": {
    "collapsed": false
   }
  },
  {
   "cell_type": "code",
   "execution_count": 6,
   "outputs": [
    {
     "name": "stdout",
     "output_type": "stream",
     "text": [
      "Исходный набор данных:\n"
     ]
    },
    {
     "data": {
      "text/plain": "   tid            itemset\n0    1       [2, 3, 6, 7]\n1    2   [1, 3, 4, 8, 11]\n2    3         [3, 9, 11]\n3    4       [1, 5, 6, 7]\n4    5  [1, 3, 8, 10, 11]\n5    6   [3, 5, 7, 9, 11]\n6    7  [4, 6, 8, 10, 11]\n7    8   [1, 3, 5, 8, 11]",
      "text/html": "<div>\n<style scoped>\n    .dataframe tbody tr th:only-of-type {\n        vertical-align: middle;\n    }\n\n    .dataframe tbody tr th {\n        vertical-align: top;\n    }\n\n    .dataframe thead th {\n        text-align: right;\n    }\n</style>\n<table border=\"1\" class=\"dataframe\">\n  <thead>\n    <tr style=\"text-align: right;\">\n      <th></th>\n      <th>tid</th>\n      <th>itemset</th>\n    </tr>\n  </thead>\n  <tbody>\n    <tr>\n      <th>0</th>\n      <td>1</td>\n      <td>[2, 3, 6, 7]</td>\n    </tr>\n    <tr>\n      <th>1</th>\n      <td>2</td>\n      <td>[1, 3, 4, 8, 11]</td>\n    </tr>\n    <tr>\n      <th>2</th>\n      <td>3</td>\n      <td>[3, 9, 11]</td>\n    </tr>\n    <tr>\n      <th>3</th>\n      <td>4</td>\n      <td>[1, 5, 6, 7]</td>\n    </tr>\n    <tr>\n      <th>4</th>\n      <td>5</td>\n      <td>[1, 3, 8, 10, 11]</td>\n    </tr>\n    <tr>\n      <th>5</th>\n      <td>6</td>\n      <td>[3, 5, 7, 9, 11]</td>\n    </tr>\n    <tr>\n      <th>6</th>\n      <td>7</td>\n      <td>[4, 6, 8, 10, 11]</td>\n    </tr>\n    <tr>\n      <th>7</th>\n      <td>8</td>\n      <td>[1, 3, 5, 8, 11]</td>\n    </tr>\n  </tbody>\n</table>\n</div>"
     },
     "execution_count": 6,
     "metadata": {},
     "output_type": "execute_result"
    }
   ],
   "source": [
    "frame = pd.read_csv('data2.csv').apply(lambda x: x.apply(str.split) if x.name == 'itemset' else x)\n",
    "print(f\"Исходный набор данных:\")\n",
    "frame"
   ],
   "metadata": {
    "collapsed": false,
    "pycharm": {
     "name": "#%% code\n"
    }
   }
  },
  {
   "cell_type": "code",
   "execution_count": 7,
   "outputs": [
    {
     "name": "stdout",
     "output_type": "stream",
     "text": [
      "Размер множества поиска наборов элементов:\n"
     ]
    },
    {
     "data": {
      "text/plain": "2047"
     },
     "execution_count": 7,
     "metadata": {},
     "output_type": "execute_result"
    }
   ],
   "source": [
    "field = [item for sub in [combinations(range(1, 12), i) for i in range(1, 12)] for item in sub]\n",
    "print(f\"Размер множества поиска наборов элементов:\")\n",
    "len(field)"
   ],
   "metadata": {
    "collapsed": false,
    "pycharm": {
     "name": "#%% code\n"
    }
   }
  },
  {
   "cell_type": "code",
   "execution_count": 8,
   "outputs": [
    {
     "name": "stdout",
     "output_type": "stream",
     "text": [
      "Набор высоких в таксометрии элементов:\n"
     ]
    },
    {
     "data": {
      "text/plain": "   tid                            itemset\n0    1           [2, 3, 6, 7, 12, 14, 15]\n1    2   [1, 3, 4, 8, 11, 12, 13, 14, 15]\n2    3         [3, 9, 11, 12, 13, 14, 15]\n3    4               [1, 5, 6, 7, 14, 15]\n4    5  [1, 3, 8, 10, 11, 12, 13, 14, 15]\n5    6   [3, 5, 7, 9, 11, 12, 13, 14, 15]\n6    7  [4, 6, 8, 10, 11, 12, 13, 14, 15]\n7    8   [1, 3, 5, 8, 11, 12, 13, 14, 15]",
      "text/html": "<div>\n<style scoped>\n    .dataframe tbody tr th:only-of-type {\n        vertical-align: middle;\n    }\n\n    .dataframe tbody tr th {\n        vertical-align: top;\n    }\n\n    .dataframe thead th {\n        text-align: right;\n    }\n</style>\n<table border=\"1\" class=\"dataframe\">\n  <thead>\n    <tr style=\"text-align: right;\">\n      <th></th>\n      <th>tid</th>\n      <th>itemset</th>\n    </tr>\n  </thead>\n  <tbody>\n    <tr>\n      <th>0</th>\n      <td>1</td>\n      <td>[2, 3, 6, 7, 12, 14, 15]</td>\n    </tr>\n    <tr>\n      <th>1</th>\n      <td>2</td>\n      <td>[1, 3, 4, 8, 11, 12, 13, 14, 15]</td>\n    </tr>\n    <tr>\n      <th>2</th>\n      <td>3</td>\n      <td>[3, 9, 11, 12, 13, 14, 15]</td>\n    </tr>\n    <tr>\n      <th>3</th>\n      <td>4</td>\n      <td>[1, 5, 6, 7, 14, 15]</td>\n    </tr>\n    <tr>\n      <th>4</th>\n      <td>5</td>\n      <td>[1, 3, 8, 10, 11, 12, 13, 14, 15]</td>\n    </tr>\n    <tr>\n      <th>5</th>\n      <td>6</td>\n      <td>[3, 5, 7, 9, 11, 12, 13, 14, 15]</td>\n    </tr>\n    <tr>\n      <th>6</th>\n      <td>7</td>\n      <td>[4, 6, 8, 10, 11, 12, 13, 14, 15]</td>\n    </tr>\n    <tr>\n      <th>7</th>\n      <td>8</td>\n      <td>[1, 3, 5, 8, 11, 12, 13, 14, 15]</td>\n    </tr>\n  </tbody>\n</table>\n</div>"
     },
     "execution_count": 8,
     "metadata": {},
     "output_type": "execute_result"
    }
   ],
   "source": [
    "def process_leaves(leaves):\n",
    "    res = []\n",
    "    for leaf in leaves:\n",
    "        leaf = int(leaf)\n",
    "        if leaf in (12, 5):\n",
    "            res += [leaf, 14]\n",
    "        elif leaf in (7, 13, 11):\n",
    "            res += [leaf, 15]\n",
    "        elif leaf in (2, 3, 4):\n",
    "            res += [leaf, 12, 14]\n",
    "        elif leaf in (8, 9, 10):\n",
    "            res += [leaf, 13, 15]\n",
    "        else:\n",
    "            res += [leaf]\n",
    "    return list(set(res))\n",
    "\n",
    "print(f\"Набор высоких в таксометрии элементов:\")\n",
    "frame = frame.apply(lambda x: x.apply(process_leaves) if x.name == 'itemset' else x)\n",
    "frame"
   ],
   "metadata": {
    "collapsed": false,
    "pycharm": {
     "name": "#%% code\n"
    }
   }
  },
  {
   "cell_type": "code",
   "execution_count": 9,
   "outputs": [
    {
     "data": {
      "text/plain": "   support      itemsets  length\n0    0.875          (12)       1\n1    1.000          (14)       1\n2    1.000          (15)       1\n3    0.875      (12, 14)       2\n4    0.875      (12, 15)       2\n5    1.000      (14, 15)       2\n6    0.875  (12, 14, 15)       3",
      "text/html": "<div>\n<style scoped>\n    .dataframe tbody tr th:only-of-type {\n        vertical-align: middle;\n    }\n\n    .dataframe tbody tr th {\n        vertical-align: top;\n    }\n\n    .dataframe thead th {\n        text-align: right;\n    }\n</style>\n<table border=\"1\" class=\"dataframe\">\n  <thead>\n    <tr style=\"text-align: right;\">\n      <th></th>\n      <th>support</th>\n      <th>itemsets</th>\n      <th>length</th>\n    </tr>\n  </thead>\n  <tbody>\n    <tr>\n      <th>0</th>\n      <td>0.875</td>\n      <td>(12)</td>\n      <td>1</td>\n    </tr>\n    <tr>\n      <th>1</th>\n      <td>1.000</td>\n      <td>(14)</td>\n      <td>1</td>\n    </tr>\n    <tr>\n      <th>2</th>\n      <td>1.000</td>\n      <td>(15)</td>\n      <td>1</td>\n    </tr>\n    <tr>\n      <th>3</th>\n      <td>0.875</td>\n      <td>(12, 14)</td>\n      <td>2</td>\n    </tr>\n    <tr>\n      <th>4</th>\n      <td>0.875</td>\n      <td>(12, 15)</td>\n      <td>2</td>\n    </tr>\n    <tr>\n      <th>5</th>\n      <td>1.000</td>\n      <td>(14, 15)</td>\n      <td>2</td>\n    </tr>\n    <tr>\n      <th>6</th>\n      <td>0.875</td>\n      <td>(12, 14, 15)</td>\n      <td>3</td>\n    </tr>\n  </tbody>\n</table>\n</div>"
     },
     "execution_count": 9,
     "metadata": {},
     "output_type": "execute_result"
    }
   ],
   "source": [
    "te = pp.TransactionEncoder()\n",
    "te_ary = te.fit_transform(frame['itemset'].tolist())\n",
    "frame = pd.DataFrame(te_ary, columns=te.columns_)\n",
    "\n",
    "results = fp.apriori(frame, min_support=7.0/8.0, use_colnames=True)\n",
    "results['length'] = results['itemsets'].apply(lambda x: len(x))\n",
    "results"
   ],
   "metadata": {
    "collapsed": false,
    "pycharm": {
     "name": "#%% code\n"
    }
   }
  }
 ],
 "metadata": {
  "kernelspec": {
   "display_name": "Python 3",
   "language": "python",
   "name": "python3"
  },
  "language_info": {
   "codemirror_mode": {
    "name": "ipython",
    "version": 2
   },
   "file_extension": ".py",
   "mimetype": "text/x-python",
   "name": "python",
   "nbconvert_exporter": "python",
   "pygments_lexer": "ipython2",
   "version": "2.7.6"
  }
 },
 "nbformat": 4,
 "nbformat_minor": 0
}