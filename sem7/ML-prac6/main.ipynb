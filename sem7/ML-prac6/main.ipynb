{
 "cells": [
  {
   "cell_type": "markdown",
   "metadata": {
    "collapsed": true,
    "pycharm": {
     "name": "#%% md\n"
    }
   },
   "source": [
    "# Практическая работа №4"
   ]
  },
  {
   "cell_type": "markdown",
   "metadata": {},
   "source": [
    "### Используемые библиотеки"
   ]
  },
  {
   "cell_type": "code",
   "execution_count": 31,
   "metadata": {
    "pycharm": {
     "name": "#%% code\n"
    }
   },
   "outputs": [],
   "source": [
    "from math import sqrt, pi, exp\n",
    "\n",
    "from pandas import read_csv, DataFrame\n",
    "from numpy import vstack\n",
    "from sklearn.preprocessing import StandardScaler\n",
    "from sklearn.cluster import KMeans, AgglomerativeClustering\n",
    "from sklearn.metrics import pairwise_distances, pairwise_distances_argmin\n",
    "from matplotlib import pyplot as plt\n",
    "from scipy.cluster.hierarchy import dendrogram"
   ]
  },
  {
   "cell_type": "markdown",
   "metadata": {},
   "source": [
    "### Исходные данные\n",
    "\n",
    "`data.csv`:\n",
    "```csv\n",
    "x,y,c\n",
    "5,8,a\n",
    "10,8,b\n",
    "11,8,c\n",
    "6,7,d\n",
    "10,7,e\n",
    "12,7,f\n",
    "13,7,g\n",
    "5,6,h\n",
    "10,6,i\n",
    "13,6,j\n",
    "6,5,k\n",
    "9,4,l\n",
    "11,5,m\n",
    "14,6,n\n",
    "15,5,o\n",
    "2,4,p\n",
    "3,4,q\n",
    "5,4,r\n",
    "6,4,s\n",
    "7,4,t\n",
    "15,4,u\n",
    "3,3,v\n",
    "7,3,w\n",
    "8,2,x\n",
    "```"
   ]
  },
  {
   "cell_type": "markdown",
   "source": [
    "## Задание 1"
   ],
   "metadata": {
    "collapsed": false
   }
  },
  {
   "cell_type": "code",
   "execution_count": 32,
   "outputs": [
    {
     "name": "stdout",
     "output_type": "stream",
     "text": [
      "Исходный набор данных:\n"
     ]
    },
    {
     "data": {
      "text/plain": "    x  y\na   5  8\nb  10  8\nc  11  8\nd   6  7\ne  10  7\nf  12  7\ng  13  7\nh   5  6\ni  10  6\nj  13  6\nk   6  5\nl   9  4\nm  11  5\nn  14  6\no  15  5\np   2  4\nq   3  4\nr   5  4\ns   6  4\nt   7  4\nu  15  4\nv   3  3\nw   7  3\nx   8  2",
      "text/html": "<div>\n<style scoped>\n    .dataframe tbody tr th:only-of-type {\n        vertical-align: middle;\n    }\n\n    .dataframe tbody tr th {\n        vertical-align: top;\n    }\n\n    .dataframe thead th {\n        text-align: right;\n    }\n</style>\n<table border=\"1\" class=\"dataframe\">\n  <thead>\n    <tr style=\"text-align: right;\">\n      <th></th>\n      <th>x</th>\n      <th>y</th>\n    </tr>\n  </thead>\n  <tbody>\n    <tr>\n      <th>a</th>\n      <td>5</td>\n      <td>8</td>\n    </tr>\n    <tr>\n      <th>b</th>\n      <td>10</td>\n      <td>8</td>\n    </tr>\n    <tr>\n      <th>c</th>\n      <td>11</td>\n      <td>8</td>\n    </tr>\n    <tr>\n      <th>d</th>\n      <td>6</td>\n      <td>7</td>\n    </tr>\n    <tr>\n      <th>e</th>\n      <td>10</td>\n      <td>7</td>\n    </tr>\n    <tr>\n      <th>f</th>\n      <td>12</td>\n      <td>7</td>\n    </tr>\n    <tr>\n      <th>g</th>\n      <td>13</td>\n      <td>7</td>\n    </tr>\n    <tr>\n      <th>h</th>\n      <td>5</td>\n      <td>6</td>\n    </tr>\n    <tr>\n      <th>i</th>\n      <td>10</td>\n      <td>6</td>\n    </tr>\n    <tr>\n      <th>j</th>\n      <td>13</td>\n      <td>6</td>\n    </tr>\n    <tr>\n      <th>k</th>\n      <td>6</td>\n      <td>5</td>\n    </tr>\n    <tr>\n      <th>l</th>\n      <td>9</td>\n      <td>4</td>\n    </tr>\n    <tr>\n      <th>m</th>\n      <td>11</td>\n      <td>5</td>\n    </tr>\n    <tr>\n      <th>n</th>\n      <td>14</td>\n      <td>6</td>\n    </tr>\n    <tr>\n      <th>o</th>\n      <td>15</td>\n      <td>5</td>\n    </tr>\n    <tr>\n      <th>p</th>\n      <td>2</td>\n      <td>4</td>\n    </tr>\n    <tr>\n      <th>q</th>\n      <td>3</td>\n      <td>4</td>\n    </tr>\n    <tr>\n      <th>r</th>\n      <td>5</td>\n      <td>4</td>\n    </tr>\n    <tr>\n      <th>s</th>\n      <td>6</td>\n      <td>4</td>\n    </tr>\n    <tr>\n      <th>t</th>\n      <td>7</td>\n      <td>4</td>\n    </tr>\n    <tr>\n      <th>u</th>\n      <td>15</td>\n      <td>4</td>\n    </tr>\n    <tr>\n      <th>v</th>\n      <td>3</td>\n      <td>3</td>\n    </tr>\n    <tr>\n      <th>w</th>\n      <td>7</td>\n      <td>3</td>\n    </tr>\n    <tr>\n      <th>x</th>\n      <td>8</td>\n      <td>2</td>\n    </tr>\n  </tbody>\n</table>\n</div>"
     },
     "execution_count": 32,
     "metadata": {},
     "output_type": "execute_result"
    }
   ],
   "source": [
    "frame = read_csv('data.csv').set_index('c').rename_axis(None)\n",
    "print(f\"Исходный набор данных:\")\n",
    "frame"
   ],
   "metadata": {
    "collapsed": false,
    "pycharm": {
     "name": "#%% code\n"
    }
   }
  },
  {
   "cell_type": "markdown",
   "metadata": {
    "pycharm": {
     "name": "#%% md\n"
    }
   },
   "source": [
    "### Представление данных в виде кластеров"
   ]
  },
  {
   "cell_type": "code",
   "execution_count": 33,
   "outputs": [
    {
     "name": "stdout",
     "output_type": "stream",
     "text": [
      "{0, 1, 2, 3, -1}\n",
      "4\n",
      "0.20833333333333334\n",
      "[[ 0  8]\n",
      " [10 12]\n",
      " [ 0 12]\n",
      " [13 16]\n",
      " [18 20]\n",
      " [13 23]\n",
      " [ 0 23]]\n",
      "['a', 'd', 'h', 'k', 'r', 's', 't', 'w', 'x']\n",
      "['q', 'p', 'v']\n",
      "['a', 'd', 'h', 'k', 'r', 's', 't', 'w', 'x', 'l', 'q', 'p', 'v']\n",
      "['i', 'e', 'b', 'c']\n",
      "['g', 'j', 'n']\n",
      "['i', 'e', 'b', 'c', 'f', 'g', 'j', 'n', 'm', 'o', 'u']\n",
      "['a', 'd', 'h', 'k', 'r', 's', 't', 'w', 'x', 'l', 'q', 'p', 'v', 'i', 'e', 'b', 'c', 'f', 'g', 'j', 'n', 'm', 'o', 'u']\n"
     ]
    }
   ],
   "source": [
    "from sklearn.cluster import OPTICS, DBSCAN\n",
    "\n",
    "arr = vstack(frame.values)\n",
    "clustering = OPTICS(eps=2, metric='euclidean', min_samples=3)\n",
    "clustering.fit(arr)\n",
    "\n",
    "print(set(clustering.labels_))\n",
    "print(len(set(clustering.labels_)) - 1)\n",
    "print(list(clustering.labels_).count(-1) / len(list(clustering.labels_)))\n",
    "\n",
    "#print(clustering.core_distances_)\n",
    "print(clustering.cluster_hierarchy_)\n",
    "arr = [clustering.ordering_[start:end + 1] for start, end in clustering.cluster_hierarchy_]\n",
    "for ch in arr:\n",
    "    print([chr(c + 97) for c in ch])"
   ],
   "metadata": {
    "collapsed": false,
    "pycharm": {
     "name": "#%% code\n"
    }
   }
  }
 ],
 "metadata": {
  "kernelspec": {
   "display_name": "Python 3 (ipykernel)",
   "language": "python",
   "name": "python3"
  },
  "language_info": {
   "codemirror_mode": {
    "name": "ipython",
    "version": 3
   },
   "file_extension": ".py",
   "mimetype": "text/x-python",
   "name": "python",
   "nbconvert_exporter": "python",
   "pygments_lexer": "ipython3",
   "version": "3.9.5"
  }
 },
 "nbformat": 4,
 "nbformat_minor": 1
}