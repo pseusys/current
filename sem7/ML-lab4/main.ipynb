{
 "cells": [
  {
   "cell_type": "markdown",
   "source": [
    "# Лабораторная работа №4"
   ],
   "metadata": {
    "collapsed": false
   }
  },
  {
   "cell_type": "markdown",
   "source": [
    "### Используемые библиотеки"
   ],
   "metadata": {
    "collapsed": false
   }
  },
  {
   "cell_type": "code",
   "execution_count": 244,
   "outputs": [],
   "source": [
    "import pandas as pd\n",
    "import mlxtend.frequent_patterns as fp\n",
    "import mlxtend.preprocessing as pp\n",
    "from matplotlib import pyplot as plt"
   ],
   "metadata": {
    "collapsed": false,
    "pycharm": {
     "name": "#%% code\n"
    }
   }
  },
  {
   "cell_type": "markdown",
   "source": [
    "### Исходные данные:\n",
    "[`groceries - groceries.csv`](https://www.kaggle.com/irfanasrullah/groceries)"
   ],
   "metadata": {
    "collapsed": false
   }
  },
  {
   "cell_type": "markdown",
   "source": [
    "## Загрузка данных"
   ],
   "metadata": {
    "collapsed": false
   }
  },
  {
   "cell_type": "code",
   "execution_count": 245,
   "outputs": [
    {
     "name": "stdout",
     "output_type": "stream",
     "text": [
      "      Item(s)               Item 1               Item 2            Item 3  \\\n",
      "0           4         citrus fruit  semi-finished bread         margarine   \n",
      "1           3       tropical fruit               yogurt            coffee   \n",
      "2           1           whole milk                  NaN               NaN   \n",
      "3           4            pip fruit               yogurt      cream cheese   \n",
      "4           4     other vegetables           whole milk    condensed milk   \n",
      "...       ...                  ...                  ...               ...   \n",
      "9830       17              sausage              chicken              beef   \n",
      "9831        1    cooking chocolate                  NaN               NaN   \n",
      "9832       10              chicken         citrus fruit  other vegetables   \n",
      "9833        4  semi-finished bread        bottled water              soda   \n",
      "9834        5              chicken       tropical fruit  other vegetables   \n",
      "\n",
      "                        Item 4         Item 5          Item 6  \\\n",
      "0                  ready soups            NaN             NaN   \n",
      "1                          NaN            NaN             NaN   \n",
      "2                          NaN            NaN             NaN   \n",
      "3                 meat spreads            NaN             NaN   \n",
      "4     long life bakery product            NaN             NaN   \n",
      "...                        ...            ...             ...   \n",
      "9830            hamburger meat   citrus fruit          grapes   \n",
      "9831                       NaN            NaN             NaN   \n",
      "9832                    butter         yogurt  frozen dessert   \n",
      "9833              bottled beer            NaN             NaN   \n",
      "9834                   vinegar  shopping bags             NaN   \n",
      "\n",
      "               Item 7      Item 8  Item 9  ... Item 23 Item 24 Item 25  \\\n",
      "0                 NaN         NaN     NaN  ...     NaN     NaN     NaN   \n",
      "1                 NaN         NaN     NaN  ...     NaN     NaN     NaN   \n",
      "2                 NaN         NaN     NaN  ...     NaN     NaN     NaN   \n",
      "3                 NaN         NaN     NaN  ...     NaN     NaN     NaN   \n",
      "4                 NaN         NaN     NaN  ...     NaN     NaN     NaN   \n",
      "...               ...         ...     ...  ...     ...     ...     ...   \n",
      "9830  root vegetables  whole milk  butter  ...     NaN     NaN     NaN   \n",
      "9831              NaN         NaN     NaN  ...     NaN     NaN     NaN   \n",
      "9832    domestic eggs  rolls/buns     rum  ...     NaN     NaN     NaN   \n",
      "9833              NaN         NaN     NaN  ...     NaN     NaN     NaN   \n",
      "9834              NaN         NaN     NaN  ...     NaN     NaN     NaN   \n",
      "\n",
      "     Item 26 Item 27 Item 28 Item 29 Item 30 Item 31 Item 32  \n",
      "0        NaN     NaN     NaN     NaN     NaN     NaN     NaN  \n",
      "1        NaN     NaN     NaN     NaN     NaN     NaN     NaN  \n",
      "2        NaN     NaN     NaN     NaN     NaN     NaN     NaN  \n",
      "3        NaN     NaN     NaN     NaN     NaN     NaN     NaN  \n",
      "4        NaN     NaN     NaN     NaN     NaN     NaN     NaN  \n",
      "...      ...     ...     ...     ...     ...     ...     ...  \n",
      "9830     NaN     NaN     NaN     NaN     NaN     NaN     NaN  \n",
      "9831     NaN     NaN     NaN     NaN     NaN     NaN     NaN  \n",
      "9832     NaN     NaN     NaN     NaN     NaN     NaN     NaN  \n",
      "9833     NaN     NaN     NaN     NaN     NaN     NaN     NaN  \n",
      "9834     NaN     NaN     NaN     NaN     NaN     NaN     NaN  \n",
      "\n",
      "[9835 rows x 33 columns]\n"
     ]
    }
   ],
   "source": [
    "all_data = pd.read_csv('groceries - groceries.csv')\n",
    "print(all_data)"
   ],
   "metadata": {
    "collapsed": false,
    "pycharm": {
     "name": "#%% code\n"
    }
   }
  },
  {
   "cell_type": "code",
   "execution_count": 246,
   "outputs": [],
   "source": [
    "np_data = all_data.to_numpy()\n",
    "np_data = [[elem for elem in row[1:] if isinstance(elem,str)] for row in np_data]"
   ],
   "metadata": {
    "collapsed": false,
    "pycharm": {
     "name": "#%% code\n"
    }
   }
  },
  {
   "cell_type": "code",
   "execution_count": 247,
   "outputs": [
    {
     "name": "stdout",
     "output_type": "stream",
     "text": [
      "Уникальные товары: {'tropical fruit', 'bottled water', 'sausage', 'cooking chocolate', 'nut snack', 'salt', 'decalcifier', 'mayonnaise', 'frozen meals', 'UHT-milk', 'popcorn', 'butter', 'condensed milk', 'female sanitary products', 'fruit/vegetable juice', 'potato products', 'whisky', 'baby cosmetics', 'newspapers', 'candles', 'mustard', 'liqueur', 'pork', 'turkey', 'frozen vegetables', 'specialty cheese', 'chocolate', 'potted plants', 'whipped/sour cream', 'liquor', 'whole milk', 'roll products', 'snack products', 'dog food', 'pudding powder', 'soap', 'kitchen utensil', 'detergent', 'chewing gum', 'honey', 'waffles', 'frankfurter', 'liquor (appetizer)', 'organic sausage', 'salad dressing', 'canned fish', 'citrus fruit', 'other vegetables', 'coffee', 'salty snack', 'pet care', 'cocoa drinks', 'grapes', 'vinegar', 'pastry', 'white bread', 'specialty bar', 'long life bakery product', 'herbs', 'rolls/buns', 'berries', 'soda', 'misc. beverages', 'sound storage medium', 'sliced cheese', 'shopping bags', 'brandy', 'hair spray', 'cake bar', 'dish cleaner', 'flower soil/fertilizer', 'finished products', 'fish', 'cat food', 'tidbits', 'chocolate marshmallow', 'canned fruit', 'ice cream', 'bottled beer', 'curd', 'cookware', 'dental care', 'toilet cleaner', 'frozen fish', 'baking powder', 'sparkling wine', 'rum', 'root vegetables', 'yogurt', 'hamburger meat', 'packaged fruit/vegetables', 'frozen dessert', 'tea', 'frozen chicken', 'dishes', 'rubbing alcohol', 'artif. sweetener', 'candy', 'instant coffee', 'pip fruit', 'kitchen towels', 'rice', 'organic products', 'sauces', 'ready soups', 'specialty vegetables', 'spread cheese', 'processed cheese', 'frozen fruits', 'specialty fat', 'canned vegetables', 'baby food', 'cream', 'prosecco', 'preservation products', 'photo/film', 'bags', 'meat', 'soups', 'pasta', 'hygiene articles', 'canned beer', 'chicken', 'semi-finished bread', 'margarine', 'zwieback', 'house keeping products', 'bathroom cleaner', 'make up remover', 'onions', 'male cosmetics', 'beef', 'ham', 'napkins', 'domestic eggs', 'pickled vegetables', 'cream cheese', 'flower (seeds)', 'cereals', 'frozen potato products', 'Instant food products', 'ketchup', 'sweet spreads', 'flour', 'cling film/bags', 'soft cheese', 'oil', 'sugar', 'nuts/prunes', 'meat spreads', 'curd cheese', 'skin care', 'dessert', 'white wine', 'jam', 'abrasive cleaner', 'beverages', 'butter milk', 'seasonal products', 'cleaner', 'brown bread', 'softener', 'liver loaf', 'spices', 'hard cheese', 'specialty chocolate', 'syrup', 'light bulbs', 'red/blush wine'}\n",
      "Всего: 169\n"
     ]
    }
   ],
   "source": [
    "unique_items = set([elem for row in np_data for elem in row])\n",
    "print(f\"Уникальные товары: {unique_items}\")\n",
    "print(f\"Всего: {len(unique_items)}\")"
   ],
   "metadata": {
    "collapsed": false,
    "pycharm": {
     "name": "#%% code\n"
    }
   }
  },
  {
   "cell_type": "markdown",
   "source": [
    "## FPGrowth и FPMax"
   ],
   "metadata": {
    "collapsed": false
   }
  },
  {
   "cell_type": "code",
   "execution_count": 248,
   "outputs": [],
   "source": [
    "te = pp.TransactionEncoder()\n",
    "data = pd.DataFrame(te.fit_transform(np_data), columns=te.columns_)"
   ],
   "metadata": {
    "collapsed": false,
    "pycharm": {
     "name": "#%% code\n"
    }
   }
  },
  {
   "cell_type": "code",
   "execution_count": 249,
   "outputs": [
    {
     "data": {
      "text/plain": "     support                             itemsets\n0   0.082766                       (citrus fruit)\n1   0.058566                          (margarine)\n2   0.139502                             (yogurt)\n3   0.104931                     (tropical fruit)\n4   0.058058                             (coffee)\n..       ...                                  ...\n58  0.033249                 (whole milk, pastry)\n59  0.047382  (other vegetables, root vegetables)\n60  0.048907        (whole milk, root vegetables)\n61  0.030605                (rolls/buns, sausage)\n62  0.032232     (whole milk, whipped/sour cream)\n\n[63 rows x 2 columns]",
      "text/html": "<div>\n<style scoped>\n    .dataframe tbody tr th:only-of-type {\n        vertical-align: middle;\n    }\n\n    .dataframe tbody tr th {\n        vertical-align: top;\n    }\n\n    .dataframe thead th {\n        text-align: right;\n    }\n</style>\n<table border=\"1\" class=\"dataframe\">\n  <thead>\n    <tr style=\"text-align: right;\">\n      <th></th>\n      <th>support</th>\n      <th>itemsets</th>\n    </tr>\n  </thead>\n  <tbody>\n    <tr>\n      <th>0</th>\n      <td>0.082766</td>\n      <td>(citrus fruit)</td>\n    </tr>\n    <tr>\n      <th>1</th>\n      <td>0.058566</td>\n      <td>(margarine)</td>\n    </tr>\n    <tr>\n      <th>2</th>\n      <td>0.139502</td>\n      <td>(yogurt)</td>\n    </tr>\n    <tr>\n      <th>3</th>\n      <td>0.104931</td>\n      <td>(tropical fruit)</td>\n    </tr>\n    <tr>\n      <th>4</th>\n      <td>0.058058</td>\n      <td>(coffee)</td>\n    </tr>\n    <tr>\n      <th>...</th>\n      <td>...</td>\n      <td>...</td>\n    </tr>\n    <tr>\n      <th>58</th>\n      <td>0.033249</td>\n      <td>(whole milk, pastry)</td>\n    </tr>\n    <tr>\n      <th>59</th>\n      <td>0.047382</td>\n      <td>(other vegetables, root vegetables)</td>\n    </tr>\n    <tr>\n      <th>60</th>\n      <td>0.048907</td>\n      <td>(whole milk, root vegetables)</td>\n    </tr>\n    <tr>\n      <th>61</th>\n      <td>0.030605</td>\n      <td>(rolls/buns, sausage)</td>\n    </tr>\n    <tr>\n      <th>62</th>\n      <td>0.032232</td>\n      <td>(whole milk, whipped/sour cream)</td>\n    </tr>\n  </tbody>\n</table>\n<p>63 rows × 2 columns</p>\n</div>"
     },
     "execution_count": 249,
     "metadata": {},
     "output_type": "execute_result"
    }
   ],
   "source": [
    "result = fp.fpgrowth(data, min_support=0.03, use_colnames=True)\n",
    "pd.DataFrame(result)"
   ],
   "metadata": {
    "collapsed": false,
    "pycharm": {
     "name": "#%% code\n"
    }
   }
  },
  {
   "cell_type": "code",
   "execution_count": 250,
   "outputs": [
    {
     "name": "stdout",
     "output_type": "stream",
     "text": [
      "Для набора из 1 элементов:\n",
      "        максимальное значение - 0.25551601423487547 ['whole milk']\n",
      "        минимальное - 0.03040162684290798 ['specialty chocolate']\n",
      "    \n",
      "Для набора из 2 элементов:\n",
      "        максимальное значение - 0.07483477376715811 ['whole milk', 'other vegetables']\n",
      "        минимальное - 0.030096593797661414 ['whole milk', 'pip fruit']\n",
      "    \n"
     ]
    }
   ],
   "source": [
    "for i in range(1, max(list(map(lambda s: len(s), pd.DataFrame(result)['itemsets'].values))) + 1):\n",
    "    res = result[result['itemsets'].apply(lambda x: len(x)) == i]\n",
    "    mm = (max(res.values, key=lambda x: x[0]), min(res.values, key=lambda x: x[0]))\n",
    "    print(f\"\"\"Для набора из {i} элементов:\n",
    "        максимальное значение - {mm[0][0]} {list(mm[0][1])}\n",
    "        минимальное - {mm[1][0]} {list(mm[1][1])}\n",
    "    \"\"\")"
   ],
   "metadata": {
    "collapsed": false,
    "pycharm": {
     "name": "#%% code\n"
    }
   }
  },
  {
   "cell_type": "code",
   "execution_count": 251,
   "outputs": [
    {
     "data": {
      "text/plain": "     support                             itemsets\n0   0.030402                (specialty chocolate)\n1   0.031012                             (onions)\n2   0.032944                   (hygiene articles)\n3   0.033249                            (berries)\n4   0.033249                     (hamburger meat)\n5   0.033452                           (UHT-milk)\n6   0.033859                              (sugar)\n7   0.037112                            (dessert)\n8   0.037417           (long life bakery product)\n9   0.037824                        (salty snack)\n10  0.038434                            (waffles)\n11  0.039654                       (cream cheese)\n12  0.042095                        (white bread)\n13  0.042908                            (chicken)\n14  0.048094                  (frozen vegetables)\n15  0.049619                          (chocolate)\n16  0.052364                            (napkins)\n17  0.052466                               (beef)\n18  0.053279                               (curd)\n19  0.055414                             (butter)\n20  0.057651                               (pork)\n21  0.058058                             (coffee)\n22  0.058566                          (margarine)\n23  0.058973                        (frankfurter)\n24  0.063447                      (domestic eggs)\n25  0.064870                        (brown bread)\n26  0.032232     (whole milk, whipped/sour cream)\n27  0.072293              (fruit/vegetable juice)\n28  0.030097              (pip fruit, whole milk)\n29  0.077682                        (canned beer)\n30  0.079817                         (newspapers)\n31  0.080529                       (bottled beer)\n32  0.030503           (whole milk, citrus fruit)\n33  0.033249                 (whole milk, pastry)\n34  0.030605                (rolls/buns, sausage)\n35  0.098526                      (shopping bags)\n36  0.035892   (tropical fruit, other vegetables)\n37  0.042298         (tropical fruit, whole milk)\n38  0.047382  (other vegetables, root vegetables)\n39  0.048907        (whole milk, root vegetables)\n40  0.034367          (whole milk, bottled water)\n41  0.034367                 (rolls/buns, yogurt)\n42  0.043416           (other vegetables, yogurt)\n43  0.056024                 (whole milk, yogurt)\n44  0.032740             (other vegetables, soda)\n45  0.038332                   (rolls/buns, soda)\n46  0.040061                   (whole milk, soda)\n47  0.042603       (rolls/buns, other vegetables)\n48  0.056634             (whole milk, rolls/buns)\n49  0.074835       (whole milk, other vegetables)",
      "text/html": "<div>\n<style scoped>\n    .dataframe tbody tr th:only-of-type {\n        vertical-align: middle;\n    }\n\n    .dataframe tbody tr th {\n        vertical-align: top;\n    }\n\n    .dataframe thead th {\n        text-align: right;\n    }\n</style>\n<table border=\"1\" class=\"dataframe\">\n  <thead>\n    <tr style=\"text-align: right;\">\n      <th></th>\n      <th>support</th>\n      <th>itemsets</th>\n    </tr>\n  </thead>\n  <tbody>\n    <tr>\n      <th>0</th>\n      <td>0.030402</td>\n      <td>(specialty chocolate)</td>\n    </tr>\n    <tr>\n      <th>1</th>\n      <td>0.031012</td>\n      <td>(onions)</td>\n    </tr>\n    <tr>\n      <th>2</th>\n      <td>0.032944</td>\n      <td>(hygiene articles)</td>\n    </tr>\n    <tr>\n      <th>3</th>\n      <td>0.033249</td>\n      <td>(berries)</td>\n    </tr>\n    <tr>\n      <th>4</th>\n      <td>0.033249</td>\n      <td>(hamburger meat)</td>\n    </tr>\n    <tr>\n      <th>5</th>\n      <td>0.033452</td>\n      <td>(UHT-milk)</td>\n    </tr>\n    <tr>\n      <th>6</th>\n      <td>0.033859</td>\n      <td>(sugar)</td>\n    </tr>\n    <tr>\n      <th>7</th>\n      <td>0.037112</td>\n      <td>(dessert)</td>\n    </tr>\n    <tr>\n      <th>8</th>\n      <td>0.037417</td>\n      <td>(long life bakery product)</td>\n    </tr>\n    <tr>\n      <th>9</th>\n      <td>0.037824</td>\n      <td>(salty snack)</td>\n    </tr>\n    <tr>\n      <th>10</th>\n      <td>0.038434</td>\n      <td>(waffles)</td>\n    </tr>\n    <tr>\n      <th>11</th>\n      <td>0.039654</td>\n      <td>(cream cheese)</td>\n    </tr>\n    <tr>\n      <th>12</th>\n      <td>0.042095</td>\n      <td>(white bread)</td>\n    </tr>\n    <tr>\n      <th>13</th>\n      <td>0.042908</td>\n      <td>(chicken)</td>\n    </tr>\n    <tr>\n      <th>14</th>\n      <td>0.048094</td>\n      <td>(frozen vegetables)</td>\n    </tr>\n    <tr>\n      <th>15</th>\n      <td>0.049619</td>\n      <td>(chocolate)</td>\n    </tr>\n    <tr>\n      <th>16</th>\n      <td>0.052364</td>\n      <td>(napkins)</td>\n    </tr>\n    <tr>\n      <th>17</th>\n      <td>0.052466</td>\n      <td>(beef)</td>\n    </tr>\n    <tr>\n      <th>18</th>\n      <td>0.053279</td>\n      <td>(curd)</td>\n    </tr>\n    <tr>\n      <th>19</th>\n      <td>0.055414</td>\n      <td>(butter)</td>\n    </tr>\n    <tr>\n      <th>20</th>\n      <td>0.057651</td>\n      <td>(pork)</td>\n    </tr>\n    <tr>\n      <th>21</th>\n      <td>0.058058</td>\n      <td>(coffee)</td>\n    </tr>\n    <tr>\n      <th>22</th>\n      <td>0.058566</td>\n      <td>(margarine)</td>\n    </tr>\n    <tr>\n      <th>23</th>\n      <td>0.058973</td>\n      <td>(frankfurter)</td>\n    </tr>\n    <tr>\n      <th>24</th>\n      <td>0.063447</td>\n      <td>(domestic eggs)</td>\n    </tr>\n    <tr>\n      <th>25</th>\n      <td>0.064870</td>\n      <td>(brown bread)</td>\n    </tr>\n    <tr>\n      <th>26</th>\n      <td>0.032232</td>\n      <td>(whole milk, whipped/sour cream)</td>\n    </tr>\n    <tr>\n      <th>27</th>\n      <td>0.072293</td>\n      <td>(fruit/vegetable juice)</td>\n    </tr>\n    <tr>\n      <th>28</th>\n      <td>0.030097</td>\n      <td>(pip fruit, whole milk)</td>\n    </tr>\n    <tr>\n      <th>29</th>\n      <td>0.077682</td>\n      <td>(canned beer)</td>\n    </tr>\n    <tr>\n      <th>30</th>\n      <td>0.079817</td>\n      <td>(newspapers)</td>\n    </tr>\n    <tr>\n      <th>31</th>\n      <td>0.080529</td>\n      <td>(bottled beer)</td>\n    </tr>\n    <tr>\n      <th>32</th>\n      <td>0.030503</td>\n      <td>(whole milk, citrus fruit)</td>\n    </tr>\n    <tr>\n      <th>33</th>\n      <td>0.033249</td>\n      <td>(whole milk, pastry)</td>\n    </tr>\n    <tr>\n      <th>34</th>\n      <td>0.030605</td>\n      <td>(rolls/buns, sausage)</td>\n    </tr>\n    <tr>\n      <th>35</th>\n      <td>0.098526</td>\n      <td>(shopping bags)</td>\n    </tr>\n    <tr>\n      <th>36</th>\n      <td>0.035892</td>\n      <td>(tropical fruit, other vegetables)</td>\n    </tr>\n    <tr>\n      <th>37</th>\n      <td>0.042298</td>\n      <td>(tropical fruit, whole milk)</td>\n    </tr>\n    <tr>\n      <th>38</th>\n      <td>0.047382</td>\n      <td>(other vegetables, root vegetables)</td>\n    </tr>\n    <tr>\n      <th>39</th>\n      <td>0.048907</td>\n      <td>(whole milk, root vegetables)</td>\n    </tr>\n    <tr>\n      <th>40</th>\n      <td>0.034367</td>\n      <td>(whole milk, bottled water)</td>\n    </tr>\n    <tr>\n      <th>41</th>\n      <td>0.034367</td>\n      <td>(rolls/buns, yogurt)</td>\n    </tr>\n    <tr>\n      <th>42</th>\n      <td>0.043416</td>\n      <td>(other vegetables, yogurt)</td>\n    </tr>\n    <tr>\n      <th>43</th>\n      <td>0.056024</td>\n      <td>(whole milk, yogurt)</td>\n    </tr>\n    <tr>\n      <th>44</th>\n      <td>0.032740</td>\n      <td>(other vegetables, soda)</td>\n    </tr>\n    <tr>\n      <th>45</th>\n      <td>0.038332</td>\n      <td>(rolls/buns, soda)</td>\n    </tr>\n    <tr>\n      <th>46</th>\n      <td>0.040061</td>\n      <td>(whole milk, soda)</td>\n    </tr>\n    <tr>\n      <th>47</th>\n      <td>0.042603</td>\n      <td>(rolls/buns, other vegetables)</td>\n    </tr>\n    <tr>\n      <th>48</th>\n      <td>0.056634</td>\n      <td>(whole milk, rolls/buns)</td>\n    </tr>\n    <tr>\n      <th>49</th>\n      <td>0.074835</td>\n      <td>(whole milk, other vegetables)</td>\n    </tr>\n  </tbody>\n</table>\n</div>"
     },
     "execution_count": 251,
     "metadata": {},
     "output_type": "execute_result"
    }
   ],
   "source": [
    "result = fp.fpmax(data, min_support=0.03, use_colnames=True)\n",
    "pd.DataFrame(result)"
   ],
   "metadata": {
    "collapsed": false,
    "pycharm": {
     "name": "#%% code\n"
    }
   }
  },
  {
   "cell_type": "code",
   "execution_count": 252,
   "outputs": [
    {
     "name": "stdout",
     "output_type": "stream",
     "text": [
      "Для набора из 1 элементов:\n",
      "        максимальное значение - 0.09852567361464158 ['shopping bags']\n",
      "        минимальное - 0.03040162684290798 ['specialty chocolate']\n",
      "    \n",
      "Для набора из 2 элементов:\n",
      "        максимальное значение - 0.07483477376715811 ['whole milk', 'other vegetables']\n",
      "        минимальное - 0.030096593797661414 ['pip fruit', 'whole milk']\n",
      "    \n"
     ]
    }
   ],
   "source": [
    "for i in range(1, max(list(map(lambda s: len(s), pd.DataFrame(result)['itemsets'].values))) + 1):\n",
    "    res = result[result['itemsets'].apply(lambda x: len(x)) == i]\n",
    "    mm = (max(res.values, key=lambda x: x[0]), min(res.values, key=lambda x: x[0]))\n",
    "    print(f\"\"\"Для набора из {i} элементов:\n",
    "        максимальное значение - {mm[0][0]} {list(mm[0][1])}\n",
    "        минимальное - {mm[1][0]} {list(mm[1][1])}\n",
    "    \"\"\")"
   ],
   "metadata": {
    "collapsed": false,
    "pycharm": {
     "name": "#%% code\n"
    }
   }
  },
  {
   "cell_type": "code",
   "execution_count": 253,
   "outputs": [
    {
     "data": {
      "text/plain": "<Figure size 432x288 with 1 Axes>",
      "image/png": "[encoded data removed]"
     },
     "metadata": {
      "needs_background": "light"
     },
     "output_type": "display_data"
    }
   ],
   "source": [
    "frequent = list(map(lambda item: sum(sum(1 for it in st if it == item) for st in np_data), unique_items))\n",
    "labeled = sorted(zip(unique_items, frequent), key=lambda x: x[1], reverse=True)[:10]\n",
    "\n",
    "axis = plt.gca()\n",
    "axis.hist(range(0, len(labeled)), weights=list(map(lambda x: x[1], labeled)), bins=10)\n",
    "axis.set_title(\"10 most frequent goods\")\n",
    "axis.set_xlabel(\"goods\")\n",
    "axis.set_ylabel(\"frequency\")\n",
    "axis.set_xticks(range(0, len(labeled)))\n",
    "axis.set_xticklabels(list(map(lambda x: x[0], labeled)))\n",
    "plt.show()"
   ],
   "metadata": {
    "collapsed": false,
    "pycharm": {
     "name": "#%% code\n"
    }
   }
  },
  {
   "cell_type": "code",
   "execution_count": 254,
   "outputs": [
    {
     "data": {
      "text/plain": "     support                             itemsets\n0   0.082766                       (citrus fruit)\n1   0.139502                             (yogurt)\n2   0.104931                     (tropical fruit)\n3   0.255516                         (whole milk)\n4   0.193493                   (other vegetables)\n5   0.183935                         (rolls/buns)\n6   0.080529                       (bottled beer)\n7   0.110524                      (bottled water)\n8   0.174377                               (soda)\n9   0.088968                             (pastry)\n10  0.108998                    (root vegetables)\n11  0.077682                        (canned beer)\n12  0.093950                            (sausage)\n13  0.098526                      (shopping bags)\n14  0.071683                 (whipped/sour cream)\n15  0.057651                               (pork)\n16  0.030503           (whole milk, citrus fruit)\n17  0.056024                 (whole milk, yogurt)\n18  0.034367                 (rolls/buns, yogurt)\n19  0.043416           (other vegetables, yogurt)\n20  0.035892   (tropical fruit, other vegetables)\n21  0.042298         (tropical fruit, whole milk)\n22  0.074835       (whole milk, other vegetables)\n23  0.042603       (other vegetables, rolls/buns)\n24  0.056634             (whole milk, rolls/buns)\n25  0.034367          (whole milk, bottled water)\n26  0.038332                   (rolls/buns, soda)\n27  0.040061                   (whole milk, soda)\n28  0.032740             (other vegetables, soda)\n29  0.033249                 (whole milk, pastry)\n30  0.047382  (other vegetables, root vegetables)\n31  0.048907        (whole milk, root vegetables)\n32  0.030605                (rolls/buns, sausage)\n33  0.032232     (whole milk, whipped/sour cream)",
      "text/html": "<div>\n<style scoped>\n    .dataframe tbody tr th:only-of-type {\n        vertical-align: middle;\n    }\n\n    .dataframe tbody tr th {\n        vertical-align: top;\n    }\n\n    .dataframe thead th {\n        text-align: right;\n    }\n</style>\n<table border=\"1\" class=\"dataframe\">\n  <thead>\n    <tr style=\"text-align: right;\">\n      <th></th>\n      <th>support</th>\n      <th>itemsets</th>\n    </tr>\n  </thead>\n  <tbody>\n    <tr>\n      <th>0</th>\n      <td>0.082766</td>\n      <td>(citrus fruit)</td>\n    </tr>\n    <tr>\n      <th>1</th>\n      <td>0.139502</td>\n      <td>(yogurt)</td>\n    </tr>\n    <tr>\n      <th>2</th>\n      <td>0.104931</td>\n      <td>(tropical fruit)</td>\n    </tr>\n    <tr>\n      <th>3</th>\n      <td>0.255516</td>\n      <td>(whole milk)</td>\n    </tr>\n    <tr>\n      <th>4</th>\n      <td>0.193493</td>\n      <td>(other vegetables)</td>\n    </tr>\n    <tr>\n      <th>5</th>\n      <td>0.183935</td>\n      <td>(rolls/buns)</td>\n    </tr>\n    <tr>\n      <th>6</th>\n      <td>0.080529</td>\n      <td>(bottled beer)</td>\n    </tr>\n    <tr>\n      <th>7</th>\n      <td>0.110524</td>\n      <td>(bottled water)</td>\n    </tr>\n    <tr>\n      <th>8</th>\n      <td>0.174377</td>\n      <td>(soda)</td>\n    </tr>\n    <tr>\n      <th>9</th>\n      <td>0.088968</td>\n      <td>(pastry)</td>\n    </tr>\n    <tr>\n      <th>10</th>\n      <td>0.108998</td>\n      <td>(root vegetables)</td>\n    </tr>\n    <tr>\n      <th>11</th>\n      <td>0.077682</td>\n      <td>(canned beer)</td>\n    </tr>\n    <tr>\n      <th>12</th>\n      <td>0.093950</td>\n      <td>(sausage)</td>\n    </tr>\n    <tr>\n      <th>13</th>\n      <td>0.098526</td>\n      <td>(shopping bags)</td>\n    </tr>\n    <tr>\n      <th>14</th>\n      <td>0.071683</td>\n      <td>(whipped/sour cream)</td>\n    </tr>\n    <tr>\n      <th>15</th>\n      <td>0.057651</td>\n      <td>(pork)</td>\n    </tr>\n    <tr>\n      <th>16</th>\n      <td>0.030503</td>\n      <td>(whole milk, citrus fruit)</td>\n    </tr>\n    <tr>\n      <th>17</th>\n      <td>0.056024</td>\n      <td>(whole milk, yogurt)</td>\n    </tr>\n    <tr>\n      <th>18</th>\n      <td>0.034367</td>\n      <td>(rolls/buns, yogurt)</td>\n    </tr>\n    <tr>\n      <th>19</th>\n      <td>0.043416</td>\n      <td>(other vegetables, yogurt)</td>\n    </tr>\n    <tr>\n      <th>20</th>\n      <td>0.035892</td>\n      <td>(tropical fruit, other vegetables)</td>\n    </tr>\n    <tr>\n      <th>21</th>\n      <td>0.042298</td>\n      <td>(tropical fruit, whole milk)</td>\n    </tr>\n    <tr>\n      <th>22</th>\n      <td>0.074835</td>\n      <td>(whole milk, other vegetables)</td>\n    </tr>\n    <tr>\n      <th>23</th>\n      <td>0.042603</td>\n      <td>(other vegetables, rolls/buns)</td>\n    </tr>\n    <tr>\n      <th>24</th>\n      <td>0.056634</td>\n      <td>(whole milk, rolls/buns)</td>\n    </tr>\n    <tr>\n      <th>25</th>\n      <td>0.034367</td>\n      <td>(whole milk, bottled water)</td>\n    </tr>\n    <tr>\n      <th>26</th>\n      <td>0.038332</td>\n      <td>(rolls/buns, soda)</td>\n    </tr>\n    <tr>\n      <th>27</th>\n      <td>0.040061</td>\n      <td>(whole milk, soda)</td>\n    </tr>\n    <tr>\n      <th>28</th>\n      <td>0.032740</td>\n      <td>(other vegetables, soda)</td>\n    </tr>\n    <tr>\n      <th>29</th>\n      <td>0.033249</td>\n      <td>(whole milk, pastry)</td>\n    </tr>\n    <tr>\n      <th>30</th>\n      <td>0.047382</td>\n      <td>(other vegetables, root vegetables)</td>\n    </tr>\n    <tr>\n      <th>31</th>\n      <td>0.048907</td>\n      <td>(whole milk, root vegetables)</td>\n    </tr>\n    <tr>\n      <th>32</th>\n      <td>0.030605</td>\n      <td>(rolls/buns, sausage)</td>\n    </tr>\n    <tr>\n      <th>33</th>\n      <td>0.032232</td>\n      <td>(whole milk, whipped/sour cream)</td>\n    </tr>\n  </tbody>\n</table>\n</div>"
     },
     "execution_count": 254,
     "metadata": {},
     "output_type": "execute_result"
    }
   ],
   "source": [
    "items = ['whole milk', 'yogurt', 'soda', 'tropical fruit', 'shopping bags', 'sausage', 'whipped/sour cream', 'rolls/buns', 'other vegetables', 'root vegetables', 'pork', 'bottled water', 'pastry', 'citrus fruit', 'canned beer', 'bottled beer']\n",
    "np_data = all_data.to_numpy()\n",
    "np_data = [[elem for elem in row[1:] if isinstance(elem,str) and elem in items] for row in np_data]\n",
    "te = pp.TransactionEncoder()\n",
    "data = pd.DataFrame(te.fit_transform(np_data), columns=te.columns_)\n",
    "result = fp.fpgrowth(data, min_support=0.03, use_colnames=True)\n",
    "pd.DataFrame(result)"
   ],
   "metadata": {
    "collapsed": false,
    "pycharm": {
     "name": "#%% code\n"
    }
   }
  },
  {
   "cell_type": "code",
   "execution_count": 255,
   "outputs": [
    {
     "name": "stdout",
     "output_type": "stream",
     "text": [
      "Association rules number for support 1/100 and threshold 1/100: 330\n",
      "Association rules number for support 1/100 and threshold 2/100: 330\n",
      "Association rules number for support 1/100 and threshold 3/100: 330\n",
      "Association rules number for support 1/100 and threshold 4/100: 328\n",
      "Association rules number for support 1/100 and threshold 5/100: 320\n",
      "Association rules number for support 1/100 and threshold 6/100: 307\n",
      "Association rules number for support 1/100 and threshold 7/100: 292\n",
      "Association rules number for support 1/100 and threshold 8/100: 279\n",
      "Association rules number for support 1/100 and threshold 9/100: 272\n",
      "\n",
      "Association rules number for support 2/100 and threshold 1/100: 102\n",
      "Association rules number for support 2/100 and threshold 2/100: 102\n",
      "Association rules number for support 2/100 and threshold 3/100: 102\n",
      "Association rules number for support 2/100 and threshold 4/100: 102\n",
      "Association rules number for support 2/100 and threshold 5/100: 102\n",
      "Association rules number for support 2/100 and threshold 6/100: 102\n",
      "Association rules number for support 2/100 and threshold 7/100: 102\n",
      "Association rules number for support 2/100 and threshold 8/100: 101\n",
      "Association rules number for support 2/100 and threshold 9/100: 99\n",
      "\n",
      "Association rules number for support 3/100 and threshold 1/100: 36\n",
      "Association rules number for support 3/100 and threshold 2/100: 36\n",
      "Association rules number for support 3/100 and threshold 3/100: 36\n",
      "Association rules number for support 3/100 and threshold 4/100: 36\n",
      "Association rules number for support 3/100 and threshold 5/100: 36\n",
      "Association rules number for support 3/100 and threshold 6/100: 36\n",
      "Association rules number for support 3/100 and threshold 7/100: 36\n",
      "Association rules number for support 3/100 and threshold 8/100: 36\n",
      "Association rules number for support 3/100 and threshold 9/100: 36\n",
      "\n",
      "Association rules number for support 4/100 and threshold 1/100: 18\n",
      "Association rules number for support 4/100 and threshold 2/100: 18\n",
      "Association rules number for support 4/100 and threshold 3/100: 18\n",
      "Association rules number for support 4/100 and threshold 4/100: 18\n",
      "Association rules number for support 4/100 and threshold 5/100: 18\n",
      "Association rules number for support 4/100 and threshold 6/100: 18\n",
      "Association rules number for support 4/100 and threshold 7/100: 18\n",
      "Association rules number for support 4/100 and threshold 8/100: 18\n",
      "Association rules number for support 4/100 and threshold 9/100: 18\n",
      "\n",
      "Association rules number for support 5/100 and threshold 1/100: 6\n",
      "Association rules number for support 5/100 and threshold 2/100: 6\n",
      "Association rules number for support 5/100 and threshold 3/100: 6\n",
      "Association rules number for support 5/100 and threshold 4/100: 6\n",
      "Association rules number for support 5/100 and threshold 5/100: 6\n",
      "Association rules number for support 5/100 and threshold 6/100: 6\n",
      "Association rules number for support 5/100 and threshold 7/100: 6\n",
      "Association rules number for support 5/100 and threshold 8/100: 6\n",
      "Association rules number for support 5/100 and threshold 9/100: 6\n",
      "\n",
      "Association rules number for support 6/100 and threshold 1/100: 2\n",
      "Association rules number for support 6/100 and threshold 2/100: 2\n",
      "Association rules number for support 6/100 and threshold 3/100: 2\n",
      "Association rules number for support 6/100 and threshold 4/100: 2\n",
      "Association rules number for support 6/100 and threshold 5/100: 2\n",
      "Association rules number for support 6/100 and threshold 6/100: 2\n",
      "Association rules number for support 6/100 and threshold 7/100: 2\n",
      "Association rules number for support 6/100 and threshold 8/100: 2\n",
      "Association rules number for support 6/100 and threshold 9/100: 2\n",
      "\n",
      "Association rules number for support 7/100 and threshold 1/100: 2\n",
      "Association rules number for support 7/100 and threshold 2/100: 2\n",
      "Association rules number for support 7/100 and threshold 3/100: 2\n",
      "Association rules number for support 7/100 and threshold 4/100: 2\n",
      "Association rules number for support 7/100 and threshold 5/100: 2\n",
      "Association rules number for support 7/100 and threshold 6/100: 2\n",
      "Association rules number for support 7/100 and threshold 7/100: 2\n",
      "Association rules number for support 7/100 and threshold 8/100: 2\n",
      "Association rules number for support 7/100 and threshold 9/100: 2\n",
      "\n",
      "Association rules number for support 8/100 and threshold 1/100: 0\n",
      "Association rules number for support 8/100 and threshold 2/100: 0\n",
      "Association rules number for support 8/100 and threshold 3/100: 0\n",
      "Association rules number for support 8/100 and threshold 4/100: 0\n",
      "Association rules number for support 8/100 and threshold 5/100: 0\n",
      "Association rules number for support 8/100 and threshold 6/100: 0\n",
      "Association rules number for support 8/100 and threshold 7/100: 0\n",
      "Association rules number for support 8/100 and threshold 8/100: 0\n",
      "Association rules number for support 8/100 and threshold 9/100: 0\n",
      "\n",
      "Association rules number for support 9/100 and threshold 1/100: 0\n",
      "Association rules number for support 9/100 and threshold 2/100: 0\n",
      "Association rules number for support 9/100 and threshold 3/100: 0\n",
      "Association rules number for support 9/100 and threshold 4/100: 0\n",
      "Association rules number for support 9/100 and threshold 5/100: 0\n",
      "Association rules number for support 9/100 and threshold 6/100: 0\n",
      "Association rules number for support 9/100 and threshold 7/100: 0\n",
      "Association rules number for support 9/100 and threshold 8/100: 0\n",
      "Association rules number for support 9/100 and threshold 9/100: 0\n",
      "\n"
     ]
    }
   ],
   "source": [
    "# TODO: как построить график? Что значит \"кривые для набора товаров\"?\n",
    "for i in range(1, 10):\n",
    "    result = fp.fpgrowth(data, min_support=i / 100, use_colnames=True)\n",
    "    for j in range(1, 10):\n",
    "        print(f\"Association rules number for support {i}/100 and threshold {j}/100: {len(fp.association_rules(result, min_threshold=j / 100, metric='confidence'))}\")\n",
    "    print()"
   ],
   "metadata": {
    "collapsed": false,
    "pycharm": {
     "name": "#%% code\n"
    }
   }
  },
  {
   "cell_type": "markdown",
   "source": [
    "## Ассоциативные правила"
   ],
   "metadata": {
    "collapsed": false
   }
  },
  {
   "cell_type": "code",
   "execution_count": null,
   "outputs": [],
   "source": [],
   "metadata": {
    "collapsed": false,
    "pycharm": {
     "name": "#%% code\n"
    }
   }
  }
 ],
 "metadata": {
  "kernelspec": {
   "display_name": "Python 3",
   "language": "python",
   "name": "python3"
  },
  "language_info": {
   "codemirror_mode": {
    "name": "ipython",
    "version": 2
   },
   "file_extension": ".py",
   "mimetype": "text/x-python",
   "name": "python",
   "nbconvert_exporter": "python",
   "pygments_lexer": "ipython2",
   "version": "2.7.6"
  }
 },
 "nbformat": 4,
 "nbformat_minor": 0
}