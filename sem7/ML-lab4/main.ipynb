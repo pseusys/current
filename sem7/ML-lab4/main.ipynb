{
 "cells": [
  {
   "cell_type": "markdown",
   "source": [
    "# Лабораторная работа №4"
   ],
   "metadata": {
    "collapsed": false
   }
  },
  {
   "cell_type": "markdown",
   "source": [
    "### Используемые библиотеки"
   ],
   "metadata": {
    "collapsed": false
   }
  },
  {
   "cell_type": "code",
   "execution_count": 330,
   "outputs": [],
   "source": [
    "import pandas as pd\n",
    "from numpy import arange\n",
    "import networkx as nx\n",
    "import mlxtend.frequent_patterns as fp\n",
    "import mlxtend.preprocessing as pp\n",
    "from matplotlib import pyplot as plt"
   ],
   "metadata": {
    "collapsed": false,
    "pycharm": {
     "name": "#%% code\n"
    }
   }
  },
  {
   "cell_type": "markdown",
   "source": [
    "### Исходные данные:\n",
    "[`groceries - groceries.csv`](https://www.kaggle.com/irfanasrullah/groceries)"
   ],
   "metadata": {
    "collapsed": false
   }
  },
  {
   "cell_type": "markdown",
   "source": [
    "## Загрузка данных"
   ],
   "metadata": {
    "collapsed": false
   }
  },
  {
   "cell_type": "code",
   "execution_count": 240,
   "outputs": [
    {
     "name": "stdout",
     "output_type": "stream",
     "text": [
      "      Item(s)               Item 1               Item 2            Item 3  \\\n",
      "0           4         citrus fruit  semi-finished bread         margarine   \n",
      "1           3       tropical fruit               yogurt            coffee   \n",
      "2           1           whole milk                  NaN               NaN   \n",
      "3           4            pip fruit               yogurt      cream cheese   \n",
      "4           4     other vegetables           whole milk    condensed milk   \n",
      "...       ...                  ...                  ...               ...   \n",
      "9830       17              sausage              chicken              beef   \n",
      "9831        1    cooking chocolate                  NaN               NaN   \n",
      "9832       10              chicken         citrus fruit  other vegetables   \n",
      "9833        4  semi-finished bread        bottled water              soda   \n",
      "9834        5              chicken       tropical fruit  other vegetables   \n",
      "\n",
      "                        Item 4         Item 5          Item 6  \\\n",
      "0                  ready soups            NaN             NaN   \n",
      "1                          NaN            NaN             NaN   \n",
      "2                          NaN            NaN             NaN   \n",
      "3                 meat spreads            NaN             NaN   \n",
      "4     long life bakery product            NaN             NaN   \n",
      "...                        ...            ...             ...   \n",
      "9830            hamburger meat   citrus fruit          grapes   \n",
      "9831                       NaN            NaN             NaN   \n",
      "9832                    butter         yogurt  frozen dessert   \n",
      "9833              bottled beer            NaN             NaN   \n",
      "9834                   vinegar  shopping bags             NaN   \n",
      "\n",
      "               Item 7      Item 8  Item 9  ... Item 23 Item 24 Item 25  \\\n",
      "0                 NaN         NaN     NaN  ...     NaN     NaN     NaN   \n",
      "1                 NaN         NaN     NaN  ...     NaN     NaN     NaN   \n",
      "2                 NaN         NaN     NaN  ...     NaN     NaN     NaN   \n",
      "3                 NaN         NaN     NaN  ...     NaN     NaN     NaN   \n",
      "4                 NaN         NaN     NaN  ...     NaN     NaN     NaN   \n",
      "...               ...         ...     ...  ...     ...     ...     ...   \n",
      "9830  root vegetables  whole milk  butter  ...     NaN     NaN     NaN   \n",
      "9831              NaN         NaN     NaN  ...     NaN     NaN     NaN   \n",
      "9832    domestic eggs  rolls/buns     rum  ...     NaN     NaN     NaN   \n",
      "9833              NaN         NaN     NaN  ...     NaN     NaN     NaN   \n",
      "9834              NaN         NaN     NaN  ...     NaN     NaN     NaN   \n",
      "\n",
      "     Item 26 Item 27 Item 28 Item 29 Item 30 Item 31 Item 32  \n",
      "0        NaN     NaN     NaN     NaN     NaN     NaN     NaN  \n",
      "1        NaN     NaN     NaN     NaN     NaN     NaN     NaN  \n",
      "2        NaN     NaN     NaN     NaN     NaN     NaN     NaN  \n",
      "3        NaN     NaN     NaN     NaN     NaN     NaN     NaN  \n",
      "4        NaN     NaN     NaN     NaN     NaN     NaN     NaN  \n",
      "...      ...     ...     ...     ...     ...     ...     ...  \n",
      "9830     NaN     NaN     NaN     NaN     NaN     NaN     NaN  \n",
      "9831     NaN     NaN     NaN     NaN     NaN     NaN     NaN  \n",
      "9832     NaN     NaN     NaN     NaN     NaN     NaN     NaN  \n",
      "9833     NaN     NaN     NaN     NaN     NaN     NaN     NaN  \n",
      "9834     NaN     NaN     NaN     NaN     NaN     NaN     NaN  \n",
      "\n",
      "[9835 rows x 33 columns]\n"
     ]
    }
   ],
   "source": [
    "all_data = pd.read_csv('groceries - groceries.csv')\n",
    "print(all_data)"
   ],
   "metadata": {
    "collapsed": false,
    "pycharm": {
     "name": "#%% code\n"
    }
   }
  },
  {
   "cell_type": "code",
   "execution_count": 241,
   "outputs": [],
   "source": [
    "np_data = all_data.to_numpy()\n",
    "np_data = [[elem for elem in row[1:] if isinstance(elem,str)] for row in np_data]"
   ],
   "metadata": {
    "collapsed": false,
    "pycharm": {
     "name": "#%% code\n"
    }
   }
  },
  {
   "cell_type": "code",
   "execution_count": 242,
   "outputs": [
    {
     "name": "stdout",
     "output_type": "stream",
     "text": [
      "Уникальные товары: {'dish cleaner', 'tropical fruit', 'bags', 'salad dressing', 'cake bar', 'nut snack', 'oil', 'kitchen towels', 'sparkling wine', 'liquor', 'decalcifier', 'cream', 'other vegetables', 'Instant food products', 'organic sausage', 'preservation products', 'chewing gum', 'waffles', 'popcorn', 'cling film/bags', 'meat', 'light bulbs', 'softener', 'photo/film', 'beef', 'rubbing alcohol', 'brown bread', 'sauces', 'seasonal products', 'dishes', 'canned vegetables', 'cleaner', 'newspapers', 'cooking chocolate', 'baking powder', 'jam', 'toilet cleaner', 'frozen fish', 'misc. beverages', 'baby cosmetics', 'abrasive cleaner', 'hygiene articles', 'flower soil/fertilizer', 'dental care', 'salt', 'candy', 'candles', 'turkey', 'butter milk', 'beverages', 'pudding powder', 'house keeping products', 'rum', 'frozen vegetables', 'meat spreads', 'tidbits', 'frozen fruits', 'frankfurter', 'cat food', 'condensed milk', 'pasta', 'white bread', 'fruit/vegetable juice', 'curd', 'onions', 'mayonnaise', 'rice', 'specialty fat', 'hair spray', 'liqueur', 'dessert', 'whole milk', 'nuts/prunes', 'root vegetables', 'bottled water', 'skin care', 'detergent', 'semi-finished bread', 'snack products', 'hamburger meat', 'pip fruit', 'packaged fruit/vegetables', 'pork', 'flower (seeds)', 'chocolate', 'frozen meals', 'white wine', 'sweet spreads', 'ham', 'specialty chocolate', 'cream cheese', 'fish', 'spices', 'frozen chicken', 'cocoa drinks', 'canned fruit', 'make up remover', 'potted plants', 'coffee', 'artif. sweetener', 'cookware', 'chocolate marshmallow', 'zwieback', 'spread cheese', 'baby food', 'hard cheese', 'rolls/buns', 'mustard', 'specialty bar', 'specialty vegetables', 'prosecco', 'ice cream', 'citrus fruit', 'chicken', 'whipped/sour cream', 'UHT-milk', 'soft cheese', 'whisky', 'specialty cheese', 'bottled beer', 'cereals', 'grapes', 'sliced cheese', 'sound storage medium', 'ketchup', 'frozen dessert', 'liver loaf', 'pastry', 'vinegar', 'canned beer', 'yogurt', 'canned fish', 'pet care', 'red/blush wine', 'finished products', 'butter', 'dog food', 'tea', 'brandy', 'kitchen utensil', 'organic products', 'margarine', 'napkins', 'ready soups', 'long life bakery product', 'soda', 'berries', 'roll products', 'instant coffee', 'salty snack', 'herbs', 'female sanitary products', 'sugar', 'curd cheese', 'pickled vegetables', 'honey', 'bathroom cleaner', 'shopping bags', 'domestic eggs', 'processed cheese', 'flour', 'potato products', 'soups', 'sausage', 'male cosmetics', 'soap', 'liquor (appetizer)', 'frozen potato products', 'syrup'}\n",
      "Всего: 169\n"
     ]
    }
   ],
   "source": [
    "unique_items = set([elem for row in np_data for elem in row])\n",
    "print(f\"Уникальные товары: {unique_items}\")\n",
    "print(f\"Всего: {len(unique_items)}\")"
   ],
   "metadata": {
    "collapsed": false,
    "pycharm": {
     "name": "#%% code\n"
    }
   }
  },
  {
   "cell_type": "markdown",
   "source": [
    "## FPGrowth и FPMax"
   ],
   "metadata": {
    "collapsed": false
   }
  },
  {
   "cell_type": "code",
   "execution_count": 243,
   "outputs": [],
   "source": [
    "te = pp.TransactionEncoder()\n",
    "data = pd.DataFrame(te.fit_transform(np_data), columns=te.columns_)"
   ],
   "metadata": {
    "collapsed": false,
    "pycharm": {
     "name": "#%% code\n"
    }
   }
  },
  {
   "cell_type": "code",
   "execution_count": 244,
   "outputs": [
    {
     "data": {
      "text/plain": "     support                             itemsets\n0   0.082766                       (citrus fruit)\n1   0.058566                          (margarine)\n2   0.139502                             (yogurt)\n3   0.104931                     (tropical fruit)\n4   0.058058                             (coffee)\n..       ...                                  ...\n58  0.033249                 (whole milk, pastry)\n59  0.047382  (root vegetables, other vegetables)\n60  0.048907        (root vegetables, whole milk)\n61  0.030605                (sausage, rolls/buns)\n62  0.032232     (whipped/sour cream, whole milk)\n\n[63 rows x 2 columns]",
      "text/html": "<div>\n<style scoped>\n    .dataframe tbody tr th:only-of-type {\n        vertical-align: middle;\n    }\n\n    .dataframe tbody tr th {\n        vertical-align: top;\n    }\n\n    .dataframe thead th {\n        text-align: right;\n    }\n</style>\n<table border=\"1\" class=\"dataframe\">\n  <thead>\n    <tr style=\"text-align: right;\">\n      <th></th>\n      <th>support</th>\n      <th>itemsets</th>\n    </tr>\n  </thead>\n  <tbody>\n    <tr>\n      <th>0</th>\n      <td>0.082766</td>\n      <td>(citrus fruit)</td>\n    </tr>\n    <tr>\n      <th>1</th>\n      <td>0.058566</td>\n      <td>(margarine)</td>\n    </tr>\n    <tr>\n      <th>2</th>\n      <td>0.139502</td>\n      <td>(yogurt)</td>\n    </tr>\n    <tr>\n      <th>3</th>\n      <td>0.104931</td>\n      <td>(tropical fruit)</td>\n    </tr>\n    <tr>\n      <th>4</th>\n      <td>0.058058</td>\n      <td>(coffee)</td>\n    </tr>\n    <tr>\n      <th>...</th>\n      <td>...</td>\n      <td>...</td>\n    </tr>\n    <tr>\n      <th>58</th>\n      <td>0.033249</td>\n      <td>(whole milk, pastry)</td>\n    </tr>\n    <tr>\n      <th>59</th>\n      <td>0.047382</td>\n      <td>(root vegetables, other vegetables)</td>\n    </tr>\n    <tr>\n      <th>60</th>\n      <td>0.048907</td>\n      <td>(root vegetables, whole milk)</td>\n    </tr>\n    <tr>\n      <th>61</th>\n      <td>0.030605</td>\n      <td>(sausage, rolls/buns)</td>\n    </tr>\n    <tr>\n      <th>62</th>\n      <td>0.032232</td>\n      <td>(whipped/sour cream, whole milk)</td>\n    </tr>\n  </tbody>\n</table>\n<p>63 rows × 2 columns</p>\n</div>"
     },
     "execution_count": 244,
     "metadata": {},
     "output_type": "execute_result"
    }
   ],
   "source": [
    "result = fp.fpgrowth(data, min_support=0.03, use_colnames=True)\n",
    "pd.DataFrame(result)"
   ],
   "metadata": {
    "collapsed": false,
    "pycharm": {
     "name": "#%% code\n"
    }
   }
  },
  {
   "cell_type": "code",
   "execution_count": 245,
   "outputs": [
    {
     "name": "stdout",
     "output_type": "stream",
     "text": [
      "Для набора из 1 элементов:\n",
      "        максимальное значение - 0.25551601423487547 ['whole milk']\n",
      "        минимальное - 0.03040162684290798 ['specialty chocolate']\n",
      "    \n",
      "Для набора из 2 элементов:\n",
      "        максимальное значение - 0.07483477376715811 ['whole milk', 'other vegetables']\n",
      "        минимальное - 0.030096593797661414 ['pip fruit', 'whole milk']\n",
      "    \n"
     ]
    }
   ],
   "source": [
    "for i in range(1, max(list(map(lambda s: len(s), pd.DataFrame(result)['itemsets'].values))) + 1):\n",
    "    res = result[result['itemsets'].apply(lambda x: len(x)) == i]\n",
    "    mm = (max(res.values, key=lambda x: x[0]), min(res.values, key=lambda x: x[0]))\n",
    "    print(f\"\"\"Для набора из {i} элементов:\n",
    "        максимальное значение - {mm[0][0]} {list(mm[0][1])}\n",
    "        минимальное - {mm[1][0]} {list(mm[1][1])}\n",
    "    \"\"\")"
   ],
   "metadata": {
    "collapsed": false,
    "pycharm": {
     "name": "#%% code\n"
    }
   }
  },
  {
   "cell_type": "code",
   "execution_count": 246,
   "outputs": [
    {
     "data": {
      "text/plain": "     support                             itemsets\n0   0.030402                (specialty chocolate)\n1   0.031012                             (onions)\n2   0.032944                   (hygiene articles)\n3   0.033249                            (berries)\n4   0.033249                     (hamburger meat)\n5   0.033452                           (UHT-milk)\n6   0.033859                              (sugar)\n7   0.037112                            (dessert)\n8   0.037417           (long life bakery product)\n9   0.037824                        (salty snack)\n10  0.038434                            (waffles)\n11  0.039654                       (cream cheese)\n12  0.042095                        (white bread)\n13  0.042908                            (chicken)\n14  0.048094                  (frozen vegetables)\n15  0.049619                          (chocolate)\n16  0.052364                            (napkins)\n17  0.052466                               (beef)\n18  0.053279                               (curd)\n19  0.055414                             (butter)\n20  0.057651                               (pork)\n21  0.058058                             (coffee)\n22  0.058566                          (margarine)\n23  0.058973                        (frankfurter)\n24  0.063447                      (domestic eggs)\n25  0.064870                        (brown bread)\n26  0.032232     (whipped/sour cream, whole milk)\n27  0.072293              (fruit/vegetable juice)\n28  0.030097              (whole milk, pip fruit)\n29  0.077682                        (canned beer)\n30  0.079817                         (newspapers)\n31  0.080529                       (bottled beer)\n32  0.030503           (whole milk, citrus fruit)\n33  0.033249                 (whole milk, pastry)\n34  0.030605                (sausage, rolls/buns)\n35  0.098526                      (shopping bags)\n36  0.035892   (other vegetables, tropical fruit)\n37  0.042298         (whole milk, tropical fruit)\n38  0.047382  (root vegetables, other vegetables)\n39  0.048907        (root vegetables, whole milk)\n40  0.034367          (bottled water, whole milk)\n41  0.034367                 (yogurt, rolls/buns)\n42  0.043416           (yogurt, other vegetables)\n43  0.056024                 (whole milk, yogurt)\n44  0.032740             (soda, other vegetables)\n45  0.038332                   (soda, rolls/buns)\n46  0.040061                   (soda, whole milk)\n47  0.042603       (other vegetables, rolls/buns)\n48  0.056634             (whole milk, rolls/buns)\n49  0.074835       (whole milk, other vegetables)",
      "text/html": "<div>\n<style scoped>\n    .dataframe tbody tr th:only-of-type {\n        vertical-align: middle;\n    }\n\n    .dataframe tbody tr th {\n        vertical-align: top;\n    }\n\n    .dataframe thead th {\n        text-align: right;\n    }\n</style>\n<table border=\"1\" class=\"dataframe\">\n  <thead>\n    <tr style=\"text-align: right;\">\n      <th></th>\n      <th>support</th>\n      <th>itemsets</th>\n    </tr>\n  </thead>\n  <tbody>\n    <tr>\n      <th>0</th>\n      <td>0.030402</td>\n      <td>(specialty chocolate)</td>\n    </tr>\n    <tr>\n      <th>1</th>\n      <td>0.031012</td>\n      <td>(onions)</td>\n    </tr>\n    <tr>\n      <th>2</th>\n      <td>0.032944</td>\n      <td>(hygiene articles)</td>\n    </tr>\n    <tr>\n      <th>3</th>\n      <td>0.033249</td>\n      <td>(berries)</td>\n    </tr>\n    <tr>\n      <th>4</th>\n      <td>0.033249</td>\n      <td>(hamburger meat)</td>\n    </tr>\n    <tr>\n      <th>5</th>\n      <td>0.033452</td>\n      <td>(UHT-milk)</td>\n    </tr>\n    <tr>\n      <th>6</th>\n      <td>0.033859</td>\n      <td>(sugar)</td>\n    </tr>\n    <tr>\n      <th>7</th>\n      <td>0.037112</td>\n      <td>(dessert)</td>\n    </tr>\n    <tr>\n      <th>8</th>\n      <td>0.037417</td>\n      <td>(long life bakery product)</td>\n    </tr>\n    <tr>\n      <th>9</th>\n      <td>0.037824</td>\n      <td>(salty snack)</td>\n    </tr>\n    <tr>\n      <th>10</th>\n      <td>0.038434</td>\n      <td>(waffles)</td>\n    </tr>\n    <tr>\n      <th>11</th>\n      <td>0.039654</td>\n      <td>(cream cheese)</td>\n    </tr>\n    <tr>\n      <th>12</th>\n      <td>0.042095</td>\n      <td>(white bread)</td>\n    </tr>\n    <tr>\n      <th>13</th>\n      <td>0.042908</td>\n      <td>(chicken)</td>\n    </tr>\n    <tr>\n      <th>14</th>\n      <td>0.048094</td>\n      <td>(frozen vegetables)</td>\n    </tr>\n    <tr>\n      <th>15</th>\n      <td>0.049619</td>\n      <td>(chocolate)</td>\n    </tr>\n    <tr>\n      <th>16</th>\n      <td>0.052364</td>\n      <td>(napkins)</td>\n    </tr>\n    <tr>\n      <th>17</th>\n      <td>0.052466</td>\n      <td>(beef)</td>\n    </tr>\n    <tr>\n      <th>18</th>\n      <td>0.053279</td>\n      <td>(curd)</td>\n    </tr>\n    <tr>\n      <th>19</th>\n      <td>0.055414</td>\n      <td>(butter)</td>\n    </tr>\n    <tr>\n      <th>20</th>\n      <td>0.057651</td>\n      <td>(pork)</td>\n    </tr>\n    <tr>\n      <th>21</th>\n      <td>0.058058</td>\n      <td>(coffee)</td>\n    </tr>\n    <tr>\n      <th>22</th>\n      <td>0.058566</td>\n      <td>(margarine)</td>\n    </tr>\n    <tr>\n      <th>23</th>\n      <td>0.058973</td>\n      <td>(frankfurter)</td>\n    </tr>\n    <tr>\n      <th>24</th>\n      <td>0.063447</td>\n      <td>(domestic eggs)</td>\n    </tr>\n    <tr>\n      <th>25</th>\n      <td>0.064870</td>\n      <td>(brown bread)</td>\n    </tr>\n    <tr>\n      <th>26</th>\n      <td>0.032232</td>\n      <td>(whipped/sour cream, whole milk)</td>\n    </tr>\n    <tr>\n      <th>27</th>\n      <td>0.072293</td>\n      <td>(fruit/vegetable juice)</td>\n    </tr>\n    <tr>\n      <th>28</th>\n      <td>0.030097</td>\n      <td>(whole milk, pip fruit)</td>\n    </tr>\n    <tr>\n      <th>29</th>\n      <td>0.077682</td>\n      <td>(canned beer)</td>\n    </tr>\n    <tr>\n      <th>30</th>\n      <td>0.079817</td>\n      <td>(newspapers)</td>\n    </tr>\n    <tr>\n      <th>31</th>\n      <td>0.080529</td>\n      <td>(bottled beer)</td>\n    </tr>\n    <tr>\n      <th>32</th>\n      <td>0.030503</td>\n      <td>(whole milk, citrus fruit)</td>\n    </tr>\n    <tr>\n      <th>33</th>\n      <td>0.033249</td>\n      <td>(whole milk, pastry)</td>\n    </tr>\n    <tr>\n      <th>34</th>\n      <td>0.030605</td>\n      <td>(sausage, rolls/buns)</td>\n    </tr>\n    <tr>\n      <th>35</th>\n      <td>0.098526</td>\n      <td>(shopping bags)</td>\n    </tr>\n    <tr>\n      <th>36</th>\n      <td>0.035892</td>\n      <td>(other vegetables, tropical fruit)</td>\n    </tr>\n    <tr>\n      <th>37</th>\n      <td>0.042298</td>\n      <td>(whole milk, tropical fruit)</td>\n    </tr>\n    <tr>\n      <th>38</th>\n      <td>0.047382</td>\n      <td>(root vegetables, other vegetables)</td>\n    </tr>\n    <tr>\n      <th>39</th>\n      <td>0.048907</td>\n      <td>(root vegetables, whole milk)</td>\n    </tr>\n    <tr>\n      <th>40</th>\n      <td>0.034367</td>\n      <td>(bottled water, whole milk)</td>\n    </tr>\n    <tr>\n      <th>41</th>\n      <td>0.034367</td>\n      <td>(yogurt, rolls/buns)</td>\n    </tr>\n    <tr>\n      <th>42</th>\n      <td>0.043416</td>\n      <td>(yogurt, other vegetables)</td>\n    </tr>\n    <tr>\n      <th>43</th>\n      <td>0.056024</td>\n      <td>(whole milk, yogurt)</td>\n    </tr>\n    <tr>\n      <th>44</th>\n      <td>0.032740</td>\n      <td>(soda, other vegetables)</td>\n    </tr>\n    <tr>\n      <th>45</th>\n      <td>0.038332</td>\n      <td>(soda, rolls/buns)</td>\n    </tr>\n    <tr>\n      <th>46</th>\n      <td>0.040061</td>\n      <td>(soda, whole milk)</td>\n    </tr>\n    <tr>\n      <th>47</th>\n      <td>0.042603</td>\n      <td>(other vegetables, rolls/buns)</td>\n    </tr>\n    <tr>\n      <th>48</th>\n      <td>0.056634</td>\n      <td>(whole milk, rolls/buns)</td>\n    </tr>\n    <tr>\n      <th>49</th>\n      <td>0.074835</td>\n      <td>(whole milk, other vegetables)</td>\n    </tr>\n  </tbody>\n</table>\n</div>"
     },
     "execution_count": 246,
     "metadata": {},
     "output_type": "execute_result"
    }
   ],
   "source": [
    "result = fp.fpmax(data, min_support=0.03, use_colnames=True)\n",
    "pd.DataFrame(result)"
   ],
   "metadata": {
    "collapsed": false,
    "pycharm": {
     "name": "#%% code\n"
    }
   }
  },
  {
   "cell_type": "code",
   "execution_count": 247,
   "outputs": [
    {
     "name": "stdout",
     "output_type": "stream",
     "text": [
      "Для набора из 1 элементов:\n",
      "        максимальное значение - 0.09852567361464158 ['shopping bags']\n",
      "        минимальное - 0.03040162684290798 ['specialty chocolate']\n",
      "    \n",
      "Для набора из 2 элементов:\n",
      "        максимальное значение - 0.07483477376715811 ['whole milk', 'other vegetables']\n",
      "        минимальное - 0.030096593797661414 ['whole milk', 'pip fruit']\n",
      "    \n"
     ]
    }
   ],
   "source": [
    "for i in range(1, max(list(map(lambda s: len(s), pd.DataFrame(result)['itemsets'].values))) + 1):\n",
    "    res = result[result['itemsets'].apply(lambda x: len(x)) == i]\n",
    "    mm = (max(res.values, key=lambda x: x[0]), min(res.values, key=lambda x: x[0]))\n",
    "    print(f\"\"\"Для набора из {i} элементов:\n",
    "        максимальное значение - {mm[0][0]} {list(mm[0][1])}\n",
    "        минимальное - {mm[1][0]} {list(mm[1][1])}\n",
    "    \"\"\")"
   ],
   "metadata": {
    "collapsed": false,
    "pycharm": {
     "name": "#%% code\n"
    }
   }
  },
  {
   "cell_type": "code",
   "execution_count": 248,
   "outputs": [
    {
     "data": {
      "text/plain": "<Figure size 432x288 with 1 Axes>",
      "image/png": "[encoded data removed]"
     },
     "metadata": {
      "needs_background": "light"
     },
     "output_type": "display_data"
    }
   ],
   "source": [
    "frequent = list(map(lambda item: sum(sum(1 for it in st if it == item) for st in np_data), unique_items))\n",
    "labeled = sorted(zip(unique_items, frequent), key=lambda x: x[1], reverse=True)[:10]\n",
    "\n",
    "axis = plt.gca()\n",
    "axis.hist(range(0, len(labeled)), weights=list(map(lambda x: x[1], labeled)), bins=10)\n",
    "axis.set_title(\"10 most frequent goods\")\n",
    "axis.set_xlabel(\"goods\")\n",
    "axis.set_ylabel(\"frequency\")\n",
    "axis.set_xticks(range(0, len(labeled)))\n",
    "axis.set_xticklabels(list(map(lambda x: x[0], labeled)))\n",
    "plt.show()"
   ],
   "metadata": {
    "collapsed": false,
    "pycharm": {
     "name": "#%% code\n"
    }
   }
  },
  {
   "cell_type": "code",
   "execution_count": 249,
   "outputs": [],
   "source": [
    "items = ['whole milk', 'yogurt', 'soda', 'tropical fruit', 'shopping bags', 'sausage', 'whipped/sour cream', 'rolls/buns', 'other vegetables', 'root vegetables', 'pork', 'bottled water', 'pastry', 'citrus fruit', 'canned beer', 'bottled beer']\n",
    "np_data = all_data.to_numpy()\n",
    "np_data = [[elem for elem in row[1:] if isinstance(elem,str) and elem in items] for row in np_data]\n",
    "\n",
    "te = pp.TransactionEncoder()\n",
    "data = pd.DataFrame(te.fit_transform(np_data), columns=te.columns_)"
   ],
   "metadata": {
    "collapsed": false,
    "pycharm": {
     "name": "#%% code\n"
    }
   }
  },
  {
   "cell_type": "code",
   "execution_count": 250,
   "outputs": [
    {
     "data": {
      "text/plain": "     support                             itemsets\n0   0.057651                               (pork)\n1   0.032232     (whipped/sour cream, whole milk)\n2   0.077682                        (canned beer)\n3   0.080529                       (bottled beer)\n4   0.030503           (whole milk, citrus fruit)\n5   0.033249                 (whole milk, pastry)\n6   0.030605                (sausage, rolls/buns)\n7   0.098526                      (shopping bags)\n8   0.035892   (other vegetables, tropical fruit)\n9   0.042298         (whole milk, tropical fruit)\n10  0.047382  (root vegetables, other vegetables)\n11  0.048907        (root vegetables, whole milk)\n12  0.034367          (bottled water, whole milk)\n13  0.034367                 (yogurt, rolls/buns)\n14  0.043416           (yogurt, other vegetables)\n15  0.056024                 (whole milk, yogurt)\n16  0.032740             (soda, other vegetables)\n17  0.038332                   (soda, rolls/buns)\n18  0.040061                   (soda, whole milk)\n19  0.042603       (other vegetables, rolls/buns)\n20  0.056634             (whole milk, rolls/buns)\n21  0.074835       (whole milk, other vegetables)",
      "text/html": "<div>\n<style scoped>\n    .dataframe tbody tr th:only-of-type {\n        vertical-align: middle;\n    }\n\n    .dataframe tbody tr th {\n        vertical-align: top;\n    }\n\n    .dataframe thead th {\n        text-align: right;\n    }\n</style>\n<table border=\"1\" class=\"dataframe\">\n  <thead>\n    <tr style=\"text-align: right;\">\n      <th></th>\n      <th>support</th>\n      <th>itemsets</th>\n    </tr>\n  </thead>\n  <tbody>\n    <tr>\n      <th>0</th>\n      <td>0.057651</td>\n      <td>(pork)</td>\n    </tr>\n    <tr>\n      <th>1</th>\n      <td>0.032232</td>\n      <td>(whipped/sour cream, whole milk)</td>\n    </tr>\n    <tr>\n      <th>2</th>\n      <td>0.077682</td>\n      <td>(canned beer)</td>\n    </tr>\n    <tr>\n      <th>3</th>\n      <td>0.080529</td>\n      <td>(bottled beer)</td>\n    </tr>\n    <tr>\n      <th>4</th>\n      <td>0.030503</td>\n      <td>(whole milk, citrus fruit)</td>\n    </tr>\n    <tr>\n      <th>5</th>\n      <td>0.033249</td>\n      <td>(whole milk, pastry)</td>\n    </tr>\n    <tr>\n      <th>6</th>\n      <td>0.030605</td>\n      <td>(sausage, rolls/buns)</td>\n    </tr>\n    <tr>\n      <th>7</th>\n      <td>0.098526</td>\n      <td>(shopping bags)</td>\n    </tr>\n    <tr>\n      <th>8</th>\n      <td>0.035892</td>\n      <td>(other vegetables, tropical fruit)</td>\n    </tr>\n    <tr>\n      <th>9</th>\n      <td>0.042298</td>\n      <td>(whole milk, tropical fruit)</td>\n    </tr>\n    <tr>\n      <th>10</th>\n      <td>0.047382</td>\n      <td>(root vegetables, other vegetables)</td>\n    </tr>\n    <tr>\n      <th>11</th>\n      <td>0.048907</td>\n      <td>(root vegetables, whole milk)</td>\n    </tr>\n    <tr>\n      <th>12</th>\n      <td>0.034367</td>\n      <td>(bottled water, whole milk)</td>\n    </tr>\n    <tr>\n      <th>13</th>\n      <td>0.034367</td>\n      <td>(yogurt, rolls/buns)</td>\n    </tr>\n    <tr>\n      <th>14</th>\n      <td>0.043416</td>\n      <td>(yogurt, other vegetables)</td>\n    </tr>\n    <tr>\n      <th>15</th>\n      <td>0.056024</td>\n      <td>(whole milk, yogurt)</td>\n    </tr>\n    <tr>\n      <th>16</th>\n      <td>0.032740</td>\n      <td>(soda, other vegetables)</td>\n    </tr>\n    <tr>\n      <th>17</th>\n      <td>0.038332</td>\n      <td>(soda, rolls/buns)</td>\n    </tr>\n    <tr>\n      <th>18</th>\n      <td>0.040061</td>\n      <td>(soda, whole milk)</td>\n    </tr>\n    <tr>\n      <th>19</th>\n      <td>0.042603</td>\n      <td>(other vegetables, rolls/buns)</td>\n    </tr>\n    <tr>\n      <th>20</th>\n      <td>0.056634</td>\n      <td>(whole milk, rolls/buns)</td>\n    </tr>\n    <tr>\n      <th>21</th>\n      <td>0.074835</td>\n      <td>(whole milk, other vegetables)</td>\n    </tr>\n  </tbody>\n</table>\n</div>"
     },
     "execution_count": 250,
     "metadata": {},
     "output_type": "execute_result"
    }
   ],
   "source": [
    "result = fp.fpmax(data, min_support=0.03, use_colnames=True)\n",
    "pd.DataFrame(result)"
   ],
   "metadata": {
    "collapsed": false,
    "pycharm": {
     "name": "#%% code\n"
    }
   }
  },
  {
   "cell_type": "code",
   "execution_count": 251,
   "outputs": [
    {
     "name": "stdout",
     "output_type": "stream",
     "text": [
      "Для набора из 1 элементов:\n",
      "        максимальное значение - 0.09852567361464158 ['shopping bags']\n",
      "        минимальное - 0.05765124555160142 ['pork']\n",
      "    \n",
      "Для набора из 2 элементов:\n",
      "        максимальное значение - 0.07483477376715811 ['whole milk', 'other vegetables']\n",
      "        минимальное - 0.030503304524656837 ['whole milk', 'citrus fruit']\n",
      "    \n"
     ]
    }
   ],
   "source": [
    "for i in range(1, max(list(map(lambda s: len(s), pd.DataFrame(result)['itemsets'].values))) + 1):\n",
    "    res = result[result['itemsets'].apply(lambda x: len(x)) == i]\n",
    "    mm = (max(res.values, key=lambda x: x[0]), min(res.values, key=lambda x: x[0]))\n",
    "    print(f\"\"\"Для набора из {i} элементов:\n",
    "        максимальное значение - {mm[0][0]} {list(mm[0][1])}\n",
    "        минимальное - {mm[1][0]} {list(mm[1][1])}\n",
    "    \"\"\")"
   ],
   "metadata": {
    "collapsed": false,
    "pycharm": {
     "name": "#%% code\n"
    }
   }
  },
  {
   "cell_type": "code",
   "execution_count": 252,
   "outputs": [
    {
     "data": {
      "text/plain": "     support                             itemsets\n0   0.082766                       (citrus fruit)\n1   0.139502                             (yogurt)\n2   0.104931                     (tropical fruit)\n3   0.255516                         (whole milk)\n4   0.193493                   (other vegetables)\n5   0.183935                         (rolls/buns)\n6   0.080529                       (bottled beer)\n7   0.110524                      (bottled water)\n8   0.174377                               (soda)\n9   0.088968                             (pastry)\n10  0.108998                    (root vegetables)\n11  0.077682                        (canned beer)\n12  0.093950                            (sausage)\n13  0.098526                      (shopping bags)\n14  0.071683                 (whipped/sour cream)\n15  0.057651                               (pork)\n16  0.030503           (whole milk, citrus fruit)\n17  0.056024                 (whole milk, yogurt)\n18  0.034367                 (yogurt, rolls/buns)\n19  0.043416           (yogurt, other vegetables)\n20  0.035892   (other vegetables, tropical fruit)\n21  0.042298         (whole milk, tropical fruit)\n22  0.074835       (whole milk, other vegetables)\n23  0.042603       (other vegetables, rolls/buns)\n24  0.056634             (whole milk, rolls/buns)\n25  0.034367          (bottled water, whole milk)\n26  0.038332                   (soda, rolls/buns)\n27  0.040061                   (soda, whole milk)\n28  0.032740             (soda, other vegetables)\n29  0.033249                 (whole milk, pastry)\n30  0.047382  (root vegetables, other vegetables)\n31  0.048907        (root vegetables, whole milk)\n32  0.030605                (sausage, rolls/buns)\n33  0.032232     (whipped/sour cream, whole milk)",
      "text/html": "<div>\n<style scoped>\n    .dataframe tbody tr th:only-of-type {\n        vertical-align: middle;\n    }\n\n    .dataframe tbody tr th {\n        vertical-align: top;\n    }\n\n    .dataframe thead th {\n        text-align: right;\n    }\n</style>\n<table border=\"1\" class=\"dataframe\">\n  <thead>\n    <tr style=\"text-align: right;\">\n      <th></th>\n      <th>support</th>\n      <th>itemsets</th>\n    </tr>\n  </thead>\n  <tbody>\n    <tr>\n      <th>0</th>\n      <td>0.082766</td>\n      <td>(citrus fruit)</td>\n    </tr>\n    <tr>\n      <th>1</th>\n      <td>0.139502</td>\n      <td>(yogurt)</td>\n    </tr>\n    <tr>\n      <th>2</th>\n      <td>0.104931</td>\n      <td>(tropical fruit)</td>\n    </tr>\n    <tr>\n      <th>3</th>\n      <td>0.255516</td>\n      <td>(whole milk)</td>\n    </tr>\n    <tr>\n      <th>4</th>\n      <td>0.193493</td>\n      <td>(other vegetables)</td>\n    </tr>\n    <tr>\n      <th>5</th>\n      <td>0.183935</td>\n      <td>(rolls/buns)</td>\n    </tr>\n    <tr>\n      <th>6</th>\n      <td>0.080529</td>\n      <td>(bottled beer)</td>\n    </tr>\n    <tr>\n      <th>7</th>\n      <td>0.110524</td>\n      <td>(bottled water)</td>\n    </tr>\n    <tr>\n      <th>8</th>\n      <td>0.174377</td>\n      <td>(soda)</td>\n    </tr>\n    <tr>\n      <th>9</th>\n      <td>0.088968</td>\n      <td>(pastry)</td>\n    </tr>\n    <tr>\n      <th>10</th>\n      <td>0.108998</td>\n      <td>(root vegetables)</td>\n    </tr>\n    <tr>\n      <th>11</th>\n      <td>0.077682</td>\n      <td>(canned beer)</td>\n    </tr>\n    <tr>\n      <th>12</th>\n      <td>0.093950</td>\n      <td>(sausage)</td>\n    </tr>\n    <tr>\n      <th>13</th>\n      <td>0.098526</td>\n      <td>(shopping bags)</td>\n    </tr>\n    <tr>\n      <th>14</th>\n      <td>0.071683</td>\n      <td>(whipped/sour cream)</td>\n    </tr>\n    <tr>\n      <th>15</th>\n      <td>0.057651</td>\n      <td>(pork)</td>\n    </tr>\n    <tr>\n      <th>16</th>\n      <td>0.030503</td>\n      <td>(whole milk, citrus fruit)</td>\n    </tr>\n    <tr>\n      <th>17</th>\n      <td>0.056024</td>\n      <td>(whole milk, yogurt)</td>\n    </tr>\n    <tr>\n      <th>18</th>\n      <td>0.034367</td>\n      <td>(yogurt, rolls/buns)</td>\n    </tr>\n    <tr>\n      <th>19</th>\n      <td>0.043416</td>\n      <td>(yogurt, other vegetables)</td>\n    </tr>\n    <tr>\n      <th>20</th>\n      <td>0.035892</td>\n      <td>(other vegetables, tropical fruit)</td>\n    </tr>\n    <tr>\n      <th>21</th>\n      <td>0.042298</td>\n      <td>(whole milk, tropical fruit)</td>\n    </tr>\n    <tr>\n      <th>22</th>\n      <td>0.074835</td>\n      <td>(whole milk, other vegetables)</td>\n    </tr>\n    <tr>\n      <th>23</th>\n      <td>0.042603</td>\n      <td>(other vegetables, rolls/buns)</td>\n    </tr>\n    <tr>\n      <th>24</th>\n      <td>0.056634</td>\n      <td>(whole milk, rolls/buns)</td>\n    </tr>\n    <tr>\n      <th>25</th>\n      <td>0.034367</td>\n      <td>(bottled water, whole milk)</td>\n    </tr>\n    <tr>\n      <th>26</th>\n      <td>0.038332</td>\n      <td>(soda, rolls/buns)</td>\n    </tr>\n    <tr>\n      <th>27</th>\n      <td>0.040061</td>\n      <td>(soda, whole milk)</td>\n    </tr>\n    <tr>\n      <th>28</th>\n      <td>0.032740</td>\n      <td>(soda, other vegetables)</td>\n    </tr>\n    <tr>\n      <th>29</th>\n      <td>0.033249</td>\n      <td>(whole milk, pastry)</td>\n    </tr>\n    <tr>\n      <th>30</th>\n      <td>0.047382</td>\n      <td>(root vegetables, other vegetables)</td>\n    </tr>\n    <tr>\n      <th>31</th>\n      <td>0.048907</td>\n      <td>(root vegetables, whole milk)</td>\n    </tr>\n    <tr>\n      <th>32</th>\n      <td>0.030605</td>\n      <td>(sausage, rolls/buns)</td>\n    </tr>\n    <tr>\n      <th>33</th>\n      <td>0.032232</td>\n      <td>(whipped/sour cream, whole milk)</td>\n    </tr>\n  </tbody>\n</table>\n</div>"
     },
     "execution_count": 252,
     "metadata": {},
     "output_type": "execute_result"
    }
   ],
   "source": [
    "result = fp.fpgrowth(data, min_support=0.03, use_colnames=True)\n",
    "pd.DataFrame(result)"
   ],
   "metadata": {
    "collapsed": false,
    "pycharm": {
     "name": "#%% code\n"
    }
   }
  },
  {
   "cell_type": "code",
   "execution_count": 253,
   "outputs": [
    {
     "name": "stdout",
     "output_type": "stream",
     "text": [
      "Для набора из 1 элементов:\n",
      "        максимальное значение - 0.25551601423487547 ['whole milk']\n",
      "        минимальное - 0.05765124555160142 ['pork']\n",
      "    \n",
      "Для набора из 2 элементов:\n",
      "        максимальное значение - 0.07483477376715811 ['whole milk', 'other vegetables']\n",
      "        минимальное - 0.030503304524656837 ['whole milk', 'citrus fruit']\n",
      "    \n"
     ]
    }
   ],
   "source": [
    "for i in range(1, max(list(map(lambda s: len(s), pd.DataFrame(result)['itemsets'].values))) + 1):\n",
    "    res = result[result['itemsets'].apply(lambda x: len(x)) == i]\n",
    "    mm = (max(res.values, key=lambda x: x[0]), min(res.values, key=lambda x: x[0]))\n",
    "    print(f\"\"\"Для набора из {i} элементов:\n",
    "        максимальное значение - {mm[0][0]} {list(mm[0][1])}\n",
    "        минимальное - {mm[1][0]} {list(mm[1][1])}\n",
    "    \"\"\")"
   ],
   "metadata": {
    "collapsed": false,
    "pycharm": {
     "name": "#%% code\n"
    }
   }
  },
  {
   "cell_type": "code",
   "execution_count": 254,
   "outputs": [
    {
     "data": {
      "text/plain": "<Figure size 576x432 with 1 Axes>",
      "image/png": "[encoded data removed]"
     },
     "metadata": {
      "needs_background": "light"
     },
     "output_type": "display_data"
    }
   ],
   "source": [
    "min_sups = arange(0.03, 0.26, 0.01)\n",
    "counts_of_itemesets = []\n",
    "results = []\n",
    "\n",
    "for min_sup in min_sups:\n",
    "    fpgrowth_res = fp.fpgrowth(data, min_support=min_sup, use_colnames=True)\n",
    "    fpmax_res = fp.fpmax(data, min_support=min_sup, use_colnames=True)\n",
    "    results.append((fpgrowth_res, fpmax_res))\n",
    "\n",
    "fig, ax = plt.subplots(figsize=(8,6))\n",
    "fig.suptitle('Зависимость количества наборов от уровня поддержки', fontsize=16)\n",
    "ax.plot(min_sups, list(map(lambda x: len(x[0]), results)), linewidth=2, label='FPGrowth')\n",
    "ax.plot(min_sups, list(map(lambda x: len(x[1]), results)), linewidth=2, label='FPMax')\n",
    "ax.set_xlabel('Уровень поддержки')\n",
    "ax.set_ylabel('Количество наборов')\n",
    "plt.legend()\n",
    "plt.show()"
   ],
   "metadata": {
    "collapsed": false,
    "pycharm": {
     "name": "#%% code\n"
    }
   }
  },
  {
   "cell_type": "markdown",
   "source": [
    "## Ассоциативные правила"
   ],
   "metadata": {
    "collapsed": false
   }
  },
  {
   "cell_type": "code",
   "execution_count": 255,
   "outputs": [],
   "source": [
    "np_data = all_data.to_numpy()\n",
    "np_data = [[elem for elem in row[1:] if isinstance(elem, str) and elem in items] for row in np_data]\n",
    "np_data = [row for row in np_data if len(row) > 1]"
   ],
   "metadata": {
    "collapsed": false,
    "pycharm": {
     "name": "#%% code\n"
    }
   }
  },
  {
   "cell_type": "code",
   "execution_count": 256,
   "outputs": [
    {
     "data": {
      "text/plain": "      support                                   itemsets\n0    0.082766                             (citrus fruit)\n1    0.139502                                   (yogurt)\n2    0.104931                           (tropical fruit)\n3    0.255516                               (whole milk)\n4    0.193493                         (other vegetables)\n..        ...                                        ...\n262  0.010168       (whole milk, other vegetables, pork)\n263  0.006202             (whole milk, pork, rolls/buns)\n264  0.005592       (other vegetables, rolls/buns, pork)\n265  0.007016  (root vegetables, other vegetables, pork)\n266  0.006812        (root vegetables, whole milk, pork)\n\n[267 rows x 2 columns]",
      "text/html": "<div>\n<style scoped>\n    .dataframe tbody tr th:only-of-type {\n        vertical-align: middle;\n    }\n\n    .dataframe tbody tr th {\n        vertical-align: top;\n    }\n\n    .dataframe thead th {\n        text-align: right;\n    }\n</style>\n<table border=\"1\" class=\"dataframe\">\n  <thead>\n    <tr style=\"text-align: right;\">\n      <th></th>\n      <th>support</th>\n      <th>itemsets</th>\n    </tr>\n  </thead>\n  <tbody>\n    <tr>\n      <th>0</th>\n      <td>0.082766</td>\n      <td>(citrus fruit)</td>\n    </tr>\n    <tr>\n      <th>1</th>\n      <td>0.139502</td>\n      <td>(yogurt)</td>\n    </tr>\n    <tr>\n      <th>2</th>\n      <td>0.104931</td>\n      <td>(tropical fruit)</td>\n    </tr>\n    <tr>\n      <th>3</th>\n      <td>0.255516</td>\n      <td>(whole milk)</td>\n    </tr>\n    <tr>\n      <th>4</th>\n      <td>0.193493</td>\n      <td>(other vegetables)</td>\n    </tr>\n    <tr>\n      <th>...</th>\n      <td>...</td>\n      <td>...</td>\n    </tr>\n    <tr>\n      <th>262</th>\n      <td>0.010168</td>\n      <td>(whole milk, other vegetables, pork)</td>\n    </tr>\n    <tr>\n      <th>263</th>\n      <td>0.006202</td>\n      <td>(whole milk, pork, rolls/buns)</td>\n    </tr>\n    <tr>\n      <th>264</th>\n      <td>0.005592</td>\n      <td>(other vegetables, rolls/buns, pork)</td>\n    </tr>\n    <tr>\n      <th>265</th>\n      <td>0.007016</td>\n      <td>(root vegetables, other vegetables, pork)</td>\n    </tr>\n    <tr>\n      <th>266</th>\n      <td>0.006812</td>\n      <td>(root vegetables, whole milk, pork)</td>\n    </tr>\n  </tbody>\n</table>\n<p>267 rows × 2 columns</p>\n</div>"
     },
     "execution_count": 256,
     "metadata": {},
     "output_type": "execute_result"
    }
   ],
   "source": [
    "result = fp.fpgrowth(data, min_support=0.005, use_colnames=True)\n",
    "pd.DataFrame(result)"
   ],
   "metadata": {
    "collapsed": false,
    "pycharm": {
     "name": "#%% code\n"
    }
   }
  },
  {
   "cell_type": "code",
   "execution_count": 263,
   "outputs": [
    {
     "data": {
      "text/plain": "                    antecedents         consequents  antecedent support  \\\n0                (citrus fruit)        (whole milk)            0.082766   \n1                (citrus fruit)  (other vegetables)            0.082766   \n2    (whole milk, citrus fruit)            (yogurt)            0.030503   \n3        (citrus fruit, yogurt)        (whole milk)            0.021657   \n4        (citrus fruit, yogurt)  (other vegetables)            0.021657   \n..                          ...                 ...                 ...   \n193          (pork, rolls/buns)  (other vegetables)            0.011286   \n194     (root vegetables, pork)  (other vegetables)            0.013625   \n195    (other vegetables, pork)   (root vegetables)            0.021657   \n196     (root vegetables, pork)        (whole milk)            0.013625   \n197          (whole milk, pork)   (root vegetables)            0.022166   \n\n     consequent support   support  confidence      lift  leverage  conviction  \n0              0.255516  0.030503    0.368550  1.442377  0.009355    1.179008  \n1              0.193493  0.028876    0.348894  1.803140  0.012862    1.238674  \n2              0.139502  0.010269    0.336667  2.413350  0.006014    1.297233  \n3              0.255516  0.010269    0.474178  1.855768  0.004736    1.415849  \n4              0.193493  0.007626    0.352113  1.819773  0.003435    1.244827  \n..                  ...       ...         ...       ...       ...         ...  \n193            0.193493  0.005592    0.495495  2.560798  0.003408    1.598613  \n194            0.193493  0.007016    0.514925  2.661214  0.004379    1.662646  \n195            0.108998  0.007016    0.323944  2.972002  0.004655    1.317940  \n196            0.255516  0.006812    0.500000  1.956825  0.003331    1.488968  \n197            0.108998  0.006812    0.307339  2.819667  0.004396    1.286347  \n\n[198 rows x 9 columns]",
      "text/html": "<div>\n<style scoped>\n    .dataframe tbody tr th:only-of-type {\n        vertical-align: middle;\n    }\n\n    .dataframe tbody tr th {\n        vertical-align: top;\n    }\n\n    .dataframe thead th {\n        text-align: right;\n    }\n</style>\n<table border=\"1\" class=\"dataframe\">\n  <thead>\n    <tr style=\"text-align: right;\">\n      <th></th>\n      <th>antecedents</th>\n      <th>consequents</th>\n      <th>antecedent support</th>\n      <th>consequent support</th>\n      <th>support</th>\n      <th>confidence</th>\n      <th>lift</th>\n      <th>leverage</th>\n      <th>conviction</th>\n    </tr>\n  </thead>\n  <tbody>\n    <tr>\n      <th>0</th>\n      <td>(citrus fruit)</td>\n      <td>(whole milk)</td>\n      <td>0.082766</td>\n      <td>0.255516</td>\n      <td>0.030503</td>\n      <td>0.368550</td>\n      <td>1.442377</td>\n      <td>0.009355</td>\n      <td>1.179008</td>\n    </tr>\n    <tr>\n      <th>1</th>\n      <td>(citrus fruit)</td>\n      <td>(other vegetables)</td>\n      <td>0.082766</td>\n      <td>0.193493</td>\n      <td>0.028876</td>\n      <td>0.348894</td>\n      <td>1.803140</td>\n      <td>0.012862</td>\n      <td>1.238674</td>\n    </tr>\n    <tr>\n      <th>2</th>\n      <td>(whole milk, citrus fruit)</td>\n      <td>(yogurt)</td>\n      <td>0.030503</td>\n      <td>0.139502</td>\n      <td>0.010269</td>\n      <td>0.336667</td>\n      <td>2.413350</td>\n      <td>0.006014</td>\n      <td>1.297233</td>\n    </tr>\n    <tr>\n      <th>3</th>\n      <td>(citrus fruit, yogurt)</td>\n      <td>(whole milk)</td>\n      <td>0.021657</td>\n      <td>0.255516</td>\n      <td>0.010269</td>\n      <td>0.474178</td>\n      <td>1.855768</td>\n      <td>0.004736</td>\n      <td>1.415849</td>\n    </tr>\n    <tr>\n      <th>4</th>\n      <td>(citrus fruit, yogurt)</td>\n      <td>(other vegetables)</td>\n      <td>0.021657</td>\n      <td>0.193493</td>\n      <td>0.007626</td>\n      <td>0.352113</td>\n      <td>1.819773</td>\n      <td>0.003435</td>\n      <td>1.244827</td>\n    </tr>\n    <tr>\n      <th>...</th>\n      <td>...</td>\n      <td>...</td>\n      <td>...</td>\n      <td>...</td>\n      <td>...</td>\n      <td>...</td>\n      <td>...</td>\n      <td>...</td>\n      <td>...</td>\n    </tr>\n    <tr>\n      <th>193</th>\n      <td>(pork, rolls/buns)</td>\n      <td>(other vegetables)</td>\n      <td>0.011286</td>\n      <td>0.193493</td>\n      <td>0.005592</td>\n      <td>0.495495</td>\n      <td>2.560798</td>\n      <td>0.003408</td>\n      <td>1.598613</td>\n    </tr>\n    <tr>\n      <th>194</th>\n      <td>(root vegetables, pork)</td>\n      <td>(other vegetables)</td>\n      <td>0.013625</td>\n      <td>0.193493</td>\n      <td>0.007016</td>\n      <td>0.514925</td>\n      <td>2.661214</td>\n      <td>0.004379</td>\n      <td>1.662646</td>\n    </tr>\n    <tr>\n      <th>195</th>\n      <td>(other vegetables, pork)</td>\n      <td>(root vegetables)</td>\n      <td>0.021657</td>\n      <td>0.108998</td>\n      <td>0.007016</td>\n      <td>0.323944</td>\n      <td>2.972002</td>\n      <td>0.004655</td>\n      <td>1.317940</td>\n    </tr>\n    <tr>\n      <th>196</th>\n      <td>(root vegetables, pork)</td>\n      <td>(whole milk)</td>\n      <td>0.013625</td>\n      <td>0.255516</td>\n      <td>0.006812</td>\n      <td>0.500000</td>\n      <td>1.956825</td>\n      <td>0.003331</td>\n      <td>1.488968</td>\n    </tr>\n    <tr>\n      <th>197</th>\n      <td>(whole milk, pork)</td>\n      <td>(root vegetables)</td>\n      <td>0.022166</td>\n      <td>0.108998</td>\n      <td>0.006812</td>\n      <td>0.307339</td>\n      <td>2.819667</td>\n      <td>0.004396</td>\n      <td>1.286347</td>\n    </tr>\n  </tbody>\n</table>\n<p>198 rows × 9 columns</p>\n</div>"
     },
     "execution_count": 263,
     "metadata": {},
     "output_type": "execute_result"
    }
   ],
   "source": [
    "rules = fp.association_rules(result, min_threshold=0.3)\n",
    "pd.DataFrame(rules)"
   ],
   "metadata": {
    "collapsed": false,
    "pycharm": {
     "name": "#%% code\n"
    }
   }
  },
  {
   "cell_type": "code",
   "execution_count": 273,
   "outputs": [
    {
     "name": "stdout",
     "output_type": "stream",
     "text": [
      "count    10.000000\n",
      "mean      0.056756\n",
      "std       0.010294\n",
      "min       0.047382\n",
      "25%       0.048907\n",
      "50%       0.056024\n",
      "75%       0.056634\n",
      "max       0.074835\n",
      "Name: support, dtype: float64\n"
     ]
    },
    {
     "data": {
      "text/plain": "          antecedents         consequents  antecedent support  \\\n0        (whole milk)            (yogurt)            0.255516   \n1            (yogurt)        (whole milk)            0.139502   \n2        (whole milk)  (other vegetables)            0.255516   \n3  (other vegetables)        (whole milk)            0.193493   \n4        (whole milk)        (rolls/buns)            0.255516   \n5        (rolls/buns)        (whole milk)            0.183935   \n6   (root vegetables)  (other vegetables)            0.108998   \n7  (other vegetables)   (root vegetables)            0.193493   \n8   (root vegetables)        (whole milk)            0.108998   \n9        (whole milk)   (root vegetables)            0.255516   \n\n   consequent support   support  confidence      lift  leverage  conviction  \n0            0.139502  0.056024    0.219260  1.571735  0.020379    1.102157  \n1            0.255516  0.056024    0.401603  1.571735  0.020379    1.244132  \n2            0.193493  0.074835    0.292877  1.513634  0.025394    1.140548  \n3            0.255516  0.074835    0.386758  1.513634  0.025394    1.214013  \n4            0.183935  0.056634    0.221647  1.205032  0.009636    1.048452  \n5            0.255516  0.056634    0.307905  1.205032  0.009636    1.075696  \n6            0.193493  0.047382    0.434701  2.246605  0.026291    1.426693  \n7            0.108998  0.047382    0.244877  2.246605  0.026291    1.179941  \n8            0.255516  0.048907    0.448694  1.756031  0.021056    1.350401  \n9            0.108998  0.048907    0.191405  1.756031  0.021056    1.101913  ",
      "text/html": "<div>\n<style scoped>\n    .dataframe tbody tr th:only-of-type {\n        vertical-align: middle;\n    }\n\n    .dataframe tbody tr th {\n        vertical-align: top;\n    }\n\n    .dataframe thead th {\n        text-align: right;\n    }\n</style>\n<table border=\"1\" class=\"dataframe\">\n  <thead>\n    <tr style=\"text-align: right;\">\n      <th></th>\n      <th>antecedents</th>\n      <th>consequents</th>\n      <th>antecedent support</th>\n      <th>consequent support</th>\n      <th>support</th>\n      <th>confidence</th>\n      <th>lift</th>\n      <th>leverage</th>\n      <th>conviction</th>\n    </tr>\n  </thead>\n  <tbody>\n    <tr>\n      <th>0</th>\n      <td>(whole milk)</td>\n      <td>(yogurt)</td>\n      <td>0.255516</td>\n      <td>0.139502</td>\n      <td>0.056024</td>\n      <td>0.219260</td>\n      <td>1.571735</td>\n      <td>0.020379</td>\n      <td>1.102157</td>\n    </tr>\n    <tr>\n      <th>1</th>\n      <td>(yogurt)</td>\n      <td>(whole milk)</td>\n      <td>0.139502</td>\n      <td>0.255516</td>\n      <td>0.056024</td>\n      <td>0.401603</td>\n      <td>1.571735</td>\n      <td>0.020379</td>\n      <td>1.244132</td>\n    </tr>\n    <tr>\n      <th>2</th>\n      <td>(whole milk)</td>\n      <td>(other vegetables)</td>\n      <td>0.255516</td>\n      <td>0.193493</td>\n      <td>0.074835</td>\n      <td>0.292877</td>\n      <td>1.513634</td>\n      <td>0.025394</td>\n      <td>1.140548</td>\n    </tr>\n    <tr>\n      <th>3</th>\n      <td>(other vegetables)</td>\n      <td>(whole milk)</td>\n      <td>0.193493</td>\n      <td>0.255516</td>\n      <td>0.074835</td>\n      <td>0.386758</td>\n      <td>1.513634</td>\n      <td>0.025394</td>\n      <td>1.214013</td>\n    </tr>\n    <tr>\n      <th>4</th>\n      <td>(whole milk)</td>\n      <td>(rolls/buns)</td>\n      <td>0.255516</td>\n      <td>0.183935</td>\n      <td>0.056634</td>\n      <td>0.221647</td>\n      <td>1.205032</td>\n      <td>0.009636</td>\n      <td>1.048452</td>\n    </tr>\n    <tr>\n      <th>5</th>\n      <td>(rolls/buns)</td>\n      <td>(whole milk)</td>\n      <td>0.183935</td>\n      <td>0.255516</td>\n      <td>0.056634</td>\n      <td>0.307905</td>\n      <td>1.205032</td>\n      <td>0.009636</td>\n      <td>1.075696</td>\n    </tr>\n    <tr>\n      <th>6</th>\n      <td>(root vegetables)</td>\n      <td>(other vegetables)</td>\n      <td>0.108998</td>\n      <td>0.193493</td>\n      <td>0.047382</td>\n      <td>0.434701</td>\n      <td>2.246605</td>\n      <td>0.026291</td>\n      <td>1.426693</td>\n    </tr>\n    <tr>\n      <th>7</th>\n      <td>(other vegetables)</td>\n      <td>(root vegetables)</td>\n      <td>0.193493</td>\n      <td>0.108998</td>\n      <td>0.047382</td>\n      <td>0.244877</td>\n      <td>2.246605</td>\n      <td>0.026291</td>\n      <td>1.179941</td>\n    </tr>\n    <tr>\n      <th>8</th>\n      <td>(root vegetables)</td>\n      <td>(whole milk)</td>\n      <td>0.108998</td>\n      <td>0.255516</td>\n      <td>0.048907</td>\n      <td>0.448694</td>\n      <td>1.756031</td>\n      <td>0.021056</td>\n      <td>1.350401</td>\n    </tr>\n    <tr>\n      <th>9</th>\n      <td>(whole milk)</td>\n      <td>(root vegetables)</td>\n      <td>0.255516</td>\n      <td>0.108998</td>\n      <td>0.048907</td>\n      <td>0.191405</td>\n      <td>1.756031</td>\n      <td>0.021056</td>\n      <td>1.101913</td>\n    </tr>\n  </tbody>\n</table>\n</div>"
     },
     "execution_count": 273,
     "metadata": {},
     "output_type": "execute_result"
    }
   ],
   "source": [
    "fp.association_rules(result, metric='support', min_threshold=0.045)"
   ],
   "metadata": {
    "collapsed": false,
    "pycharm": {
     "name": "#%% code\n"
    }
   }
  },
  {
   "cell_type": "code",
   "execution_count": 285,
   "outputs": [
    {
     "name": "stdout",
     "output_type": "stream",
     "text": [
      "count    10.000000\n",
      "mean      0.007605\n",
      "std       0.002229\n",
      "min       0.005186\n",
      "25%       0.005923\n",
      "50%       0.007321\n",
      "75%       0.007905\n",
      "max       0.012303\n",
      "Name: support, dtype: float64\n"
     ]
    },
    {
     "data": {
      "text/plain": "                                         antecedents         consequents  \\\n0                    (root vegetables, citrus fruit)  (other vegetables)   \n1        (root vegetables, whole milk, citrus fruit)  (other vegetables)   \n2         (yogurt, other vegetables, tropical fruit)        (whole milk)   \n3                  (root vegetables, tropical fruit)  (other vegetables)   \n4      (root vegetables, whole milk, tropical fruit)  (other vegetables)   \n5          (root vegetables, yogurt, tropical fruit)        (whole milk)   \n6        (root vegetables, yogurt, other vegetables)        (whole milk)   \n7  (root vegetables, other vegetables, whipped/so...        (whole milk)   \n8                 (whipped/sour cream, citrus fruit)        (whole milk)   \n9               (whipped/sour cream, tropical fruit)        (whole milk)   \n\n   antecedent support  consequent support   support  confidence      lift  \\\n0            0.017692            0.193493  0.010371    0.586207  3.029608   \n1            0.009151            0.193493  0.005796    0.633333  3.273165   \n2            0.012303            0.255516  0.007626    0.619835  2.425816   \n3            0.021047            0.193493  0.012303    0.584541  3.020999   \n4            0.011998            0.193493  0.007016    0.584746  3.022057   \n5            0.008134            0.255516  0.005694    0.700000  2.739554   \n6            0.012913            0.255516  0.007829    0.606299  2.372842   \n7            0.008541            0.255516  0.005186    0.607143  2.376144   \n8            0.010880            0.255516  0.006304    0.579439  2.267722   \n9            0.013828            0.255516  0.007931    0.573529  2.244593   \n\n   leverage  conviction  \n0  0.006948    1.949059  \n1  0.004025    2.199566  \n2  0.004482    1.958317  \n3  0.008231    1.941244  \n4  0.004694    1.942201  \n5  0.003616    2.481613  \n6  0.004530    1.890989  \n7  0.003003    1.895050  \n8  0.003524    1.770217  \n9  0.004398    1.745687  ",
      "text/html": "<div>\n<style scoped>\n    .dataframe tbody tr th:only-of-type {\n        vertical-align: middle;\n    }\n\n    .dataframe tbody tr th {\n        vertical-align: top;\n    }\n\n    .dataframe thead th {\n        text-align: right;\n    }\n</style>\n<table border=\"1\" class=\"dataframe\">\n  <thead>\n    <tr style=\"text-align: right;\">\n      <th></th>\n      <th>antecedents</th>\n      <th>consequents</th>\n      <th>antecedent support</th>\n      <th>consequent support</th>\n      <th>support</th>\n      <th>confidence</th>\n      <th>lift</th>\n      <th>leverage</th>\n      <th>conviction</th>\n    </tr>\n  </thead>\n  <tbody>\n    <tr>\n      <th>0</th>\n      <td>(root vegetables, citrus fruit)</td>\n      <td>(other vegetables)</td>\n      <td>0.017692</td>\n      <td>0.193493</td>\n      <td>0.010371</td>\n      <td>0.586207</td>\n      <td>3.029608</td>\n      <td>0.006948</td>\n      <td>1.949059</td>\n    </tr>\n    <tr>\n      <th>1</th>\n      <td>(root vegetables, whole milk, citrus fruit)</td>\n      <td>(other vegetables)</td>\n      <td>0.009151</td>\n      <td>0.193493</td>\n      <td>0.005796</td>\n      <td>0.633333</td>\n      <td>3.273165</td>\n      <td>0.004025</td>\n      <td>2.199566</td>\n    </tr>\n    <tr>\n      <th>2</th>\n      <td>(yogurt, other vegetables, tropical fruit)</td>\n      <td>(whole milk)</td>\n      <td>0.012303</td>\n      <td>0.255516</td>\n      <td>0.007626</td>\n      <td>0.619835</td>\n      <td>2.425816</td>\n      <td>0.004482</td>\n      <td>1.958317</td>\n    </tr>\n    <tr>\n      <th>3</th>\n      <td>(root vegetables, tropical fruit)</td>\n      <td>(other vegetables)</td>\n      <td>0.021047</td>\n      <td>0.193493</td>\n      <td>0.012303</td>\n      <td>0.584541</td>\n      <td>3.020999</td>\n      <td>0.008231</td>\n      <td>1.941244</td>\n    </tr>\n    <tr>\n      <th>4</th>\n      <td>(root vegetables, whole milk, tropical fruit)</td>\n      <td>(other vegetables)</td>\n      <td>0.011998</td>\n      <td>0.193493</td>\n      <td>0.007016</td>\n      <td>0.584746</td>\n      <td>3.022057</td>\n      <td>0.004694</td>\n      <td>1.942201</td>\n    </tr>\n    <tr>\n      <th>5</th>\n      <td>(root vegetables, yogurt, tropical fruit)</td>\n      <td>(whole milk)</td>\n      <td>0.008134</td>\n      <td>0.255516</td>\n      <td>0.005694</td>\n      <td>0.700000</td>\n      <td>2.739554</td>\n      <td>0.003616</td>\n      <td>2.481613</td>\n    </tr>\n    <tr>\n      <th>6</th>\n      <td>(root vegetables, yogurt, other vegetables)</td>\n      <td>(whole milk)</td>\n      <td>0.012913</td>\n      <td>0.255516</td>\n      <td>0.007829</td>\n      <td>0.606299</td>\n      <td>2.372842</td>\n      <td>0.004530</td>\n      <td>1.890989</td>\n    </tr>\n    <tr>\n      <th>7</th>\n      <td>(root vegetables, other vegetables, whipped/so...</td>\n      <td>(whole milk)</td>\n      <td>0.008541</td>\n      <td>0.255516</td>\n      <td>0.005186</td>\n      <td>0.607143</td>\n      <td>2.376144</td>\n      <td>0.003003</td>\n      <td>1.895050</td>\n    </tr>\n    <tr>\n      <th>8</th>\n      <td>(whipped/sour cream, citrus fruit)</td>\n      <td>(whole milk)</td>\n      <td>0.010880</td>\n      <td>0.255516</td>\n      <td>0.006304</td>\n      <td>0.579439</td>\n      <td>2.267722</td>\n      <td>0.003524</td>\n      <td>1.770217</td>\n    </tr>\n    <tr>\n      <th>9</th>\n      <td>(whipped/sour cream, tropical fruit)</td>\n      <td>(whole milk)</td>\n      <td>0.013828</td>\n      <td>0.255516</td>\n      <td>0.007931</td>\n      <td>0.573529</td>\n      <td>2.244593</td>\n      <td>0.004398</td>\n      <td>1.745687</td>\n    </tr>\n  </tbody>\n</table>\n</div>"
     },
     "execution_count": 285,
     "metadata": {},
     "output_type": "execute_result"
    }
   ],
   "source": [
    "fp.association_rules(result, metric='confidence', min_threshold=0.573)"
   ],
   "metadata": {
    "collapsed": false,
    "pycharm": {
     "name": "#%% code\n"
    }
   }
  },
  {
   "cell_type": "code",
   "execution_count": 299,
   "outputs": [
    {
     "name": "stdout",
     "output_type": "stream",
     "text": [
      "count    10.000000\n",
      "mean      0.006365\n",
      "std       0.000848\n",
      "min       0.005694\n",
      "25%       0.005694\n",
      "50%       0.005796\n",
      "75%       0.007016\n",
      "max       0.007626\n",
      "Name: support, dtype: float64\n"
     ]
    },
    {
     "data": {
      "text/plain": "                         antecedents                        consequents  \\\n0    (root vegetables, citrus fruit)     (whole milk, other vegetables)   \n1     (whole milk, other vegetables)    (root vegetables, citrus fruit)   \n2       (whole milk, tropical fruit)         (yogurt, other vegetables)   \n3         (yogurt, other vegetables)       (whole milk, tropical fruit)   \n4  (root vegetables, tropical fruit)     (whole milk, other vegetables)   \n5     (whole milk, other vegetables)  (root vegetables, tropical fruit)   \n6  (root vegetables, tropical fruit)               (whole milk, yogurt)   \n7          (root vegetables, yogurt)       (whole milk, tropical fruit)   \n8       (whole milk, tropical fruit)          (root vegetables, yogurt)   \n9               (whole milk, yogurt)  (root vegetables, tropical fruit)   \n\n   antecedent support  consequent support   support  confidence      lift  \\\n0            0.017692            0.074835  0.005796    0.327586  4.377460   \n1            0.074835            0.017692  0.005796    0.077446  4.377460   \n2            0.042298            0.043416  0.007626    0.180288  4.152546   \n3            0.043416            0.042298  0.007626    0.175644  4.152546   \n4            0.021047            0.074835  0.007016    0.333333  4.454257   \n5            0.074835            0.021047  0.007016    0.093750  4.454257   \n6            0.021047            0.056024  0.005694    0.270531  4.828814   \n7            0.025826            0.042298  0.005694    0.220472  5.212371   \n8            0.042298            0.025826  0.005694    0.134615  5.212371   \n9            0.056024            0.021047  0.005694    0.101633  4.828814   \n\n   leverage  conviction  \n0  0.004472    1.375887  \n1  0.004472    1.064770  \n2  0.005789    1.166976  \n3  0.005789    1.161758  \n4  0.005441    1.387748  \n5  0.005441    1.080224  \n6  0.004515    1.294059  \n7  0.004602    1.228567  \n8  0.004602    1.125712  \n9  0.004515    1.089703  ",
      "text/html": "<div>\n<style scoped>\n    .dataframe tbody tr th:only-of-type {\n        vertical-align: middle;\n    }\n\n    .dataframe tbody tr th {\n        vertical-align: top;\n    }\n\n    .dataframe thead th {\n        text-align: right;\n    }\n</style>\n<table border=\"1\" class=\"dataframe\">\n  <thead>\n    <tr style=\"text-align: right;\">\n      <th></th>\n      <th>antecedents</th>\n      <th>consequents</th>\n      <th>antecedent support</th>\n      <th>consequent support</th>\n      <th>support</th>\n      <th>confidence</th>\n      <th>lift</th>\n      <th>leverage</th>\n      <th>conviction</th>\n    </tr>\n  </thead>\n  <tbody>\n    <tr>\n      <th>0</th>\n      <td>(root vegetables, citrus fruit)</td>\n      <td>(whole milk, other vegetables)</td>\n      <td>0.017692</td>\n      <td>0.074835</td>\n      <td>0.005796</td>\n      <td>0.327586</td>\n      <td>4.377460</td>\n      <td>0.004472</td>\n      <td>1.375887</td>\n    </tr>\n    <tr>\n      <th>1</th>\n      <td>(whole milk, other vegetables)</td>\n      <td>(root vegetables, citrus fruit)</td>\n      <td>0.074835</td>\n      <td>0.017692</td>\n      <td>0.005796</td>\n      <td>0.077446</td>\n      <td>4.377460</td>\n      <td>0.004472</td>\n      <td>1.064770</td>\n    </tr>\n    <tr>\n      <th>2</th>\n      <td>(whole milk, tropical fruit)</td>\n      <td>(yogurt, other vegetables)</td>\n      <td>0.042298</td>\n      <td>0.043416</td>\n      <td>0.007626</td>\n      <td>0.180288</td>\n      <td>4.152546</td>\n      <td>0.005789</td>\n      <td>1.166976</td>\n    </tr>\n    <tr>\n      <th>3</th>\n      <td>(yogurt, other vegetables)</td>\n      <td>(whole milk, tropical fruit)</td>\n      <td>0.043416</td>\n      <td>0.042298</td>\n      <td>0.007626</td>\n      <td>0.175644</td>\n      <td>4.152546</td>\n      <td>0.005789</td>\n      <td>1.161758</td>\n    </tr>\n    <tr>\n      <th>4</th>\n      <td>(root vegetables, tropical fruit)</td>\n      <td>(whole milk, other vegetables)</td>\n      <td>0.021047</td>\n      <td>0.074835</td>\n      <td>0.007016</td>\n      <td>0.333333</td>\n      <td>4.454257</td>\n      <td>0.005441</td>\n      <td>1.387748</td>\n    </tr>\n    <tr>\n      <th>5</th>\n      <td>(whole milk, other vegetables)</td>\n      <td>(root vegetables, tropical fruit)</td>\n      <td>0.074835</td>\n      <td>0.021047</td>\n      <td>0.007016</td>\n      <td>0.093750</td>\n      <td>4.454257</td>\n      <td>0.005441</td>\n      <td>1.080224</td>\n    </tr>\n    <tr>\n      <th>6</th>\n      <td>(root vegetables, tropical fruit)</td>\n      <td>(whole milk, yogurt)</td>\n      <td>0.021047</td>\n      <td>0.056024</td>\n      <td>0.005694</td>\n      <td>0.270531</td>\n      <td>4.828814</td>\n      <td>0.004515</td>\n      <td>1.294059</td>\n    </tr>\n    <tr>\n      <th>7</th>\n      <td>(root vegetables, yogurt)</td>\n      <td>(whole milk, tropical fruit)</td>\n      <td>0.025826</td>\n      <td>0.042298</td>\n      <td>0.005694</td>\n      <td>0.220472</td>\n      <td>5.212371</td>\n      <td>0.004602</td>\n      <td>1.228567</td>\n    </tr>\n    <tr>\n      <th>8</th>\n      <td>(whole milk, tropical fruit)</td>\n      <td>(root vegetables, yogurt)</td>\n      <td>0.042298</td>\n      <td>0.025826</td>\n      <td>0.005694</td>\n      <td>0.134615</td>\n      <td>5.212371</td>\n      <td>0.004602</td>\n      <td>1.125712</td>\n    </tr>\n    <tr>\n      <th>9</th>\n      <td>(whole milk, yogurt)</td>\n      <td>(root vegetables, tropical fruit)</td>\n      <td>0.056024</td>\n      <td>0.021047</td>\n      <td>0.005694</td>\n      <td>0.101633</td>\n      <td>4.828814</td>\n      <td>0.004515</td>\n      <td>1.089703</td>\n    </tr>\n  </tbody>\n</table>\n</div>"
     },
     "execution_count": 299,
     "metadata": {},
     "output_type": "execute_result"
    }
   ],
   "source": [
    "fp.association_rules(result, metric='lift', min_threshold=4.15)"
   ],
   "metadata": {
    "collapsed": false,
    "pycharm": {
     "name": "#%% code\n"
    }
   }
  },
  {
   "cell_type": "code",
   "execution_count": 327,
   "outputs": [
    {
     "name": "stdout",
     "output_type": "stream",
     "text": [
      "       antecedent support  consequent support    support  confidence  \\\n",
      "count           10.000000           10.000000  10.000000   10.000000   \n",
      "mean             0.184403            0.184403   0.054113    0.315578   \n",
      "std              0.058522            0.058522   0.011737    0.095988   \n",
      "min              0.108998            0.108998   0.043416    0.191405   \n",
      "25%              0.139502            0.139502   0.047382    0.229506   \n",
      "50%              0.193493            0.193493   0.048907    0.302051   \n",
      "75%              0.240010            0.240010   0.056024    0.397892   \n",
      "max              0.255516            0.255516   0.074835    0.448694   \n",
      "\n",
      "            lift   leverage  conviction  \n",
      "count  10.000000  10.000000   10.000000  \n",
      "mean    1.739292   0.021909    1.204016  \n",
      "std     0.280381   0.003786    0.109631  \n",
      "min     1.513634   0.016424    1.101913  \n",
      "25%     1.571735   0.020379    1.117214  \n",
      "50%     1.608457   0.021056    1.175435  \n",
      "75%     1.756031   0.025394    1.236602  \n",
      "max     2.246605   0.026291    1.426693  \n"
     ]
    },
    {
     "data": {
      "text/plain": "          antecedents         consequents  antecedent support  \\\n0        (whole milk)            (yogurt)            0.255516   \n1            (yogurt)        (whole milk)            0.139502   \n2            (yogurt)  (other vegetables)            0.139502   \n3  (other vegetables)            (yogurt)            0.193493   \n4        (whole milk)  (other vegetables)            0.255516   \n5  (other vegetables)        (whole milk)            0.193493   \n6   (root vegetables)  (other vegetables)            0.108998   \n7  (other vegetables)   (root vegetables)            0.193493   \n8   (root vegetables)        (whole milk)            0.108998   \n9        (whole milk)   (root vegetables)            0.255516   \n\n   consequent support   support  confidence      lift  leverage  conviction  \n0            0.139502  0.056024    0.219260  1.571735  0.020379    1.102157  \n1            0.255516  0.056024    0.401603  1.571735  0.020379    1.244132  \n2            0.193493  0.043416    0.311224  1.608457  0.016424    1.170929  \n3            0.139502  0.043416    0.224383  1.608457  0.016424    1.109436  \n4            0.193493  0.074835    0.292877  1.513634  0.025394    1.140548  \n5            0.255516  0.074835    0.386758  1.513634  0.025394    1.214013  \n6            0.193493  0.047382    0.434701  2.246605  0.026291    1.426693  \n7            0.108998  0.047382    0.244877  2.246605  0.026291    1.179941  \n8            0.255516  0.048907    0.448694  1.756031  0.021056    1.350401  \n9            0.108998  0.048907    0.191405  1.756031  0.021056    1.101913  ",
      "text/html": "<div>\n<style scoped>\n    .dataframe tbody tr th:only-of-type {\n        vertical-align: middle;\n    }\n\n    .dataframe tbody tr th {\n        vertical-align: top;\n    }\n\n    .dataframe thead th {\n        text-align: right;\n    }\n</style>\n<table border=\"1\" class=\"dataframe\">\n  <thead>\n    <tr style=\"text-align: right;\">\n      <th></th>\n      <th>antecedents</th>\n      <th>consequents</th>\n      <th>antecedent support</th>\n      <th>consequent support</th>\n      <th>support</th>\n      <th>confidence</th>\n      <th>lift</th>\n      <th>leverage</th>\n      <th>conviction</th>\n    </tr>\n  </thead>\n  <tbody>\n    <tr>\n      <th>0</th>\n      <td>(whole milk)</td>\n      <td>(yogurt)</td>\n      <td>0.255516</td>\n      <td>0.139502</td>\n      <td>0.056024</td>\n      <td>0.219260</td>\n      <td>1.571735</td>\n      <td>0.020379</td>\n      <td>1.102157</td>\n    </tr>\n    <tr>\n      <th>1</th>\n      <td>(yogurt)</td>\n      <td>(whole milk)</td>\n      <td>0.139502</td>\n      <td>0.255516</td>\n      <td>0.056024</td>\n      <td>0.401603</td>\n      <td>1.571735</td>\n      <td>0.020379</td>\n      <td>1.244132</td>\n    </tr>\n    <tr>\n      <th>2</th>\n      <td>(yogurt)</td>\n      <td>(other vegetables)</td>\n      <td>0.139502</td>\n      <td>0.193493</td>\n      <td>0.043416</td>\n      <td>0.311224</td>\n      <td>1.608457</td>\n      <td>0.016424</td>\n      <td>1.170929</td>\n    </tr>\n    <tr>\n      <th>3</th>\n      <td>(other vegetables)</td>\n      <td>(yogurt)</td>\n      <td>0.193493</td>\n      <td>0.139502</td>\n      <td>0.043416</td>\n      <td>0.224383</td>\n      <td>1.608457</td>\n      <td>0.016424</td>\n      <td>1.109436</td>\n    </tr>\n    <tr>\n      <th>4</th>\n      <td>(whole milk)</td>\n      <td>(other vegetables)</td>\n      <td>0.255516</td>\n      <td>0.193493</td>\n      <td>0.074835</td>\n      <td>0.292877</td>\n      <td>1.513634</td>\n      <td>0.025394</td>\n      <td>1.140548</td>\n    </tr>\n    <tr>\n      <th>5</th>\n      <td>(other vegetables)</td>\n      <td>(whole milk)</td>\n      <td>0.193493</td>\n      <td>0.255516</td>\n      <td>0.074835</td>\n      <td>0.386758</td>\n      <td>1.513634</td>\n      <td>0.025394</td>\n      <td>1.214013</td>\n    </tr>\n    <tr>\n      <th>6</th>\n      <td>(root vegetables)</td>\n      <td>(other vegetables)</td>\n      <td>0.108998</td>\n      <td>0.193493</td>\n      <td>0.047382</td>\n      <td>0.434701</td>\n      <td>2.246605</td>\n      <td>0.026291</td>\n      <td>1.426693</td>\n    </tr>\n    <tr>\n      <th>7</th>\n      <td>(other vegetables)</td>\n      <td>(root vegetables)</td>\n      <td>0.193493</td>\n      <td>0.108998</td>\n      <td>0.047382</td>\n      <td>0.244877</td>\n      <td>2.246605</td>\n      <td>0.026291</td>\n      <td>1.179941</td>\n    </tr>\n    <tr>\n      <th>8</th>\n      <td>(root vegetables)</td>\n      <td>(whole milk)</td>\n      <td>0.108998</td>\n      <td>0.255516</td>\n      <td>0.048907</td>\n      <td>0.448694</td>\n      <td>1.756031</td>\n      <td>0.021056</td>\n      <td>1.350401</td>\n    </tr>\n    <tr>\n      <th>9</th>\n      <td>(whole milk)</td>\n      <td>(root vegetables)</td>\n      <td>0.255516</td>\n      <td>0.108998</td>\n      <td>0.048907</td>\n      <td>0.191405</td>\n      <td>1.756031</td>\n      <td>0.021056</td>\n      <td>1.101913</td>\n    </tr>\n  </tbody>\n</table>\n</div>"
     },
     "execution_count": 327,
     "metadata": {},
     "output_type": "execute_result"
    }
   ],
   "source": [
    "fp.association_rules(result, metric='leverage', min_threshold=0.016)"
   ],
   "metadata": {
    "collapsed": false,
    "pycharm": {
     "name": "#%%\n"
    }
   }
  },
  {
   "cell_type": "code",
   "execution_count": 328,
   "outputs": [
    {
     "name": "stdout",
     "output_type": "stream",
     "text": [
      "       antecedent support  consequent support    support  confidence  \\\n",
      "count           10.000000           10.000000  10.000000   10.000000   \n",
      "mean             0.012506            0.218302   0.007483    0.603667   \n",
      "std              0.004183            0.032029   0.002325    0.042072   \n",
      "min              0.008134            0.193493   0.005186    0.548387   \n",
      "25%              0.009227            0.193493   0.005719    0.584592   \n",
      "50%              0.012150            0.193493   0.007321    0.596253   \n",
      "75%              0.013599            0.255516   0.007829    0.616662   \n",
      "max              0.021047            0.255516   0.012303    0.700000   \n",
      "\n",
      "            lift   leverage  conviction  \n",
      "count  10.000000  10.000000   10.000000  \n",
      "mean    2.802042   0.004804    1.990295  \n",
      "std     0.315799   0.001633    0.202919  \n",
      "min     2.372842   0.003003    1.785838  \n",
      "25%     2.504250   0.003718    1.892005  \n",
      "50%     2.880119   0.004506    1.941723  \n",
      "75%     3.021793   0.005039    1.956002  \n",
      "max     3.273165   0.008231    2.481613  \n"
     ]
    },
    {
     "data": {
      "text/plain": "                                         antecedents         consequents  \\\n0                    (root vegetables, citrus fruit)  (other vegetables)   \n1        (root vegetables, whole milk, citrus fruit)  (other vegetables)   \n2         (yogurt, other vegetables, tropical fruit)        (whole milk)   \n3                  (root vegetables, tropical fruit)  (other vegetables)   \n4      (root vegetables, whole milk, tropical fruit)  (other vegetables)   \n5          (root vegetables, yogurt, tropical fruit)        (whole milk)   \n6        (root vegetables, yogurt, other vegetables)        (whole milk)   \n7  (root vegetables, whole milk, whipped/sour cream)  (other vegetables)   \n8  (root vegetables, other vegetables, whipped/so...        (whole milk)   \n9               (whipped/sour cream, tropical fruit)  (other vegetables)   \n\n   antecedent support  consequent support   support  confidence      lift  \\\n0            0.017692            0.193493  0.010371    0.586207  3.029608   \n1            0.009151            0.193493  0.005796    0.633333  3.273165   \n2            0.012303            0.255516  0.007626    0.619835  2.425816   \n3            0.021047            0.193493  0.012303    0.584541  3.020999   \n4            0.011998            0.193493  0.007016    0.584746  3.022057   \n5            0.008134            0.255516  0.005694    0.700000  2.739554   \n6            0.012913            0.255516  0.007829    0.606299  2.372842   \n7            0.009456            0.193493  0.005186    0.548387  2.834150   \n8            0.008541            0.255516  0.005186    0.607143  2.376144   \n9            0.013828            0.193493  0.007829    0.566176  2.926088   \n\n   leverage  conviction  \n0  0.006948    1.949059  \n1  0.004025    2.199566  \n2  0.004482    1.958317  \n3  0.008231    1.941244  \n4  0.004694    1.942201  \n5  0.003616    2.481613  \n6  0.004530    1.890989  \n7  0.003356    1.785838  \n8  0.003003    1.895050  \n9  0.005154    1.859068  ",
      "text/html": "<div>\n<style scoped>\n    .dataframe tbody tr th:only-of-type {\n        vertical-align: middle;\n    }\n\n    .dataframe tbody tr th {\n        vertical-align: top;\n    }\n\n    .dataframe thead th {\n        text-align: right;\n    }\n</style>\n<table border=\"1\" class=\"dataframe\">\n  <thead>\n    <tr style=\"text-align: right;\">\n      <th></th>\n      <th>antecedents</th>\n      <th>consequents</th>\n      <th>antecedent support</th>\n      <th>consequent support</th>\n      <th>support</th>\n      <th>confidence</th>\n      <th>lift</th>\n      <th>leverage</th>\n      <th>conviction</th>\n    </tr>\n  </thead>\n  <tbody>\n    <tr>\n      <th>0</th>\n      <td>(root vegetables, citrus fruit)</td>\n      <td>(other vegetables)</td>\n      <td>0.017692</td>\n      <td>0.193493</td>\n      <td>0.010371</td>\n      <td>0.586207</td>\n      <td>3.029608</td>\n      <td>0.006948</td>\n      <td>1.949059</td>\n    </tr>\n    <tr>\n      <th>1</th>\n      <td>(root vegetables, whole milk, citrus fruit)</td>\n      <td>(other vegetables)</td>\n      <td>0.009151</td>\n      <td>0.193493</td>\n      <td>0.005796</td>\n      <td>0.633333</td>\n      <td>3.273165</td>\n      <td>0.004025</td>\n      <td>2.199566</td>\n    </tr>\n    <tr>\n      <th>2</th>\n      <td>(yogurt, other vegetables, tropical fruit)</td>\n      <td>(whole milk)</td>\n      <td>0.012303</td>\n      <td>0.255516</td>\n      <td>0.007626</td>\n      <td>0.619835</td>\n      <td>2.425816</td>\n      <td>0.004482</td>\n      <td>1.958317</td>\n    </tr>\n    <tr>\n      <th>3</th>\n      <td>(root vegetables, tropical fruit)</td>\n      <td>(other vegetables)</td>\n      <td>0.021047</td>\n      <td>0.193493</td>\n      <td>0.012303</td>\n      <td>0.584541</td>\n      <td>3.020999</td>\n      <td>0.008231</td>\n      <td>1.941244</td>\n    </tr>\n    <tr>\n      <th>4</th>\n      <td>(root vegetables, whole milk, tropical fruit)</td>\n      <td>(other vegetables)</td>\n      <td>0.011998</td>\n      <td>0.193493</td>\n      <td>0.007016</td>\n      <td>0.584746</td>\n      <td>3.022057</td>\n      <td>0.004694</td>\n      <td>1.942201</td>\n    </tr>\n    <tr>\n      <th>5</th>\n      <td>(root vegetables, yogurt, tropical fruit)</td>\n      <td>(whole milk)</td>\n      <td>0.008134</td>\n      <td>0.255516</td>\n      <td>0.005694</td>\n      <td>0.700000</td>\n      <td>2.739554</td>\n      <td>0.003616</td>\n      <td>2.481613</td>\n    </tr>\n    <tr>\n      <th>6</th>\n      <td>(root vegetables, yogurt, other vegetables)</td>\n      <td>(whole milk)</td>\n      <td>0.012913</td>\n      <td>0.255516</td>\n      <td>0.007829</td>\n      <td>0.606299</td>\n      <td>2.372842</td>\n      <td>0.004530</td>\n      <td>1.890989</td>\n    </tr>\n    <tr>\n      <th>7</th>\n      <td>(root vegetables, whole milk, whipped/sour cream)</td>\n      <td>(other vegetables)</td>\n      <td>0.009456</td>\n      <td>0.193493</td>\n      <td>0.005186</td>\n      <td>0.548387</td>\n      <td>2.834150</td>\n      <td>0.003356</td>\n      <td>1.785838</td>\n    </tr>\n    <tr>\n      <th>8</th>\n      <td>(root vegetables, other vegetables, whipped/so...</td>\n      <td>(whole milk)</td>\n      <td>0.008541</td>\n      <td>0.255516</td>\n      <td>0.005186</td>\n      <td>0.607143</td>\n      <td>2.376144</td>\n      <td>0.003003</td>\n      <td>1.895050</td>\n    </tr>\n    <tr>\n      <th>9</th>\n      <td>(whipped/sour cream, tropical fruit)</td>\n      <td>(other vegetables)</td>\n      <td>0.013828</td>\n      <td>0.193493</td>\n      <td>0.007829</td>\n      <td>0.566176</td>\n      <td>2.926088</td>\n      <td>0.005154</td>\n      <td>1.859068</td>\n    </tr>\n  </tbody>\n</table>\n</div>"
     },
     "execution_count": 328,
     "metadata": {},
     "output_type": "execute_result"
    }
   ],
   "source": [
    "fp.association_rules(result, metric='conviction', min_threshold=1.78)"
   ],
   "metadata": {
    "collapsed": false,
    "pycharm": {
     "name": "#%%\n"
    }
   }
  },
  {
   "cell_type": "code",
   "execution_count": 329,
   "outputs": [
    {
     "data": {
      "text/plain": "       antecedent support  consequent support    support  confidence  \\\ncount           10.000000           10.000000  10.000000   10.000000   \nmean             0.012506            0.218302   0.007483    0.603667   \nstd              0.004183            0.032029   0.002325    0.042072   \nmin              0.008134            0.193493   0.005186    0.548387   \n25%              0.009227            0.193493   0.005719    0.584592   \n50%              0.012150            0.193493   0.007321    0.596253   \n75%              0.013599            0.255516   0.007829    0.616662   \nmax              0.021047            0.255516   0.012303    0.700000   \n\n            lift   leverage  conviction  \ncount  10.000000  10.000000   10.000000  \nmean    2.802042   0.004804    1.990295  \nstd     0.315799   0.001633    0.202919  \nmin     2.372842   0.003003    1.785838  \n25%     2.504250   0.003718    1.892005  \n50%     2.880119   0.004506    1.941723  \n75%     3.021793   0.005039    1.956002  \nmax     3.273165   0.008231    2.481613  ",
      "text/html": "<div>\n<style scoped>\n    .dataframe tbody tr th:only-of-type {\n        vertical-align: middle;\n    }\n\n    .dataframe tbody tr th {\n        vertical-align: top;\n    }\n\n    .dataframe thead th {\n        text-align: right;\n    }\n</style>\n<table border=\"1\" class=\"dataframe\">\n  <thead>\n    <tr style=\"text-align: right;\">\n      <th></th>\n      <th>antecedent support</th>\n      <th>consequent support</th>\n      <th>support</th>\n      <th>confidence</th>\n      <th>lift</th>\n      <th>leverage</th>\n      <th>conviction</th>\n    </tr>\n  </thead>\n  <tbody>\n    <tr>\n      <th>count</th>\n      <td>10.000000</td>\n      <td>10.000000</td>\n      <td>10.000000</td>\n      <td>10.000000</td>\n      <td>10.000000</td>\n      <td>10.000000</td>\n      <td>10.000000</td>\n    </tr>\n    <tr>\n      <th>mean</th>\n      <td>0.012506</td>\n      <td>0.218302</td>\n      <td>0.007483</td>\n      <td>0.603667</td>\n      <td>2.802042</td>\n      <td>0.004804</td>\n      <td>1.990295</td>\n    </tr>\n    <tr>\n      <th>std</th>\n      <td>0.004183</td>\n      <td>0.032029</td>\n      <td>0.002325</td>\n      <td>0.042072</td>\n      <td>0.315799</td>\n      <td>0.001633</td>\n      <td>0.202919</td>\n    </tr>\n    <tr>\n      <th>min</th>\n      <td>0.008134</td>\n      <td>0.193493</td>\n      <td>0.005186</td>\n      <td>0.548387</td>\n      <td>2.372842</td>\n      <td>0.003003</td>\n      <td>1.785838</td>\n    </tr>\n    <tr>\n      <th>25%</th>\n      <td>0.009227</td>\n      <td>0.193493</td>\n      <td>0.005719</td>\n      <td>0.584592</td>\n      <td>2.504250</td>\n      <td>0.003718</td>\n      <td>1.892005</td>\n    </tr>\n    <tr>\n      <th>50%</th>\n      <td>0.012150</td>\n      <td>0.193493</td>\n      <td>0.007321</td>\n      <td>0.596253</td>\n      <td>2.880119</td>\n      <td>0.004506</td>\n      <td>1.941723</td>\n    </tr>\n    <tr>\n      <th>75%</th>\n      <td>0.013599</td>\n      <td>0.255516</td>\n      <td>0.007829</td>\n      <td>0.616662</td>\n      <td>3.021793</td>\n      <td>0.005039</td>\n      <td>1.956002</td>\n    </tr>\n    <tr>\n      <th>max</th>\n      <td>0.021047</td>\n      <td>0.255516</td>\n      <td>0.012303</td>\n      <td>0.700000</td>\n      <td>3.273165</td>\n      <td>0.008231</td>\n      <td>2.481613</td>\n    </tr>\n  </tbody>\n</table>\n</div>"
     },
     "execution_count": 329,
     "metadata": {},
     "output_type": "execute_result"
    }
   ],
   "source": [
    "rules.iloc[:,2:].describe()"
   ],
   "metadata": {
    "collapsed": false,
    "pycharm": {
     "name": "#%%\n"
    }
   }
  },
  {
   "cell_type": "code",
   "execution_count": 343,
   "outputs": [
    {
     "data": {
      "text/plain": "(-1.2037113774881274,\n 1.1438197345179113,\n -0.7278747687439088,\n 0.7814927705774435)"
     },
     "execution_count": 343,
     "metadata": {},
     "output_type": "execute_result"
    },
    {
     "data": {
      "text/plain": "<Figure size 432x288 with 1 Axes>",
      "image/png": "[encoded data removed]"
     },
     "metadata": {},
     "output_type": "display_data"
    }
   ],
   "source": [
    "result = fp.fpgrowth(data, min_support=0.035, use_colnames=True)\n",
    "rules = fp.association_rules(result, min_threshold=0.3, metric='confidence')\n",
    "\n",
    "digraph = nx.DiGraph()\n",
    "for i in range(rules.shape[0]):\n",
    "    digraph.add_edge(rules.iloc[i].antecedents, rules.iloc[i].consequents, weight=rules.iloc[i].support, label=round(rules.iloc[i].confidence,3))\n",
    "\n",
    "pos = nx.spring_layout(digraph)\n",
    "nx.draw(digraph, pos, labels={node: str(list(node)) for node in digraph.nodes()}, width=[digraph[u][v]['weight'] for u,v in digraph.edges()], node_size=100)\n",
    "nx.draw_networkx_edge_labels(digraph, pos, edge_labels=nx.get_edge_attributes(digraph, 'label'))\n",
    "plt.axis('off')"
   ],
   "metadata": {
    "collapsed": false,
    "pycharm": {
     "name": "#%%\n"
    }
   }
  },
  {
   "cell_type": "code",
   "execution_count": 344,
   "outputs": [
    {
     "data": {
      "text/plain": "          antecedents         consequents  antecedent support  \\\n0            (yogurt)        (whole milk)            0.139502   \n1            (yogurt)  (other vegetables)            0.139502   \n2    (tropical fruit)  (other vegetables)            0.104931   \n3    (tropical fruit)        (whole milk)            0.104931   \n4  (other vegetables)        (whole milk)            0.193493   \n5        (rolls/buns)        (whole milk)            0.183935   \n6   (root vegetables)  (other vegetables)            0.108998   \n7   (root vegetables)        (whole milk)            0.108998   \n\n   consequent support   support  confidence      lift  leverage  conviction  \n0            0.255516  0.056024    0.401603  1.571735  0.020379    1.244132  \n1            0.193493  0.043416    0.311224  1.608457  0.016424    1.170929  \n2            0.193493  0.035892    0.342054  1.767790  0.015589    1.225796  \n3            0.255516  0.042298    0.403101  1.577595  0.015486    1.247252  \n4            0.255516  0.074835    0.386758  1.513634  0.025394    1.214013  \n5            0.255516  0.056634    0.307905  1.205032  0.009636    1.075696  \n6            0.193493  0.047382    0.434701  2.246605  0.026291    1.426693  \n7            0.255516  0.048907    0.448694  1.756031  0.021056    1.350401  ",
      "text/html": "<div>\n<style scoped>\n    .dataframe tbody tr th:only-of-type {\n        vertical-align: middle;\n    }\n\n    .dataframe tbody tr th {\n        vertical-align: top;\n    }\n\n    .dataframe thead th {\n        text-align: right;\n    }\n</style>\n<table border=\"1\" class=\"dataframe\">\n  <thead>\n    <tr style=\"text-align: right;\">\n      <th></th>\n      <th>antecedents</th>\n      <th>consequents</th>\n      <th>antecedent support</th>\n      <th>consequent support</th>\n      <th>support</th>\n      <th>confidence</th>\n      <th>lift</th>\n      <th>leverage</th>\n      <th>conviction</th>\n    </tr>\n  </thead>\n  <tbody>\n    <tr>\n      <th>0</th>\n      <td>(yogurt)</td>\n      <td>(whole milk)</td>\n      <td>0.139502</td>\n      <td>0.255516</td>\n      <td>0.056024</td>\n      <td>0.401603</td>\n      <td>1.571735</td>\n      <td>0.020379</td>\n      <td>1.244132</td>\n    </tr>\n    <tr>\n      <th>1</th>\n      <td>(yogurt)</td>\n      <td>(other vegetables)</td>\n      <td>0.139502</td>\n      <td>0.193493</td>\n      <td>0.043416</td>\n      <td>0.311224</td>\n      <td>1.608457</td>\n      <td>0.016424</td>\n      <td>1.170929</td>\n    </tr>\n    <tr>\n      <th>2</th>\n      <td>(tropical fruit)</td>\n      <td>(other vegetables)</td>\n      <td>0.104931</td>\n      <td>0.193493</td>\n      <td>0.035892</td>\n      <td>0.342054</td>\n      <td>1.767790</td>\n      <td>0.015589</td>\n      <td>1.225796</td>\n    </tr>\n    <tr>\n      <th>3</th>\n      <td>(tropical fruit)</td>\n      <td>(whole milk)</td>\n      <td>0.104931</td>\n      <td>0.255516</td>\n      <td>0.042298</td>\n      <td>0.403101</td>\n      <td>1.577595</td>\n      <td>0.015486</td>\n      <td>1.247252</td>\n    </tr>\n    <tr>\n      <th>4</th>\n      <td>(other vegetables)</td>\n      <td>(whole milk)</td>\n      <td>0.193493</td>\n      <td>0.255516</td>\n      <td>0.074835</td>\n      <td>0.386758</td>\n      <td>1.513634</td>\n      <td>0.025394</td>\n      <td>1.214013</td>\n    </tr>\n    <tr>\n      <th>5</th>\n      <td>(rolls/buns)</td>\n      <td>(whole milk)</td>\n      <td>0.183935</td>\n      <td>0.255516</td>\n      <td>0.056634</td>\n      <td>0.307905</td>\n      <td>1.205032</td>\n      <td>0.009636</td>\n      <td>1.075696</td>\n    </tr>\n    <tr>\n      <th>6</th>\n      <td>(root vegetables)</td>\n      <td>(other vegetables)</td>\n      <td>0.108998</td>\n      <td>0.193493</td>\n      <td>0.047382</td>\n      <td>0.434701</td>\n      <td>2.246605</td>\n      <td>0.026291</td>\n      <td>1.426693</td>\n    </tr>\n    <tr>\n      <th>7</th>\n      <td>(root vegetables)</td>\n      <td>(whole milk)</td>\n      <td>0.108998</td>\n      <td>0.255516</td>\n      <td>0.048907</td>\n      <td>0.448694</td>\n      <td>1.756031</td>\n      <td>0.021056</td>\n      <td>1.350401</td>\n    </tr>\n  </tbody>\n</table>\n</div>"
     },
     "execution_count": 344,
     "metadata": {},
     "output_type": "execute_result"
    }
   ],
   "source": [
    "pd.DataFrame(rules)"
   ],
   "metadata": {
    "collapsed": false,
    "pycharm": {
     "name": "#%%\n"
    }
   }
  }
 ],
 "metadata": {
  "kernelspec": {
   "display_name": "Python 3",
   "language": "python",
   "name": "python3"
  },
  "language_info": {
   "codemirror_mode": {
    "name": "ipython",
    "version": 2
   },
   "file_extension": ".py",
   "mimetype": "text/x-python",
   "name": "python",
   "nbconvert_exporter": "python",
   "pygments_lexer": "ipython2",
   "version": "2.7.6"
  }
 },
 "nbformat": 4,
 "nbformat_minor": 0
}